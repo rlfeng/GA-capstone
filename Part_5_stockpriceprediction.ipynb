{
 "cells": [
  {
   "cell_type": "markdown",
   "metadata": {},
   "source": [
    "# Capstone Project: Social media sentiment analysis\n",
    "## Part 5: Samsung stock prediction based on YouTube sentiments"
   ]
  },
  {
   "cell_type": "code",
   "execution_count": 1,
   "metadata": {},
   "outputs": [
    {
     "name": "stderr",
     "output_type": "stream",
     "text": [
      "C:\\Users\\frl\\anaconda3\\lib\\site-packages\\sklearn\\utils\\deprecation.py:144: FutureWarning: The sklearn.feature_extraction.stop_words module is  deprecated in version 0.22 and will be removed in version 0.24. The corresponding classes / functions should instead be imported from sklearn.feature_extraction.text. Anything that cannot be imported from sklearn.feature_extraction.text is now part of the private API.\n",
      "  warnings.warn(message, FutureWarning)\n"
     ]
    }
   ],
   "source": [
    "# Import libraries\n",
    "import requests\n",
    "import json\n",
    "import pandas as pd\n",
    "import numpy as np\n",
    "import time\n",
    "import random\n",
    "import re\n",
    "import csv\n",
    "\n",
    "from sklearn.feature_extraction import stop_words\n",
    "from sklearn.feature_extraction.text import CountVectorizer, HashingVectorizer, TfidfVectorizer\n",
    "from bs4 import BeautifulSoup\n",
    "from nltk.corpus import stopwords\n",
    "from nltk.stem import WordNetLemmatizer\n",
    "from nltk.sentiment.vader import SentimentIntensityAnalyzer\n",
    "\n",
    "from sklearn.linear_model import LogisticRegression, LinearRegression\n",
    "from sklearn.model_selection import train_test_split, cross_val_score, GridSearchCV\n",
    "from sklearn.naive_bayes import MultinomialNB, BernoulliNB\n",
    "from sklearn.neighbors import KNeighborsClassifier\n",
    "from sklearn.pipeline import Pipeline\n",
    "from sklearn.preprocessing import StandardScaler, PolynomialFeatures\n",
    "from sklearn import metrics\n",
    "from sklearn.tree import DecisionTreeRegressor\n",
    "from sklearn.ensemble import RandomForestRegressor\n",
    "from sklearn.metrics import mean_absolute_error,mean_squared_error, roc_auc_score, roc_curve, confusion_matrix, accuracy_score, f1_score, precision_score, recall_score,auc\n",
    "\n",
    "import matplotlib.pyplot as plt\n",
    "import seaborn as sns\n",
    "%matplotlib inline"
   ]
  },
  {
   "cell_type": "markdown",
   "metadata": {},
   "source": [
    "The focus of the project is on sentiment analysis and topic modeling. This part on stock price prediction is an additional idea. Given the focus of the project was not on stock price prediction, the previously scrapped Twitter and YouTube comments could only provide at most 40 days of sentiments. \n",
    "\n",
    "Major limitation: There is only 40-50 days of YouTube comments on Samsung. This means that there is only 40 data points for stock price train and test. "
   ]
  },
  {
   "cell_type": "code",
   "execution_count": 36,
   "metadata": {},
   "outputs": [],
   "source": [
    "youtube_samsung_sentiment=pd.read_csv('./dataset/youtube_samsung_sentiment.csv')"
   ]
  },
  {
   "cell_type": "code",
   "execution_count": 37,
   "metadata": {},
   "outputs": [
    {
     "data": {
      "text/html": [
       "<div>\n",
       "<style scoped>\n",
       "    .dataframe tbody tr th:only-of-type {\n",
       "        vertical-align: middle;\n",
       "    }\n",
       "\n",
       "    .dataframe tbody tr th {\n",
       "        vertical-align: top;\n",
       "    }\n",
       "\n",
       "    .dataframe thead th {\n",
       "        text-align: right;\n",
       "    }\n",
       "</style>\n",
       "<table border=\"1\" class=\"dataframe\">\n",
       "  <thead>\n",
       "    <tr style=\"text-align: right;\">\n",
       "      <th></th>\n",
       "      <th>comments</th>\n",
       "      <th>date</th>\n",
       "      <th>sentiment</th>\n",
       "    </tr>\n",
       "  </thead>\n",
       "  <tbody>\n",
       "    <tr>\n",
       "      <th>0</th>\n",
       "      <td>😱😱😱so cool</td>\n",
       "      <td>2020-04-13T20:35:50.000Z</td>\n",
       "      <td>0.3182</td>\n",
       "    </tr>\n",
       "    <tr>\n",
       "      <th>1</th>\n",
       "      <td>Már bánom hogy megvettem! Retek szar exynos pr...</td>\n",
       "      <td>2020-04-13T18:07:07.000Z</td>\n",
       "      <td>0.4738</td>\n",
       "    </tr>\n",
       "    <tr>\n",
       "      <th>2</th>\n",
       "      <td>هاتف رائع</td>\n",
       "      <td>2020-04-13T15:51:08.000Z</td>\n",
       "      <td>0.0000</td>\n",
       "    </tr>\n",
       "    <tr>\n",
       "      <th>3</th>\n",
       "      <td>Whose watching this on an s20 ultra</td>\n",
       "      <td>2020-04-13T14:05:00.000Z</td>\n",
       "      <td>0.0000</td>\n",
       "    </tr>\n",
       "    <tr>\n",
       "      <th>4</th>\n",
       "      <td>samsung: ‘intelligent battery control’&lt;br /&gt;ex...</td>\n",
       "      <td>2020-04-13T09:42:06.000Z</td>\n",
       "      <td>0.0000</td>\n",
       "    </tr>\n",
       "  </tbody>\n",
       "</table>\n",
       "</div>"
      ],
      "text/plain": [
       "                                            comments  \\\n",
       "0                                         😱😱😱so cool   \n",
       "1  Már bánom hogy megvettem! Retek szar exynos pr...   \n",
       "2                                          هاتف رائع   \n",
       "3                Whose watching this on an s20 ultra   \n",
       "4  samsung: ‘intelligent battery control’<br />ex...   \n",
       "\n",
       "                       date  sentiment  \n",
       "0  2020-04-13T20:35:50.000Z     0.3182  \n",
       "1  2020-04-13T18:07:07.000Z     0.4738  \n",
       "2  2020-04-13T15:51:08.000Z     0.0000  \n",
       "3  2020-04-13T14:05:00.000Z     0.0000  \n",
       "4  2020-04-13T09:42:06.000Z     0.0000  "
      ]
     },
     "execution_count": 37,
     "metadata": {},
     "output_type": "execute_result"
    }
   ],
   "source": [
    "youtube_samsung_sentiment.head()"
   ]
  },
  {
   "cell_type": "code",
   "execution_count": 5,
   "metadata": {
    "scrolled": true
   },
   "outputs": [],
   "source": [
    "# Convert the format of 'date' from yyyy-mm-dd(time) to dd/mm/yyyy. This is to merge with the stock price data later.\n",
    "youtube_samsung_sentiment['date']=youtube_samsung_sentiment['date'].str[6:10]+'/'"
   ]
  },
  {
   "cell_type": "code",
   "execution_count": 6,
   "metadata": {},
   "outputs": [],
   "source": [
    "newdate=[]\n",
    "for i in range(youtube_samsung_sentiment.shape[0]):\n",
    "    date=youtube_samsung_sentiment['date'][i][2:]+youtube_samsung_sentiment['date'][i][0]+'/2020'\n",
    "    newdate.append(date)"
   ]
  },
  {
   "cell_type": "code",
   "execution_count": 7,
   "metadata": {},
   "outputs": [],
   "source": [
    "youtube_samsung_sentiment['date']=newdate"
   ]
  },
  {
   "cell_type": "code",
   "execution_count": 8,
   "metadata": {},
   "outputs": [],
   "source": [
    "for date in youtube_samsung_sentiment['date']:\n",
    "    youtube_samsung_sentiment['date'] = youtube_samsung_sentiment['date'].apply(lambda x : x[1:] if x.startswith(\"0\") else x)"
   ]
  },
  {
   "cell_type": "code",
   "execution_count": 9,
   "metadata": {},
   "outputs": [],
   "source": [
    "# Get average sentiment for each day\n",
    "youtube_samsung_sentiment_mean = pd.DataFrame(youtube_samsung_sentiment.groupby(['date'],as_index=False).mean())"
   ]
  },
  {
   "cell_type": "code",
   "execution_count": 38,
   "metadata": {},
   "outputs": [
    {
     "data": {
      "text/html": [
       "<div>\n",
       "<style scoped>\n",
       "    .dataframe tbody tr th:only-of-type {\n",
       "        vertical-align: middle;\n",
       "    }\n",
       "\n",
       "    .dataframe tbody tr th {\n",
       "        vertical-align: top;\n",
       "    }\n",
       "\n",
       "    .dataframe thead th {\n",
       "        text-align: right;\n",
       "    }\n",
       "</style>\n",
       "<table border=\"1\" class=\"dataframe\">\n",
       "  <thead>\n",
       "    <tr style=\"text-align: right;\">\n",
       "      <th></th>\n",
       "      <th>date</th>\n",
       "      <th>sentiment</th>\n",
       "    </tr>\n",
       "  </thead>\n",
       "  <tbody>\n",
       "    <tr>\n",
       "      <th>0</th>\n",
       "      <td>1/3/2020</td>\n",
       "      <td>0.013170</td>\n",
       "    </tr>\n",
       "    <tr>\n",
       "      <th>1</th>\n",
       "      <td>1/4/2020</td>\n",
       "      <td>0.288583</td>\n",
       "    </tr>\n",
       "    <tr>\n",
       "      <th>2</th>\n",
       "      <td>10/3/2020</td>\n",
       "      <td>0.256727</td>\n",
       "    </tr>\n",
       "    <tr>\n",
       "      <th>3</th>\n",
       "      <td>10/4/2020</td>\n",
       "      <td>0.346750</td>\n",
       "    </tr>\n",
       "    <tr>\n",
       "      <th>4</th>\n",
       "      <td>11/2/2020</td>\n",
       "      <td>0.101022</td>\n",
       "    </tr>\n",
       "  </tbody>\n",
       "</table>\n",
       "</div>"
      ],
      "text/plain": [
       "        date  sentiment\n",
       "0   1/3/2020   0.013170\n",
       "1   1/4/2020   0.288583\n",
       "2  10/3/2020   0.256727\n",
       "3  10/4/2020   0.346750\n",
       "4  11/2/2020   0.101022"
      ]
     },
     "execution_count": 38,
     "metadata": {},
     "output_type": "execute_result"
    }
   ],
   "source": [
    "youtube_samsung_sentiment_mean.head()"
   ]
  },
  {
   "cell_type": "code",
   "execution_count": 11,
   "metadata": {},
   "outputs": [],
   "source": [
    "# Samsung Electonics obtained from Yahoo finance\n",
    "samsung_stock=pd.read_csv('./dataset/SSUN.F.csv')"
   ]
  },
  {
   "cell_type": "code",
   "execution_count": 12,
   "metadata": {},
   "outputs": [
    {
     "data": {
      "text/html": [
       "<div>\n",
       "<style scoped>\n",
       "    .dataframe tbody tr th:only-of-type {\n",
       "        vertical-align: middle;\n",
       "    }\n",
       "\n",
       "    .dataframe tbody tr th {\n",
       "        vertical-align: top;\n",
       "    }\n",
       "\n",
       "    .dataframe thead th {\n",
       "        text-align: right;\n",
       "    }\n",
       "</style>\n",
       "<table border=\"1\" class=\"dataframe\">\n",
       "  <thead>\n",
       "    <tr style=\"text-align: right;\">\n",
       "      <th></th>\n",
       "      <th>date</th>\n",
       "      <th>open</th>\n",
       "      <th>high</th>\n",
       "      <th>low</th>\n",
       "      <th>close</th>\n",
       "      <th>adj close</th>\n",
       "      <th>volume</th>\n",
       "    </tr>\n",
       "  </thead>\n",
       "  <tbody>\n",
       "    <tr>\n",
       "      <th>0</th>\n",
       "      <td>11/2/2020</td>\n",
       "      <td>983</td>\n",
       "      <td>989</td>\n",
       "      <td>983</td>\n",
       "      <td>986</td>\n",
       "      <td>986</td>\n",
       "      <td>176</td>\n",
       "    </tr>\n",
       "    <tr>\n",
       "      <th>1</th>\n",
       "      <td>12/2/2020</td>\n",
       "      <td>989</td>\n",
       "      <td>997</td>\n",
       "      <td>986</td>\n",
       "      <td>997</td>\n",
       "      <td>997</td>\n",
       "      <td>266</td>\n",
       "    </tr>\n",
       "    <tr>\n",
       "      <th>2</th>\n",
       "      <td>13/2/2020</td>\n",
       "      <td>999</td>\n",
       "      <td>999</td>\n",
       "      <td>983</td>\n",
       "      <td>993</td>\n",
       "      <td>993</td>\n",
       "      <td>186</td>\n",
       "    </tr>\n",
       "    <tr>\n",
       "      <th>3</th>\n",
       "      <td>14/2/2020</td>\n",
       "      <td>1022</td>\n",
       "      <td>1024</td>\n",
       "      <td>1016</td>\n",
       "      <td>1020</td>\n",
       "      <td>1020</td>\n",
       "      <td>472</td>\n",
       "    </tr>\n",
       "    <tr>\n",
       "      <th>4</th>\n",
       "      <td>17/2/2020</td>\n",
       "      <td>1028</td>\n",
       "      <td>1028</td>\n",
       "      <td>1014</td>\n",
       "      <td>1018</td>\n",
       "      <td>1018</td>\n",
       "      <td>308</td>\n",
       "    </tr>\n",
       "  </tbody>\n",
       "</table>\n",
       "</div>"
      ],
      "text/plain": [
       "        date  open  high   low  close  adj close  volume\n",
       "0  11/2/2020   983   989   983    986        986     176\n",
       "1  12/2/2020   989   997   986    997        997     266\n",
       "2  13/2/2020   999   999   983    993        993     186\n",
       "3  14/2/2020  1022  1024  1016   1020       1020     472\n",
       "4  17/2/2020  1028  1028  1014   1018       1018     308"
      ]
     },
     "execution_count": 12,
     "metadata": {},
     "output_type": "execute_result"
    }
   ],
   "source": [
    "samsung_stock.columns=[x.lower() for x in samsung_stock.columns]\n",
    "samsung_stock.head()"
   ]
  },
  {
   "cell_type": "code",
   "execution_count": 13,
   "metadata": {},
   "outputs": [],
   "source": [
    "# Merge the sentiment data with stock price data based on date\n",
    "samsung_stock_sentiment=pd.merge(samsung_stock,youtube_samsung_sentiment_mean,on='date')"
   ]
  },
  {
   "cell_type": "code",
   "execution_count": 14,
   "metadata": {},
   "outputs": [
    {
     "name": "stdout",
     "output_type": "stream",
     "text": [
      "<class 'pandas.core.frame.DataFrame'>\n",
      "Int64Index: 43 entries, 0 to 42\n",
      "Data columns (total 8 columns):\n",
      "date         43 non-null object\n",
      "open         43 non-null int64\n",
      "high         43 non-null int64\n",
      "low          43 non-null int64\n",
      "close        43 non-null int64\n",
      "adj close    43 non-null int64\n",
      "volume       43 non-null int64\n",
      "sentiment    43 non-null float64\n",
      "dtypes: float64(1), int64(6), object(1)\n",
      "memory usage: 3.0+ KB\n"
     ]
    }
   ],
   "source": [
    "samsung_stock_sentiment.info()"
   ]
  },
  {
   "cell_type": "code",
   "execution_count": 15,
   "metadata": {},
   "outputs": [
    {
     "data": {
      "text/plain": [
       "<matplotlib.axes._subplots.AxesSubplot at 0x16279bf9860>"
      ]
     },
     "execution_count": 15,
     "metadata": {},
     "output_type": "execute_result"
    },
    {
     "data": {
      "image/png": "[encoded data removed]",
      "text/plain": [
       "<Figure size 432x288 with 2 Axes>"
      ]
     },
     "metadata": {
      "needs_background": "light"
     },
     "output_type": "display_data"
    }
   ],
   "source": [
    "# Check correlation between sentiment and stock prices\n",
    "sns.heatmap(samsung_stock_sentiment.corr(),annot=True)"
   ]
  },
  {
   "cell_type": "code",
   "execution_count": 16,
   "metadata": {},
   "outputs": [],
   "source": [
    "samsung_stock_sentiment.to_csv('./dataset/samsung_stock_sentiment.csv')"
   ]
  },
  {
   "cell_type": "code",
   "execution_count": 17,
   "metadata": {},
   "outputs": [],
   "source": [
    "# For this project, I'll only focus on 'close' price. \n",
    "samsung_stock_sentiment.drop(columns=['open','high','low','adj close','volume'],inplace=True)"
   ]
  },
  {
   "cell_type": "code",
   "execution_count": 18,
   "metadata": {},
   "outputs": [
    {
     "data": {
      "text/html": [
       "<div>\n",
       "<style scoped>\n",
       "    .dataframe tbody tr th:only-of-type {\n",
       "        vertical-align: middle;\n",
       "    }\n",
       "\n",
       "    .dataframe tbody tr th {\n",
       "        vertical-align: top;\n",
       "    }\n",
       "\n",
       "    .dataframe thead th {\n",
       "        text-align: right;\n",
       "    }\n",
       "</style>\n",
       "<table border=\"1\" class=\"dataframe\">\n",
       "  <thead>\n",
       "    <tr style=\"text-align: right;\">\n",
       "      <th></th>\n",
       "      <th>date</th>\n",
       "      <th>close</th>\n",
       "      <th>sentiment</th>\n",
       "    </tr>\n",
       "  </thead>\n",
       "  <tbody>\n",
       "    <tr>\n",
       "      <th>0</th>\n",
       "      <td>11/2/2020</td>\n",
       "      <td>986</td>\n",
       "      <td>0.101022</td>\n",
       "    </tr>\n",
       "    <tr>\n",
       "      <th>1</th>\n",
       "      <td>12/2/2020</td>\n",
       "      <td>997</td>\n",
       "      <td>0.110758</td>\n",
       "    </tr>\n",
       "    <tr>\n",
       "      <th>2</th>\n",
       "      <td>13/2/2020</td>\n",
       "      <td>993</td>\n",
       "      <td>0.120941</td>\n",
       "    </tr>\n",
       "    <tr>\n",
       "      <th>3</th>\n",
       "      <td>14/2/2020</td>\n",
       "      <td>1020</td>\n",
       "      <td>0.118883</td>\n",
       "    </tr>\n",
       "    <tr>\n",
       "      <th>4</th>\n",
       "      <td>17/2/2020</td>\n",
       "      <td>1018</td>\n",
       "      <td>0.079630</td>\n",
       "    </tr>\n",
       "    <tr>\n",
       "      <th>5</th>\n",
       "      <td>18/2/2020</td>\n",
       "      <td>983</td>\n",
       "      <td>0.109610</td>\n",
       "    </tr>\n",
       "    <tr>\n",
       "      <th>6</th>\n",
       "      <td>19/2/2020</td>\n",
       "      <td>996</td>\n",
       "      <td>0.112777</td>\n",
       "    </tr>\n",
       "    <tr>\n",
       "      <th>7</th>\n",
       "      <td>20/2/2020</td>\n",
       "      <td>960</td>\n",
       "      <td>0.207237</td>\n",
       "    </tr>\n",
       "    <tr>\n",
       "      <th>8</th>\n",
       "      <td>21/2/2020</td>\n",
       "      <td>954</td>\n",
       "      <td>0.113513</td>\n",
       "    </tr>\n",
       "    <tr>\n",
       "      <th>9</th>\n",
       "      <td>24/2/2020</td>\n",
       "      <td>891</td>\n",
       "      <td>0.215431</td>\n",
       "    </tr>\n",
       "    <tr>\n",
       "      <th>10</th>\n",
       "      <td>25/2/2020</td>\n",
       "      <td>911</td>\n",
       "      <td>0.173879</td>\n",
       "    </tr>\n",
       "    <tr>\n",
       "      <th>11</th>\n",
       "      <td>26/2/2020</td>\n",
       "      <td>901</td>\n",
       "      <td>0.067650</td>\n",
       "    </tr>\n",
       "    <tr>\n",
       "      <th>12</th>\n",
       "      <td>27/2/2020</td>\n",
       "      <td>860</td>\n",
       "      <td>0.117374</td>\n",
       "    </tr>\n",
       "    <tr>\n",
       "      <th>13</th>\n",
       "      <td>28/2/2020</td>\n",
       "      <td>851</td>\n",
       "      <td>0.064400</td>\n",
       "    </tr>\n",
       "    <tr>\n",
       "      <th>14</th>\n",
       "      <td>2/3/2020</td>\n",
       "      <td>900</td>\n",
       "      <td>0.104938</td>\n",
       "    </tr>\n",
       "    <tr>\n",
       "      <th>15</th>\n",
       "      <td>3/3/2020</td>\n",
       "      <td>886</td>\n",
       "      <td>0.106340</td>\n",
       "    </tr>\n",
       "    <tr>\n",
       "      <th>16</th>\n",
       "      <td>4/3/2020</td>\n",
       "      <td>916</td>\n",
       "      <td>0.113820</td>\n",
       "    </tr>\n",
       "    <tr>\n",
       "      <th>17</th>\n",
       "      <td>5/3/2020</td>\n",
       "      <td>907</td>\n",
       "      <td>0.107009</td>\n",
       "    </tr>\n",
       "    <tr>\n",
       "      <th>18</th>\n",
       "      <td>6/3/2020</td>\n",
       "      <td>870</td>\n",
       "      <td>0.086850</td>\n",
       "    </tr>\n",
       "    <tr>\n",
       "      <th>19</th>\n",
       "      <td>9/3/2020</td>\n",
       "      <td>810</td>\n",
       "      <td>0.041020</td>\n",
       "    </tr>\n",
       "    <tr>\n",
       "      <th>20</th>\n",
       "      <td>10/3/2020</td>\n",
       "      <td>841</td>\n",
       "      <td>0.256727</td>\n",
       "    </tr>\n",
       "    <tr>\n",
       "      <th>21</th>\n",
       "      <td>11/3/2020</td>\n",
       "      <td>805</td>\n",
       "      <td>0.184336</td>\n",
       "    </tr>\n",
       "    <tr>\n",
       "      <th>22</th>\n",
       "      <td>12/3/2020</td>\n",
       "      <td>728</td>\n",
       "      <td>0.291511</td>\n",
       "    </tr>\n",
       "    <tr>\n",
       "      <th>23</th>\n",
       "      <td>13/3/2020</td>\n",
       "      <td>777</td>\n",
       "      <td>0.131752</td>\n",
       "    </tr>\n",
       "    <tr>\n",
       "      <th>24</th>\n",
       "      <td>16/3/2020</td>\n",
       "      <td>723</td>\n",
       "      <td>-0.152682</td>\n",
       "    </tr>\n",
       "    <tr>\n",
       "      <th>25</th>\n",
       "      <td>17/3/2020</td>\n",
       "      <td>722</td>\n",
       "      <td>0.105688</td>\n",
       "    </tr>\n",
       "    <tr>\n",
       "      <th>26</th>\n",
       "      <td>18/3/2020</td>\n",
       "      <td>669</td>\n",
       "      <td>0.105069</td>\n",
       "    </tr>\n",
       "    <tr>\n",
       "      <th>27</th>\n",
       "      <td>19/3/2020</td>\n",
       "      <td>680</td>\n",
       "      <td>0.123386</td>\n",
       "    </tr>\n",
       "    <tr>\n",
       "      <th>28</th>\n",
       "      <td>20/3/2020</td>\n",
       "      <td>730</td>\n",
       "      <td>0.086300</td>\n",
       "    </tr>\n",
       "    <tr>\n",
       "      <th>29</th>\n",
       "      <td>23/3/2020</td>\n",
       "      <td>668</td>\n",
       "      <td>0.047909</td>\n",
       "    </tr>\n",
       "    <tr>\n",
       "      <th>30</th>\n",
       "      <td>24/3/2020</td>\n",
       "      <td>755</td>\n",
       "      <td>-0.024550</td>\n",
       "    </tr>\n",
       "    <tr>\n",
       "      <th>31</th>\n",
       "      <td>25/3/2020</td>\n",
       "      <td>772</td>\n",
       "      <td>0.015364</td>\n",
       "    </tr>\n",
       "    <tr>\n",
       "      <th>32</th>\n",
       "      <td>26/3/2020</td>\n",
       "      <td>794</td>\n",
       "      <td>0.133858</td>\n",
       "    </tr>\n",
       "    <tr>\n",
       "      <th>33</th>\n",
       "      <td>27/3/2020</td>\n",
       "      <td>736</td>\n",
       "      <td>0.156900</td>\n",
       "    </tr>\n",
       "    <tr>\n",
       "      <th>34</th>\n",
       "      <td>30/3/2020</td>\n",
       "      <td>765</td>\n",
       "      <td>0.143500</td>\n",
       "    </tr>\n",
       "    <tr>\n",
       "      <th>35</th>\n",
       "      <td>31/3/2020</td>\n",
       "      <td>759</td>\n",
       "      <td>0.190411</td>\n",
       "    </tr>\n",
       "    <tr>\n",
       "      <th>36</th>\n",
       "      <td>1/4/2020</td>\n",
       "      <td>720</td>\n",
       "      <td>0.288583</td>\n",
       "    </tr>\n",
       "    <tr>\n",
       "      <th>37</th>\n",
       "      <td>2/4/2020</td>\n",
       "      <td>740</td>\n",
       "      <td>0.209517</td>\n",
       "    </tr>\n",
       "    <tr>\n",
       "      <th>38</th>\n",
       "      <td>3/4/2020</td>\n",
       "      <td>748</td>\n",
       "      <td>0.183125</td>\n",
       "    </tr>\n",
       "    <tr>\n",
       "      <th>39</th>\n",
       "      <td>6/4/2020</td>\n",
       "      <td>775</td>\n",
       "      <td>0.161840</td>\n",
       "    </tr>\n",
       "    <tr>\n",
       "      <th>40</th>\n",
       "      <td>7/4/2020</td>\n",
       "      <td>806</td>\n",
       "      <td>0.111860</td>\n",
       "    </tr>\n",
       "    <tr>\n",
       "      <th>41</th>\n",
       "      <td>8/4/2020</td>\n",
       "      <td>805</td>\n",
       "      <td>0.299567</td>\n",
       "    </tr>\n",
       "    <tr>\n",
       "      <th>42</th>\n",
       "      <td>9/4/2020</td>\n",
       "      <td>798</td>\n",
       "      <td>0.247760</td>\n",
       "    </tr>\n",
       "  </tbody>\n",
       "</table>\n",
       "</div>"
      ],
      "text/plain": [
       "         date  close  sentiment\n",
       "0   11/2/2020    986   0.101022\n",
       "1   12/2/2020    997   0.110758\n",
       "2   13/2/2020    993   0.120941\n",
       "3   14/2/2020   1020   0.118883\n",
       "4   17/2/2020   1018   0.079630\n",
       "5   18/2/2020    983   0.109610\n",
       "6   19/2/2020    996   0.112777\n",
       "7   20/2/2020    960   0.207237\n",
       "8   21/2/2020    954   0.113513\n",
       "9   24/2/2020    891   0.215431\n",
       "10  25/2/2020    911   0.173879\n",
       "11  26/2/2020    901   0.067650\n",
       "12  27/2/2020    860   0.117374\n",
       "13  28/2/2020    851   0.064400\n",
       "14   2/3/2020    900   0.104938\n",
       "15   3/3/2020    886   0.106340\n",
       "16   4/3/2020    916   0.113820\n",
       "17   5/3/2020    907   0.107009\n",
       "18   6/3/2020    870   0.086850\n",
       "19   9/3/2020    810   0.041020\n",
       "20  10/3/2020    841   0.256727\n",
       "21  11/3/2020    805   0.184336\n",
       "22  12/3/2020    728   0.291511\n",
       "23  13/3/2020    777   0.131752\n",
       "24  16/3/2020    723  -0.152682\n",
       "25  17/3/2020    722   0.105688\n",
       "26  18/3/2020    669   0.105069\n",
       "27  19/3/2020    680   0.123386\n",
       "28  20/3/2020    730   0.086300\n",
       "29  23/3/2020    668   0.047909\n",
       "30  24/3/2020    755  -0.024550\n",
       "31  25/3/2020    772   0.015364\n",
       "32  26/3/2020    794   0.133858\n",
       "33  27/3/2020    736   0.156900\n",
       "34  30/3/2020    765   0.143500\n",
       "35  31/3/2020    759   0.190411\n",
       "36   1/4/2020    720   0.288583\n",
       "37   2/4/2020    740   0.209517\n",
       "38   3/4/2020    748   0.183125\n",
       "39   6/4/2020    775   0.161840\n",
       "40   7/4/2020    806   0.111860\n",
       "41   8/4/2020    805   0.299567\n",
       "42   9/4/2020    798   0.247760"
      ]
     },
     "execution_count": 18,
     "metadata": {},
     "output_type": "execute_result"
    }
   ],
   "source": [
    "# Same day data is used for price and sentiment because the stock market is assumed to adjust timely to public sentiments\n",
    "samsung_stock_sentiment"
   ]
  },
  {
   "cell_type": "code",
   "execution_count": 19,
   "metadata": {},
   "outputs": [],
   "source": [
    "X=samsung_stock_sentiment['sentiment'].values.reshape(-1,1)\n",
    "y=samsung_stock_sentiment['close'].values.reshape(-1,1)"
   ]
  },
  {
   "cell_type": "code",
   "execution_count": 20,
   "metadata": {},
   "outputs": [
    {
     "data": {
      "text/plain": [
       "835.4883720930233"
      ]
     },
     "execution_count": 20,
     "metadata": {},
     "output_type": "execute_result"
    }
   ],
   "source": [
    "#baseline\n",
    "y_mean=y.mean()\n",
    "y_mean"
   ]
  },
  {
   "cell_type": "code",
   "execution_count": 21,
   "metadata": {},
   "outputs": [],
   "source": [
    "# Split test and train data manually to ensure that the first 32 data points are used for training and next 11 data points are for test\n",
    "X_train=samsung_stock_sentiment['sentiment'][0:32].values.reshape(-1,1)\n",
    "y_train=samsung_stock_sentiment['close'][0:32].values.reshape(-1,1)\n",
    "X_test=samsung_stock_sentiment['sentiment'][32::].values.reshape(-1,1)\n",
    "y_test=samsung_stock_sentiment['close'][32::].values.reshape(-1,1)"
   ]
  },
  {
   "cell_type": "markdown",
   "metadata": {},
   "source": [
    "## Linear Regression"
   ]
  },
  {
   "cell_type": "code",
   "execution_count": 40,
   "metadata": {},
   "outputs": [
    {
     "name": "stdout",
     "output_type": "stream",
     "text": [
      "Linear regression intercept:  [828.31856995]\n",
      "Linear regression gradient:  [[282.76321874]]\n",
      "r2 value for training data:  0.04151425863674452\n",
      "r2 value for test data:,  -16.657776171629145\n"
     ]
    },
    {
     "data": {
      "text/html": [
       "<div>\n",
       "<style scoped>\n",
       "    .dataframe tbody tr th:only-of-type {\n",
       "        vertical-align: middle;\n",
       "    }\n",
       "\n",
       "    .dataframe tbody tr th {\n",
       "        vertical-align: top;\n",
       "    }\n",
       "\n",
       "    .dataframe thead th {\n",
       "        text-align: right;\n",
       "    }\n",
       "</style>\n",
       "<table border=\"1\" class=\"dataframe\">\n",
       "  <thead>\n",
       "    <tr style=\"text-align: right;\">\n",
       "      <th></th>\n",
       "      <th>Actual</th>\n",
       "      <th>Predicted</th>\n",
       "    </tr>\n",
       "  </thead>\n",
       "  <tbody>\n",
       "    <tr>\n",
       "      <th>0</th>\n",
       "      <td>794</td>\n",
       "      <td>866.168783</td>\n",
       "    </tr>\n",
       "    <tr>\n",
       "      <th>1</th>\n",
       "      <td>736</td>\n",
       "      <td>872.684119</td>\n",
       "    </tr>\n",
       "    <tr>\n",
       "      <th>2</th>\n",
       "      <td>765</td>\n",
       "      <td>868.895092</td>\n",
       "    </tr>\n",
       "    <tr>\n",
       "      <th>3</th>\n",
       "      <td>759</td>\n",
       "      <td>882.159829</td>\n",
       "    </tr>\n",
       "    <tr>\n",
       "      <th>4</th>\n",
       "      <td>720</td>\n",
       "      <td>909.919322</td>\n",
       "    </tr>\n",
       "    <tr>\n",
       "      <th>5</th>\n",
       "      <td>740</td>\n",
       "      <td>887.562177</td>\n",
       "    </tr>\n",
       "    <tr>\n",
       "      <th>6</th>\n",
       "      <td>748</td>\n",
       "      <td>880.099584</td>\n",
       "    </tr>\n",
       "    <tr>\n",
       "      <th>7</th>\n",
       "      <td>775</td>\n",
       "      <td>874.080969</td>\n",
       "    </tr>\n",
       "    <tr>\n",
       "      <th>8</th>\n",
       "      <td>806</td>\n",
       "      <td>859.948464</td>\n",
       "    </tr>\n",
       "    <tr>\n",
       "      <th>9</th>\n",
       "      <td>805</td>\n",
       "      <td>913.025005</td>\n",
       "    </tr>\n",
       "    <tr>\n",
       "      <th>10</th>\n",
       "      <td>798</td>\n",
       "      <td>898.375985</td>\n",
       "    </tr>\n",
       "  </tbody>\n",
       "</table>\n",
       "</div>"
      ],
      "text/plain": [
       "    Actual   Predicted\n",
       "0      794  866.168783\n",
       "1      736  872.684119\n",
       "2      765  868.895092\n",
       "3      759  882.159829\n",
       "4      720  909.919322\n",
       "5      740  887.562177\n",
       "6      748  880.099584\n",
       "7      775  874.080969\n",
       "8      806  859.948464\n",
       "9      805  913.025005\n",
       "10     798  898.375985"
      ]
     },
     "execution_count": 40,
     "metadata": {},
     "output_type": "execute_result"
    }
   ],
   "source": [
    "lr = LinearRegression()\n",
    "lr.fit(X_train, y_train)\n",
    "print('Linear regression intercept: ', lr.intercept_)\n",
    "print('Linear regression gradient: ',lr.coef_)\n",
    "y_test_pred=lr.predict(X_test)\n",
    "y_train_pred=lr.predict(X_train)\n",
    "r2_train=metrics.r2_score(y_train, y_train_pred)\n",
    "r2_test=metrics.r2_score(y_test, y_test_pred)\n",
    "print('r2 value for training data: ', r2_train)\n",
    "print('r2 value for test data:, ', r2_test)\n",
    "df=pd.DataFrame({'Actual':y_test.flatten(), 'Predicted':y_test_pred.flatten()})\n",
    "df"
   ]
  },
  {
   "cell_type": "code",
   "execution_count": 44,
   "metadata": {},
   "outputs": [
    {
     "data": {
      "image/png": "[encoded data removed]",
      "text/plain": [
       "<Figure size 432x288 with 1 Axes>"
      ]
     },
     "metadata": {
      "needs_background": "light"
     },
     "output_type": "display_data"
    }
   ],
   "source": [
    "plt.scatter(X_train,y_train,  color='gray')\n",
    "plt.plot(X_train, y_train_pred, color='red',linewidth=2)\n",
    "plt.gca().set(ylabel='SSUN stock price', xlabel='Sentiment rating')\n",
    "plt.title('Linear Regression on training data')\n",
    "plt.show()"
   ]
  },
  {
   "cell_type": "code",
   "execution_count": 45,
   "metadata": {},
   "outputs": [
    {
     "data": {
      "image/png": "[encoded data removed]",
      "text/plain": [
       "<Figure size 432x288 with 1 Axes>"
      ]
     },
     "metadata": {
      "needs_background": "light"
     },
     "output_type": "display_data"
    }
   ],
   "source": [
    "plt.scatter(range(len(y_train)),y_train,  color='gray')\n",
    "plt.scatter(range(32,43),y_test,  color='blue')\n",
    "plt.scatter(range(32,43),y_test_pred,  color='red')\n",
    "plt.gca().set(ylabel='SSUN stock price', xlabel='day')\n",
    "plt.title('Linear Regression')\n",
    "plt.gca().legend(('Train data','Test data','Predicted'))\n",
    "plt.show()"
   ]
  },
  {
   "cell_type": "code",
   "execution_count": 26,
   "metadata": {},
   "outputs": [
    {
     "name": "stdout",
     "output_type": "stream",
     "text": [
      "Mean Absolute Error: 115.17448444392193\n",
      "Mean Squared Error: 14510.897780182773\n",
      "Root Mean Squared Error: 120.461187858093\n"
     ]
    }
   ],
   "source": [
    "print('Mean Absolute Error:', metrics.mean_absolute_error(y_test, y_test_pred))  \n",
    "print('Mean Squared Error:', metrics.mean_squared_error(y_test, y_test_pred))  \n",
    "print('Root Mean Squared Error:', np.sqrt(metrics.mean_squared_error(y_test, y_test_pred)))"
   ]
  },
  {
   "cell_type": "markdown",
   "metadata": {},
   "source": [
    "## Logistic Regression"
   ]
  },
  {
   "cell_type": "code",
   "execution_count": 47,
   "metadata": {},
   "outputs": [
    {
     "name": "stdout",
     "output_type": "stream",
     "text": [
      "r2 value for training data:  -1.4609190534173329\n",
      "r2 value for test data:,  -1.929321372541132\n"
     ]
    },
    {
     "name": "stderr",
     "output_type": "stream",
     "text": [
      "C:\\Users\\frl\\Anaconda3\\lib\\site-packages\\sklearn\\utils\\validation.py:760: DataConversionWarning: A column-vector y was passed when a 1d array was expected. Please change the shape of y to (n_samples, ), for example using ravel().\n",
      "  y = column_or_1d(y, warn=True)\n"
     ]
    },
    {
     "data": {
      "text/html": [
       "<div>\n",
       "<style scoped>\n",
       "    .dataframe tbody tr th:only-of-type {\n",
       "        vertical-align: middle;\n",
       "    }\n",
       "\n",
       "    .dataframe tbody tr th {\n",
       "        vertical-align: top;\n",
       "    }\n",
       "\n",
       "    .dataframe thead th {\n",
       "        text-align: right;\n",
       "    }\n",
       "</style>\n",
       "<table border=\"1\" class=\"dataframe\">\n",
       "  <thead>\n",
       "    <tr style=\"text-align: right;\">\n",
       "      <th></th>\n",
       "      <th>Actual</th>\n",
       "      <th>Predicted</th>\n",
       "    </tr>\n",
       "  </thead>\n",
       "  <tbody>\n",
       "    <tr>\n",
       "      <th>0</th>\n",
       "      <td>794</td>\n",
       "      <td>728</td>\n",
       "    </tr>\n",
       "    <tr>\n",
       "      <th>1</th>\n",
       "      <td>736</td>\n",
       "      <td>728</td>\n",
       "    </tr>\n",
       "    <tr>\n",
       "      <th>2</th>\n",
       "      <td>765</td>\n",
       "      <td>728</td>\n",
       "    </tr>\n",
       "    <tr>\n",
       "      <th>3</th>\n",
       "      <td>759</td>\n",
       "      <td>728</td>\n",
       "    </tr>\n",
       "    <tr>\n",
       "      <th>4</th>\n",
       "      <td>720</td>\n",
       "      <td>728</td>\n",
       "    </tr>\n",
       "    <tr>\n",
       "      <th>5</th>\n",
       "      <td>740</td>\n",
       "      <td>728</td>\n",
       "    </tr>\n",
       "    <tr>\n",
       "      <th>6</th>\n",
       "      <td>748</td>\n",
       "      <td>728</td>\n",
       "    </tr>\n",
       "    <tr>\n",
       "      <th>7</th>\n",
       "      <td>775</td>\n",
       "      <td>728</td>\n",
       "    </tr>\n",
       "    <tr>\n",
       "      <th>8</th>\n",
       "      <td>806</td>\n",
       "      <td>728</td>\n",
       "    </tr>\n",
       "    <tr>\n",
       "      <th>9</th>\n",
       "      <td>805</td>\n",
       "      <td>728</td>\n",
       "    </tr>\n",
       "    <tr>\n",
       "      <th>10</th>\n",
       "      <td>798</td>\n",
       "      <td>728</td>\n",
       "    </tr>\n",
       "  </tbody>\n",
       "</table>\n",
       "</div>"
      ],
      "text/plain": [
       "    Actual  Predicted\n",
       "0      794        728\n",
       "1      736        728\n",
       "2      765        728\n",
       "3      759        728\n",
       "4      720        728\n",
       "5      740        728\n",
       "6      748        728\n",
       "7      775        728\n",
       "8      806        728\n",
       "9      805        728\n",
       "10     798        728"
      ]
     },
     "execution_count": 47,
     "metadata": {},
     "output_type": "execute_result"
    }
   ],
   "source": [
    "lr = LogisticRegression()\n",
    "lr.fit(X_train, y_train)\n",
    "#print('Linear regression intercept: ', lr.intercept_)\n",
    "#print('Linear regression gradient: ',lr.coef_)\n",
    "y_test_pred=lr.predict(X_test)\n",
    "y_train_pred=lr.predict(X_train)\n",
    "r2_train=metrics.r2_score(y_train, y_train_pred)\n",
    "r2_test=metrics.r2_score(y_test, y_test_pred)\n",
    "print('r2 value for training data: ', r2_train)\n",
    "print('r2 value for test data:, ', r2_test)\n",
    "df=pd.DataFrame({'Actual':y_test.flatten(), 'Predicted':y_test_pred.flatten()})\n",
    "df"
   ]
  },
  {
   "cell_type": "code",
   "execution_count": 48,
   "metadata": {},
   "outputs": [
    {
     "data": {
      "image/png": "[encoded data removed]",
      "text/plain": [
       "<Figure size 432x288 with 1 Axes>"
      ]
     },
     "metadata": {
      "needs_background": "light"
     },
     "output_type": "display_data"
    }
   ],
   "source": [
    "plt.scatter(X_train,y_train,  color='gray')\n",
    "plt.scatter(X_train, y_train_pred, color='red')\n",
    "plt.gca().set(ylabel='SSUN stock price', xlabel='Sentiment rating')\n",
    "plt.title('Logistic Regression on training data')\n",
    "plt.show()"
   ]
  },
  {
   "cell_type": "code",
   "execution_count": 49,
   "metadata": {},
   "outputs": [
    {
     "data": {
      "image/png": "[encoded data removed]",
      "text/plain": [
       "<Figure size 432x288 with 1 Axes>"
      ]
     },
     "metadata": {
      "needs_background": "light"
     },
     "output_type": "display_data"
    }
   ],
   "source": [
    "plt.scatter(range(len(y_train)),y_train,  color='gray')\n",
    "plt.scatter(range(32,43),y_test,  color='blue')\n",
    "plt.scatter(range(32,43),y_test_pred,  color='red')\n",
    "plt.gca().set(ylabel='SSUN stock price', xlabel='day')\n",
    "plt.title('Logistic Regression')\n",
    "plt.gca().legend(('Train data','Test data','Predicted'))\n",
    "plt.show()"
   ]
  },
  {
   "cell_type": "code",
   "execution_count": 30,
   "metadata": {},
   "outputs": [
    {
     "name": "stdout",
     "output_type": "stream",
     "text": [
      "Mean Absolute Error: 41.27272727272727\n",
      "Mean Squared Error: 2407.2727272727275\n",
      "Root Mean Squared Error: 49.06396567005899\n"
     ]
    }
   ],
   "source": [
    "print('Mean Absolute Error:', metrics.mean_absolute_error(y_test, y_test_pred))  \n",
    "print('Mean Squared Error:', metrics.mean_squared_error(y_test, y_test_pred))  \n",
    "print('Root Mean Squared Error:', np.sqrt(metrics.mean_squared_error(y_test, y_test_pred)))"
   ]
  },
  {
   "cell_type": "markdown",
   "metadata": {},
   "source": [
    "## Random Forest"
   ]
  },
  {
   "cell_type": "code",
   "execution_count": 50,
   "metadata": {},
   "outputs": [
    {
     "name": "stderr",
     "output_type": "stream",
     "text": [
      "C:\\Users\\frl\\Anaconda3\\lib\\site-packages\\ipykernel_launcher.py:2: DataConversionWarning: A column-vector y was passed when a 1d array was expected. Please change the shape of y to (n_samples,), for example using ravel().\n",
      "  \n"
     ]
    },
    {
     "data": {
      "text/plain": [
       "RandomForestRegressor(bootstrap=True, ccp_alpha=0.0, criterion='mse',\n",
       "                      max_depth=None, max_features='auto', max_leaf_nodes=None,\n",
       "                      max_samples=None, min_impurity_decrease=0.0,\n",
       "                      min_impurity_split=None, min_samples_leaf=1,\n",
       "                      min_samples_split=2, min_weight_fraction_leaf=0.0,\n",
       "                      n_estimators=100, n_jobs=None, oob_score=False,\n",
       "                      random_state=None, verbose=0, warm_start=False)"
      ]
     },
     "execution_count": 50,
     "metadata": {},
     "output_type": "execute_result"
    }
   ],
   "source": [
    "rf = RandomForestRegressor()\n",
    "rf.fit(X_train, y_train)"
   ]
  },
  {
   "cell_type": "code",
   "execution_count": 51,
   "metadata": {},
   "outputs": [
    {
     "name": "stdout",
     "output_type": "stream",
     "text": [
      "r2 value for training data:  0.849188507597014\n",
      "r2 value for test data:,  -11.835983653807476\n"
     ]
    },
    {
     "data": {
      "text/html": [
       "<div>\n",
       "<style scoped>\n",
       "    .dataframe tbody tr th:only-of-type {\n",
       "        vertical-align: middle;\n",
       "    }\n",
       "\n",
       "    .dataframe tbody tr th {\n",
       "        vertical-align: top;\n",
       "    }\n",
       "\n",
       "    .dataframe thead th {\n",
       "        text-align: right;\n",
       "    }\n",
       "</style>\n",
       "<table border=\"1\" class=\"dataframe\">\n",
       "  <thead>\n",
       "    <tr style=\"text-align: right;\">\n",
       "      <th></th>\n",
       "      <th>Actual</th>\n",
       "      <th>Predicted</th>\n",
       "    </tr>\n",
       "  </thead>\n",
       "  <tbody>\n",
       "    <tr>\n",
       "      <th>0</th>\n",
       "      <td>794</td>\n",
       "      <td>774.83</td>\n",
       "    </tr>\n",
       "    <tr>\n",
       "      <th>1</th>\n",
       "      <td>736</td>\n",
       "      <td>857.95</td>\n",
       "    </tr>\n",
       "    <tr>\n",
       "      <th>2</th>\n",
       "      <td>765</td>\n",
       "      <td>774.83</td>\n",
       "    </tr>\n",
       "    <tr>\n",
       "      <th>3</th>\n",
       "      <td>759</td>\n",
       "      <td>844.77</td>\n",
       "    </tr>\n",
       "    <tr>\n",
       "      <th>4</th>\n",
       "      <td>720</td>\n",
       "      <td>777.39</td>\n",
       "    </tr>\n",
       "    <tr>\n",
       "      <th>5</th>\n",
       "      <td>740</td>\n",
       "      <td>925.69</td>\n",
       "    </tr>\n",
       "    <tr>\n",
       "      <th>6</th>\n",
       "      <td>748</td>\n",
       "      <td>844.77</td>\n",
       "    </tr>\n",
       "    <tr>\n",
       "      <th>7</th>\n",
       "      <td>775</td>\n",
       "      <td>863.27</td>\n",
       "    </tr>\n",
       "    <tr>\n",
       "      <th>8</th>\n",
       "      <td>806</td>\n",
       "      <td>990.33</td>\n",
       "    </tr>\n",
       "    <tr>\n",
       "      <th>9</th>\n",
       "      <td>805</td>\n",
       "      <td>777.39</td>\n",
       "    </tr>\n",
       "    <tr>\n",
       "      <th>10</th>\n",
       "      <td>798</td>\n",
       "      <td>858.58</td>\n",
       "    </tr>\n",
       "  </tbody>\n",
       "</table>\n",
       "</div>"
      ],
      "text/plain": [
       "    Actual  Predicted\n",
       "0      794     774.83\n",
       "1      736     857.95\n",
       "2      765     774.83\n",
       "3      759     844.77\n",
       "4      720     777.39\n",
       "5      740     925.69\n",
       "6      748     844.77\n",
       "7      775     863.27\n",
       "8      806     990.33\n",
       "9      805     777.39\n",
       "10     798     858.58"
      ]
     },
     "execution_count": 51,
     "metadata": {},
     "output_type": "execute_result"
    }
   ],
   "source": [
    "y_test_pred=rf.predict(X_test)\n",
    "y_train_pred=rf.predict(X_train)\n",
    "r2_train=metrics.r2_score(y_train, y_train_pred)\n",
    "r2_test=metrics.r2_score(y_test, y_test_pred)\n",
    "print('r2 value for training data: ', r2_train)\n",
    "print('r2 value for test data:, ', r2_test)\n",
    "df=pd.DataFrame({'Actual':y_test.flatten(), 'Predicted':y_test_pred.flatten()})\n",
    "df"
   ]
  },
  {
   "cell_type": "code",
   "execution_count": 52,
   "metadata": {},
   "outputs": [
    {
     "data": {
      "image/png": "[encoded data removed]",
      "text/plain": [
       "<Figure size 432x288 with 1 Axes>"
      ]
     },
     "metadata": {
      "needs_background": "light"
     },
     "output_type": "display_data"
    }
   ],
   "source": [
    "plt.scatter(X_train,y_train,  color='gray')\n",
    "plt.scatter(X_train, y_train_pred, color='red')\n",
    "plt.gca().set(ylabel='SSUN stock price', xlabel='Sentiment rating')\n",
    "plt.title('Random Forest fitting on training data')\n",
    "plt.show()"
   ]
  },
  {
   "cell_type": "code",
   "execution_count": 53,
   "metadata": {},
   "outputs": [
    {
     "data": {
      "image/png": "[encoded data removed]",
      "text/plain": [
       "<Figure size 432x288 with 1 Axes>"
      ]
     },
     "metadata": {
      "needs_background": "light"
     },
     "output_type": "display_data"
    }
   ],
   "source": [
    "plt.scatter(range(len(y_train)),y_train,  color='gray')\n",
    "plt.scatter(range(32,43),y_test,  color='blue')\n",
    "plt.scatter(range(32,43),y_test_pred,  color='red')\n",
    "plt.gca().set(ylabel='SSUN stock price', xlabel='day')\n",
    "plt.title('Random Forest')\n",
    "plt.gca().legend(('Train data','Test data','Predicted'))\n",
    "plt.show()"
   ]
  },
  {
   "cell_type": "code",
   "execution_count": 402,
   "metadata": {},
   "outputs": [
    {
     "name": "stdout",
     "output_type": "stream",
     "text": [
      "Mean Absolute Error: 85.49363636363637\n",
      "Mean Squared Error: 10250.554863636366\n",
      "Root Mean Squared Error: 101.24502389567779\n"
     ]
    }
   ],
   "source": [
    "print('Mean Absolute Error:', metrics.mean_absolute_error(y_test, y_test_pred))  \n",
    "print('Mean Squared Error:', metrics.mean_squared_error(y_test, y_test_pred))  \n",
    "print('Root Mean Squared Error:', np.sqrt(metrics.mean_squared_error(y_test, y_test_pred)))"
   ]
  },
  {
   "cell_type": "markdown",
   "metadata": {},
   "source": [
    "## Random Forest with gridsearch"
   ]
  },
  {
   "cell_type": "code",
   "execution_count": 54,
   "metadata": {},
   "outputs": [],
   "source": [
    "rf = RandomForestRegressor()"
   ]
  },
  {
   "cell_type": "code",
   "execution_count": 55,
   "metadata": {},
   "outputs": [],
   "source": [
    "rf_params = {\n",
    "    'n_estimators' : [1000],\n",
    "    'max_depth' : [3,4],\n",
    "    'min_samples_leaf': [3,4],\n",
    "}"
   ]
  },
  {
   "cell_type": "code",
   "execution_count": 56,
   "metadata": {
    "scrolled": true
   },
   "outputs": [
    {
     "name": "stderr",
     "output_type": "stream",
     "text": [
      "C:\\Users\\frl\\Anaconda3\\lib\\site-packages\\sklearn\\model_selection\\_validation.py:515: DataConversionWarning: A column-vector y was passed when a 1d array was expected. Please change the shape of y to (n_samples,), for example using ravel().\n",
      "  estimator.fit(X_train, y_train, **fit_params)\n",
      "C:\\Users\\frl\\Anaconda3\\lib\\site-packages\\sklearn\\model_selection\\_validation.py:515: DataConversionWarning: A column-vector y was passed when a 1d array was expected. Please change the shape of y to (n_samples,), for example using ravel().\n",
      "  estimator.fit(X_train, y_train, **fit_params)\n",
      "C:\\Users\\frl\\Anaconda3\\lib\\site-packages\\sklearn\\model_selection\\_validation.py:515: DataConversionWarning: A column-vector y was passed when a 1d array was expected. Please change the shape of y to (n_samples,), for example using ravel().\n",
      "  estimator.fit(X_train, y_train, **fit_params)\n",
      "C:\\Users\\frl\\Anaconda3\\lib\\site-packages\\sklearn\\model_selection\\_validation.py:515: DataConversionWarning: A column-vector y was passed when a 1d array was expected. Please change the shape of y to (n_samples,), for example using ravel().\n",
      "  estimator.fit(X_train, y_train, **fit_params)\n",
      "C:\\Users\\frl\\Anaconda3\\lib\\site-packages\\sklearn\\model_selection\\_validation.py:515: DataConversionWarning: A column-vector y was passed when a 1d array was expected. Please change the shape of y to (n_samples,), for example using ravel().\n",
      "  estimator.fit(X_train, y_train, **fit_params)\n",
      "C:\\Users\\frl\\Anaconda3\\lib\\site-packages\\sklearn\\model_selection\\_validation.py:515: DataConversionWarning: A column-vector y was passed when a 1d array was expected. Please change the shape of y to (n_samples,), for example using ravel().\n",
      "  estimator.fit(X_train, y_train, **fit_params)\n",
      "C:\\Users\\frl\\Anaconda3\\lib\\site-packages\\sklearn\\model_selection\\_validation.py:515: DataConversionWarning: A column-vector y was passed when a 1d array was expected. Please change the shape of y to (n_samples,), for example using ravel().\n",
      "  estimator.fit(X_train, y_train, **fit_params)\n",
      "C:\\Users\\frl\\Anaconda3\\lib\\site-packages\\sklearn\\model_selection\\_validation.py:515: DataConversionWarning: A column-vector y was passed when a 1d array was expected. Please change the shape of y to (n_samples,), for example using ravel().\n",
      "  estimator.fit(X_train, y_train, **fit_params)\n",
      "C:\\Users\\frl\\Anaconda3\\lib\\site-packages\\sklearn\\model_selection\\_validation.py:515: DataConversionWarning: A column-vector y was passed when a 1d array was expected. Please change the shape of y to (n_samples,), for example using ravel().\n",
      "  estimator.fit(X_train, y_train, **fit_params)\n",
      "C:\\Users\\frl\\Anaconda3\\lib\\site-packages\\sklearn\\model_selection\\_validation.py:515: DataConversionWarning: A column-vector y was passed when a 1d array was expected. Please change the shape of y to (n_samples,), for example using ravel().\n",
      "  estimator.fit(X_train, y_train, **fit_params)\n",
      "C:\\Users\\frl\\Anaconda3\\lib\\site-packages\\sklearn\\model_selection\\_validation.py:515: DataConversionWarning: A column-vector y was passed when a 1d array was expected. Please change the shape of y to (n_samples,), for example using ravel().\n",
      "  estimator.fit(X_train, y_train, **fit_params)\n",
      "C:\\Users\\frl\\Anaconda3\\lib\\site-packages\\sklearn\\model_selection\\_validation.py:515: DataConversionWarning: A column-vector y was passed when a 1d array was expected. Please change the shape of y to (n_samples,), for example using ravel().\n",
      "  estimator.fit(X_train, y_train, **fit_params)\n",
      "C:\\Users\\frl\\Anaconda3\\lib\\site-packages\\sklearn\\model_selection\\_validation.py:515: DataConversionWarning: A column-vector y was passed when a 1d array was expected. Please change the shape of y to (n_samples,), for example using ravel().\n",
      "  estimator.fit(X_train, y_train, **fit_params)\n",
      "C:\\Users\\frl\\Anaconda3\\lib\\site-packages\\sklearn\\model_selection\\_validation.py:515: DataConversionWarning: A column-vector y was passed when a 1d array was expected. Please change the shape of y to (n_samples,), for example using ravel().\n",
      "  estimator.fit(X_train, y_train, **fit_params)\n",
      "C:\\Users\\frl\\Anaconda3\\lib\\site-packages\\sklearn\\model_selection\\_validation.py:515: DataConversionWarning: A column-vector y was passed when a 1d array was expected. Please change the shape of y to (n_samples,), for example using ravel().\n",
      "  estimator.fit(X_train, y_train, **fit_params)\n",
      "C:\\Users\\frl\\Anaconda3\\lib\\site-packages\\sklearn\\model_selection\\_validation.py:515: DataConversionWarning: A column-vector y was passed when a 1d array was expected. Please change the shape of y to (n_samples,), for example using ravel().\n",
      "  estimator.fit(X_train, y_train, **fit_params)\n",
      "C:\\Users\\frl\\Anaconda3\\lib\\site-packages\\sklearn\\model_selection\\_validation.py:515: DataConversionWarning: A column-vector y was passed when a 1d array was expected. Please change the shape of y to (n_samples,), for example using ravel().\n",
      "  estimator.fit(X_train, y_train, **fit_params)\n",
      "C:\\Users\\frl\\Anaconda3\\lib\\site-packages\\sklearn\\model_selection\\_validation.py:515: DataConversionWarning: A column-vector y was passed when a 1d array was expected. Please change the shape of y to (n_samples,), for example using ravel().\n",
      "  estimator.fit(X_train, y_train, **fit_params)\n",
      "C:\\Users\\frl\\Anaconda3\\lib\\site-packages\\sklearn\\model_selection\\_validation.py:515: DataConversionWarning: A column-vector y was passed when a 1d array was expected. Please change the shape of y to (n_samples,), for example using ravel().\n",
      "  estimator.fit(X_train, y_train, **fit_params)\n",
      "C:\\Users\\frl\\Anaconda3\\lib\\site-packages\\sklearn\\model_selection\\_validation.py:515: DataConversionWarning: A column-vector y was passed when a 1d array was expected. Please change the shape of y to (n_samples,), for example using ravel().\n",
      "  estimator.fit(X_train, y_train, **fit_params)\n",
      "C:\\Users\\frl\\Anaconda3\\lib\\site-packages\\sklearn\\model_selection\\_search.py:739: DataConversionWarning: A column-vector y was passed when a 1d array was expected. Please change the shape of y to (n_samples,), for example using ravel().\n",
      "  self.best_estimator_.fit(X, y, **fit_params)\n"
     ]
    },
    {
     "data": {
      "text/plain": [
       "GridSearchCV(cv=5, error_score=nan,\n",
       "             estimator=RandomForestRegressor(bootstrap=True, ccp_alpha=0.0,\n",
       "                                             criterion='mse', max_depth=None,\n",
       "                                             max_features='auto',\n",
       "                                             max_leaf_nodes=None,\n",
       "                                             max_samples=None,\n",
       "                                             min_impurity_decrease=0.0,\n",
       "                                             min_impurity_split=None,\n",
       "                                             min_samples_leaf=1,\n",
       "                                             min_samples_split=2,\n",
       "                                             min_weight_fraction_leaf=0.0,\n",
       "                                             n_estimators=100, n_jobs=None,\n",
       "                                             oob_score=False, random_state=None,\n",
       "                                             verbose=0, warm_start=False),\n",
       "             iid='deprecated', n_jobs=None,\n",
       "             param_grid={'max_depth': [3, 4], 'min_samples_leaf': [3, 4],\n",
       "                         'n_estimators': [1000]},\n",
       "             pre_dispatch='2*n_jobs', refit=True, return_train_score=False,\n",
       "             scoring=None, verbose=0)"
      ]
     },
     "execution_count": 56,
     "metadata": {},
     "output_type": "execute_result"
    }
   ],
   "source": [
    "gs_rf = GridSearchCV(rf,param_grid=rf_params,cv=5)\n",
    "gs_rf.fit(X_train, y_train)"
   ]
  },
  {
   "cell_type": "code",
   "execution_count": 57,
   "metadata": {},
   "outputs": [
    {
     "name": "stdout",
     "output_type": "stream",
     "text": [
      "\n",
      "The best params are: \n",
      "{'max_depth': 4, 'min_samples_leaf': 3, 'n_estimators': 1000}\n"
     ]
    }
   ],
   "source": [
    "print(\"\\nThe best params are: \\n{}\".format(gs_rf.best_params_))"
   ]
  },
  {
   "cell_type": "code",
   "execution_count": 58,
   "metadata": {},
   "outputs": [
    {
     "name": "stdout",
     "output_type": "stream",
     "text": [
      "r2 value for training data:  0.4786569636828887\n",
      "r2 value for test data:,  -7.484694315943669\n"
     ]
    },
    {
     "data": {
      "text/html": [
       "<div>\n",
       "<style scoped>\n",
       "    .dataframe tbody tr th:only-of-type {\n",
       "        vertical-align: middle;\n",
       "    }\n",
       "\n",
       "    .dataframe tbody tr th {\n",
       "        vertical-align: top;\n",
       "    }\n",
       "\n",
       "    .dataframe thead th {\n",
       "        text-align: right;\n",
       "    }\n",
       "</style>\n",
       "<table border=\"1\" class=\"dataframe\">\n",
       "  <thead>\n",
       "    <tr style=\"text-align: right;\">\n",
       "      <th></th>\n",
       "      <th>Actual</th>\n",
       "      <th>Predicted</th>\n",
       "    </tr>\n",
       "  </thead>\n",
       "  <tbody>\n",
       "    <tr>\n",
       "      <th>0</th>\n",
       "      <td>794</td>\n",
       "      <td>828.993033</td>\n",
       "    </tr>\n",
       "    <tr>\n",
       "      <th>1</th>\n",
       "      <td>736</td>\n",
       "      <td>827.031352</td>\n",
       "    </tr>\n",
       "    <tr>\n",
       "      <th>2</th>\n",
       "      <td>765</td>\n",
       "      <td>828.993033</td>\n",
       "    </tr>\n",
       "    <tr>\n",
       "      <th>3</th>\n",
       "      <td>759</td>\n",
       "      <td>823.458371</td>\n",
       "    </tr>\n",
       "    <tr>\n",
       "      <th>4</th>\n",
       "      <td>720</td>\n",
       "      <td>835.412189</td>\n",
       "    </tr>\n",
       "    <tr>\n",
       "      <th>5</th>\n",
       "      <td>740</td>\n",
       "      <td>840.081445</td>\n",
       "    </tr>\n",
       "    <tr>\n",
       "      <th>6</th>\n",
       "      <td>748</td>\n",
       "      <td>823.458371</td>\n",
       "    </tr>\n",
       "    <tr>\n",
       "      <th>7</th>\n",
       "      <td>775</td>\n",
       "      <td>827.136638</td>\n",
       "    </tr>\n",
       "    <tr>\n",
       "      <th>8</th>\n",
       "      <td>806</td>\n",
       "      <td>963.684194</td>\n",
       "    </tr>\n",
       "    <tr>\n",
       "      <th>9</th>\n",
       "      <td>805</td>\n",
       "      <td>835.412189</td>\n",
       "    </tr>\n",
       "    <tr>\n",
       "      <th>10</th>\n",
       "      <td>798</td>\n",
       "      <td>835.412189</td>\n",
       "    </tr>\n",
       "  </tbody>\n",
       "</table>\n",
       "</div>"
      ],
      "text/plain": [
       "    Actual   Predicted\n",
       "0      794  828.993033\n",
       "1      736  827.031352\n",
       "2      765  828.993033\n",
       "3      759  823.458371\n",
       "4      720  835.412189\n",
       "5      740  840.081445\n",
       "6      748  823.458371\n",
       "7      775  827.136638\n",
       "8      806  963.684194\n",
       "9      805  835.412189\n",
       "10     798  835.412189"
      ]
     },
     "execution_count": 58,
     "metadata": {},
     "output_type": "execute_result"
    }
   ],
   "source": [
    "y_test_pred=gs_rf.predict(X_test)\n",
    "y_train_pred=gs_rf.predict(X_train)\n",
    "r2_train=metrics.r2_score(y_train, y_train_pred)\n",
    "r2_test=metrics.r2_score(y_test, y_test_pred)\n",
    "print('r2 value for training data: ', r2_train)\n",
    "print('r2 value for test data:, ', r2_test)\n",
    "df=pd.DataFrame({'Actual':y_test.flatten(), 'Predicted':y_test_pred.flatten()})\n",
    "df"
   ]
  },
  {
   "cell_type": "code",
   "execution_count": 59,
   "metadata": {},
   "outputs": [
    {
     "data": {
      "image/png": "[encoded data removed]",
      "text/plain": [
       "<Figure size 432x288 with 1 Axes>"
      ]
     },
     "metadata": {
      "needs_background": "light"
     },
     "output_type": "display_data"
    }
   ],
   "source": [
    "plt.scatter(X_train,y_train,  color='gray')\n",
    "plt.scatter(X_train, y_train_pred, color='red')\n",
    "plt.gca().set(ylabel='SSUN stock price', xlabel='Sentiment rating')\n",
    "plt.title('Random Forest with gridsearch on training data')\n",
    "plt.show()"
   ]
  },
  {
   "cell_type": "code",
   "execution_count": 60,
   "metadata": {},
   "outputs": [
    {
     "data": {
      "image/png": "[encoded data removed]",
      "text/plain": [
       "<Figure size 432x288 with 1 Axes>"
      ]
     },
     "metadata": {
      "needs_background": "light"
     },
     "output_type": "display_data"
    }
   ],
   "source": [
    "plt.scatter(range(len(y_train)),y_train,  color='gray')\n",
    "plt.scatter(range(32,43),y_test,  color='blue')\n",
    "plt.scatter(range(32,43),y_test_pred,  color='red')\n",
    "plt.gca().set(ylabel='SSUN stock price', xlabel='day')\n",
    "plt.title('Random Forest with gridsearch')\n",
    "plt.gca().legend(('Train data','Test data','Predicted'))\n",
    "plt.show()"
   ]
  },
  {
   "cell_type": "code",
   "execution_count": null,
   "metadata": {},
   "outputs": [],
   "source": []
  }
 ],
 "metadata": {
  "kernelspec": {
   "display_name": "Python 3",
   "language": "python",
   "name": "python3"
  },
  "language_info": {
   "codemirror_mode": {
    "name": "ipython",
    "version": 3
   },
   "file_extension": ".py",
   "mimetype": "text/x-python",
   "name": "python",
   "nbconvert_exporter": "python",
   "pygments_lexer": "ipython3",
   "version": "3.7.6"
  }
 },
 "nbformat": 4,
 "nbformat_minor": 4
}
