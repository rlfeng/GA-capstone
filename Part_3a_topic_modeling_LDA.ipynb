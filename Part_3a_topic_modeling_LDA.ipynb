{
 "cells": [
  {
   "cell_type": "markdown",
   "metadata": {},
   "source": [
    "# Capstone Project: Social media sentiment analysis \n",
    "## Part 4: Topic Modeling"
   ]
  },
  {
   "cell_type": "code",
   "execution_count": 143,
   "metadata": {},
   "outputs": [],
   "source": [
    "# Import libraries\n",
    "import requests\n",
    "import json\n",
    "import pandas as pd\n",
    "import numpy as np\n",
    "import time\n",
    "import random\n",
    "import re\n",
    "import csv\n",
    "\n",
    "from sklearn.feature_extraction import stop_words\n",
    "from sklearn.feature_extraction.text import CountVectorizer, HashingVectorizer, TfidfVectorizer\n",
    "from sklearn.pipeline import Pipeline\n",
    "from bs4 import BeautifulSoup\n",
    "from nltk.corpus import stopwords\n",
    "from nltk.stem import WordNetLemmatizer\n",
    "from nltk.sentiment.vader import SentimentIntensityAnalyzer\n",
    "import pandas.util.testing as tm\n",
    "import spacy\n",
    "\n",
    "# Gensim libraries\n",
    "from gensim import corpora\n",
    "from sklearn.decomposition import LatentDirichletAllocation, TruncatedSVD\n",
    "from sklearn.model_selection import GridSearchCV\n",
    "from gensim.models.ldamulticore import LdaMulticore\n",
    "from gensim.models.wrappers import LdaMallet\n",
    "import pyLDAvis.gensim\n",
    "from gensim.models import CoherenceModel, Word2Vec, LsiModel, KeyedVectors, fasttext,LdaModel\n",
    "from gensim import matutils\n",
    "import pyLDAvis\n",
    "import pyLDAvis.sklearn\n",
    "pyLDAvis.enable_notebook()\n",
    "\n",
    "# Enable logging for gensim - optional but important\n",
    "import logging\n",
    "logging.basicConfig(format='%(asctime)s : %(levelname)s : %(message)s', level=logging.ERROR)\n",
    "\n",
    "import matplotlib.pyplot as plt\n",
    "import seaborn as sns\n",
    "%matplotlib inline"
   ]
  },
  {
   "cell_type": "markdown",
   "metadata": {},
   "source": [
    "# Preprocess Twitter comments for topic modeling"
   ]
  },
  {
   "cell_type": "code",
   "execution_count": 144,
   "metadata": {},
   "outputs": [],
   "source": [
    "# Call data from Part 2\n",
    "tweet_combined_clean=pd.read_csv('./dataset/tweet_combined_clean_v1.csv')\n",
    "samsung_tweet_neg=pd.read_csv('./dataset/samsung_tweet_neg.csv')\n",
    "samsung_tweet_pos=pd.read_csv('./dataset/samsung_tweet_pos.csv')"
   ]
  },
  {
   "cell_type": "code",
   "execution_count": 145,
   "metadata": {},
   "outputs": [],
   "source": [
    "# Unlike VADER, topic modeling requires extensive data cleaning - Edit stopwords to exclude emotional words like 'like','love' and brand names 'Samsung', 'Apple', 'Huawei'\n",
    "\n",
    "lemm = WordNetLemmatizer()\n",
    "\n",
    "def text_processer(text):\n",
    "    \n",
    "    # 1. Remove HTML.\n",
    "    review_text = BeautifulSoup(text).get_text()\n",
    "    \n",
    "    # 2. Remove non-letters.\n",
    "    letters_only = re.sub(\"[^a-zA-Z]\", \" \", review_text)\n",
    "    \n",
    "    # 3. Convert to lower case, split into individual words.\n",
    "    words = letters_only.lower().split()\n",
    "        \n",
    "    # 4. Remove stop words\n",
    "    stop_words = set(stopwords.words(\"english\"))\n",
    "    stop_words.update(['samsung','huawei','apple','http','like','really','want','good','say','love','better','much',\n",
    "                       'day','lol','well','need','could','take','twt','add','maxwinebach','nhlblackhawk','smtshepossa',\n",
    "                       'niantichelp','recognised','view','great','doh','samsungmobile','okay','check','feel','always',\n",
    "                       'yes','stop','even','every','already','u','something','go','see','sure','shit','said','https','com','www','hi','please','co','thanks','one',\n",
    "                       'think','got','also', 'make','know','use', 'would','get','look','never','still','mtshepossa','akinjoshua',\n",
    "                       'pay','using','time','b','c','d','e','f','g','h','i','ksvaljek', 'right', 'used','godissfroot','nhlblackhawks','http',\n",
    "                       'j','k','l','n','m','o','p','q','r','s','t','u','v','w','x','y','z', 'sorry', 'part', 'u', 'let','as', 'saying', 'bit', \n",
    "                       'update', 'techquotesdaily','oh', 'yeah','frecowang', 'bts', 'pak','ok','fuck','come','thing','south','settle','level', \n",
    "                       'took','actually','stand','im','watch', 'jezdez','offby','dirtytesla','universeice','as', 'thank', 'thanks', 'seem', 'seems',\n",
    "                        'way','put','made','thought', 'jack'])\n",
    "    filtered_words=[w for w in words if not w in stop_words]\n",
    "\n",
    "    # 5. Lemmatize words.\n",
    "    lemmed_words = [lemm.lemmatize(i) for i in filtered_words]\n",
    "    \n",
    "    return (\" \".join(lemmed_words))"
   ]
  },
  {
   "cell_type": "code",
   "execution_count": 146,
   "metadata": {},
   "outputs": [],
   "source": [
    "# Initialise both types of vectorizer for comparison\n",
    "cv = CountVectorizer(analyzer='word',       \n",
    "                             min_df=10,\n",
    "                            token_pattern='[a-zA-Z0-9]{3,}') #set number of characters to be more than 3 per word\n",
    "\n",
    "tv = TfidfVectorizer(analyzer='word',       \n",
    "                             min_df=10,\n",
    "                            token_pattern='[a-zA-Z0-9]{3,}') #set number of characters to be more than 3 per word"
   ]
  },
  {
   "cell_type": "markdown",
   "metadata": {},
   "source": [
    "## LDA Modeling"
   ]
  },
  {
   "cell_type": "markdown",
   "metadata": {},
   "source": [
    "## Samsung topic modeling"
   ]
  },
  {
   "cell_type": "code",
   "execution_count": 147,
   "metadata": {},
   "outputs": [],
   "source": [
    "tweet_samsung_clean=tweet_combined_clean[tweet_combined_clean['brand']==0]\n",
    "tweet_samsung_words=tweet_samsung_clean['text'].apply(text_processer)\n",
    "\n",
    "samsung_cv=cv.fit_transform(tweet_samsung_words)\n",
    "samsung_tv=tv.fit_transform(tweet_samsung_words)"
   ]
  },
  {
   "cell_type": "code",
   "execution_count": 148,
   "metadata": {},
   "outputs": [
    {
     "name": "stdout",
     "output_type": "stream",
     "text": [
      "Mean number of words per tweet   :  48.0\n",
      "Median number of words per tweet :  49.0\n"
     ]
    },
    {
     "data": {
      "image/png": "[encoded data removed]",
      "text/plain": [
       "<Figure size 576x288 with 1 Axes>"
      ]
     },
     "metadata": {
      "needs_background": "light"
     },
     "output_type": "display_data"
    }
   ],
   "source": [
    "samsung_text_length=[len(d) for d in tweet_samsung_words];\n",
    "# Plot\n",
    "plt.figure(figsize=(8,4))\n",
    "plt.hist(samsung_text_length, bins = 100, color='navy')\n",
    "print(\"Mean number of words per tweet   : \", (round(np.mean(samsung_text_length))))\n",
    "print(\"Median number of words per tweet : \", (round(np.median(samsung_text_length))))\n",
    "\n",
    "plt.gca().set(ylabel='Number of Tweets', xlabel='Tweet Word Count')\n",
    "plt.title('Distribution of Tweet Word Counts')\n",
    "plt.show()"
   ]
  },
  {
   "cell_type": "code",
   "execution_count": 149,
   "metadata": {},
   "outputs": [
    {
     "name": "stdout",
     "output_type": "stream",
     "text": [
      "Best Model's Params:  {'learning_decay': 0.9, 'n_components': 2}\n",
      "Best Log Likelihood Score:  -3338.778585698505\n",
      "Model Perplexity:  235.81216268407195\n"
     ]
    }
   ],
   "source": [
    "# LDA gridsearch with tfid vectorizer\n",
    "\n",
    "# Define Search Param\n",
    "search_params = {'n_components': [2, 4, 6, 8, 10], 'learning_decay': [.5, .7, .9]}\n",
    "\n",
    "# Init the Model\n",
    "lda = LatentDirichletAllocation(max_iter=5, learning_method='online', learning_offset=50.,random_state=42)\n",
    "\n",
    "# Init Grid Search Class\n",
    "model = GridSearchCV(lda, param_grid=search_params)\n",
    "\n",
    "# Do the Grid Search\n",
    "model.fit(samsung_tv)\n",
    "\n",
    "# Best Model\n",
    "best_lda_model = model.best_estimator_\n",
    "\n",
    "# Model Parameters\n",
    "print(\"Best Model's Params: \", model.best_params_)\n",
    "\n",
    "# Log Likelihood Score\n",
    "print(\"Best Log Likelihood Score: \", model.best_score_)\n",
    "\n",
    "# Perplexity\n",
    "print(\"Model Perplexity: \", best_lda_model.perplexity(samsung_tv))"
   ]
  },
  {
   "cell_type": "code",
   "execution_count": 150,
   "metadata": {},
   "outputs": [
    {
     "name": "stdout",
     "output_type": "stream",
     "text": [
      "Best Model's Params:  {'learning_decay': 0.9, 'n_components': 2}\n",
      "Best Log Likelihood Score:  -5198.519598210621\n",
      "Model Perplexity:  183.090851937965\n"
     ]
    }
   ],
   "source": [
    "# LDA gridsearch with countvectorizer\n",
    "\n",
    "# Define Search Param\n",
    "search_params = {'n_components': [2, 4, 6, 8, 10], 'learning_decay': [.5, .7, .9]}\n",
    "\n",
    "# Init the Model\n",
    "lda = LatentDirichletAllocation(max_iter=5, learning_method='online', learning_offset=50.,random_state=42)\n",
    "\n",
    "# Init Grid Search Class\n",
    "model = GridSearchCV(lda, param_grid=search_params)\n",
    "\n",
    "# Do the Grid Search\n",
    "model.fit(samsung_cv)\n",
    "\n",
    "# Best Model\n",
    "best_lda_model = model.best_estimator_\n",
    "\n",
    "# Model Parameters\n",
    "print(\"Best Model's Params: \", model.best_params_)\n",
    "\n",
    "# Log Likelihood Score\n",
    "print(\"Best Log Likelihood Score: \", model.best_score_)\n",
    "\n",
    "# Perplexity\n",
    "print(\"Model Perplexity: \", best_lda_model.perplexity(samsung_cv))"
   ]
  },
  {
   "cell_type": "markdown",
   "metadata": {},
   "source": [
    "Given the lower perlexity score, countvectorizer performs better with LSA compared to TFID vectorizer. This finding is in line with Blei (who developedLDA), he pointed out in the paper of 2003 (\"LatentDirichlet Allocation) that LDA addresses the shortcomings of the TFID model and leaves this approach behind. LDA is a probabilistic model that tries to estimate probability distributions for topics in documnets and words in topics, the weighting of TFID is not necessary for this. LDA only needs a bag-of-word vector (aka CountVectorizer).\n",
    "\n",
    "On a separate note, perplexity might not be the best measure to evaluate topic models because it doesnt consider the context and semantic associations between words. "
   ]
  },
  {
   "cell_type": "code",
   "execution_count": 151,
   "metadata": {},
   "outputs": [],
   "source": [
    "# Create function show top keywords for each topic\n",
    "def show_topics(vectorizer=cv, lda_model=best_lda_model, n_words=20):\n",
    "    keywords = np.array(vectorizer.get_feature_names())\n",
    "    topic_keywords = []\n",
    "    for topic_weights in lda_model.components_:\n",
    "        top_keyword_locs = (-topic_weights).argsort()[:n_words]\n",
    "        topic_keywords.append(keywords.take(top_keyword_locs))\n",
    "    return topic_keywords"
   ]
  },
  {
   "cell_type": "code",
   "execution_count": 152,
   "metadata": {},
   "outputs": [
    {
     "data": {
      "text/plain": [
       "0    1554\n",
       "1     884\n",
       "Name: dominant_topic, dtype: int64"
      ]
     },
     "execution_count": 152,
     "metadata": {},
     "output_type": "execute_result"
    }
   ],
   "source": [
    "# Create Document — Topic Matrix\n",
    "lda_output = best_lda_model.transform(samsung_cv)\n",
    "\n",
    "# column names\n",
    "topicnames = ['Topic' + str(i) for i in range(best_lda_model.n_components)]\n",
    "\n",
    "# index names\n",
    "docnames = ['Doc' + str(i) for i in range(len(tweet_samsung_clean['text']))]\n",
    "\n",
    "# Make the pandas dataframe\n",
    "df_document_topic = pd.DataFrame(np.round(lda_output, 2), columns=topicnames, index=docnames)\n",
    "\n",
    "# Get dominant topic for each document\n",
    "dominant_topic = np.argmax(df_document_topic.values, axis=1)\n",
    "df_document_topic['dominant_topic'] = dominant_topic\n",
    "df_document_topic['dominant_topic'].value_counts()\n"
   ]
  },
  {
   "cell_type": "code",
   "execution_count": 153,
   "metadata": {},
   "outputs": [
    {
     "data": {
      "text/html": [
       "<div>\n",
       "<style scoped>\n",
       "    .dataframe tbody tr th:only-of-type {\n",
       "        vertical-align: middle;\n",
       "    }\n",
       "\n",
       "    .dataframe tbody tr th {\n",
       "        vertical-align: top;\n",
       "    }\n",
       "\n",
       "    .dataframe thead th {\n",
       "        text-align: right;\n",
       "    }\n",
       "</style>\n",
       "<table border=\"1\" class=\"dataframe\">\n",
       "  <thead>\n",
       "    <tr style=\"text-align: right;\">\n",
       "      <th></th>\n",
       "      <th>able</th>\n",
       "      <th>account</th>\n",
       "      <th>air</th>\n",
       "      <th>amazing</th>\n",
       "      <th>android</th>\n",
       "      <th>anything</th>\n",
       "      <th>app</th>\n",
       "      <th>apps</th>\n",
       "      <th>available</th>\n",
       "      <th>away</th>\n",
       "      <th>...</th>\n",
       "      <th>working</th>\n",
       "      <th>world</th>\n",
       "      <th>xbox</th>\n",
       "      <th>xiaomi</th>\n",
       "      <th>year</th>\n",
       "      <th>yet</th>\n",
       "      <th>youthpjjm</th>\n",
       "      <th>youtube</th>\n",
       "      <th>zareldo</th>\n",
       "      <th>zoneoftech</th>\n",
       "    </tr>\n",
       "  </thead>\n",
       "  <tbody>\n",
       "    <tr>\n",
       "      <th>Topic0</th>\n",
       "      <td>13.259744</td>\n",
       "      <td>0.727356</td>\n",
       "      <td>1.744999</td>\n",
       "      <td>2.383816</td>\n",
       "      <td>65.948965</td>\n",
       "      <td>10.52086</td>\n",
       "      <td>46.594778</td>\n",
       "      <td>10.401123</td>\n",
       "      <td>9.356532</td>\n",
       "      <td>7.364671</td>\n",
       "      <td>...</td>\n",
       "      <td>1.544458</td>\n",
       "      <td>4.241432</td>\n",
       "      <td>3.316471</td>\n",
       "      <td>6.638334</td>\n",
       "      <td>46.952697</td>\n",
       "      <td>1.444924</td>\n",
       "      <td>8.056889</td>\n",
       "      <td>1.606066</td>\n",
       "      <td>0.578498</td>\n",
       "      <td>0.628296</td>\n",
       "    </tr>\n",
       "    <tr>\n",
       "      <th>Topic1</th>\n",
       "      <td>0.981998</td>\n",
       "      <td>10.523626</td>\n",
       "      <td>7.866699</td>\n",
       "      <td>7.431686</td>\n",
       "      <td>1.874435</td>\n",
       "      <td>1.58214</td>\n",
       "      <td>6.208578</td>\n",
       "      <td>0.822759</td>\n",
       "      <td>2.094757</td>\n",
       "      <td>1.680337</td>\n",
       "      <td>...</td>\n",
       "      <td>9.134430</td>\n",
       "      <td>6.398400</td>\n",
       "      <td>13.293578</td>\n",
       "      <td>2.385194</td>\n",
       "      <td>4.854752</td>\n",
       "      <td>8.396792</td>\n",
       "      <td>0.803935</td>\n",
       "      <td>8.860073</td>\n",
       "      <td>10.018176</td>\n",
       "      <td>17.936774</td>\n",
       "    </tr>\n",
       "  </tbody>\n",
       "</table>\n",
       "<p>2 rows × 207 columns</p>\n",
       "</div>"
      ],
      "text/plain": [
       "             able    account       air   amazing    android  anything  \\\n",
       "Topic0  13.259744   0.727356  1.744999  2.383816  65.948965  10.52086   \n",
       "Topic1   0.981998  10.523626  7.866699  7.431686   1.874435   1.58214   \n",
       "\n",
       "              app       apps  available      away  ...   working     world  \\\n",
       "Topic0  46.594778  10.401123   9.356532  7.364671  ...  1.544458  4.241432   \n",
       "Topic1   6.208578   0.822759   2.094757  1.680337  ...  9.134430  6.398400   \n",
       "\n",
       "             xbox    xiaomi       year       yet  youthpjjm   youtube  \\\n",
       "Topic0   3.316471  6.638334  46.952697  1.444924   8.056889  1.606066   \n",
       "Topic1  13.293578  2.385194   4.854752  8.396792   0.803935  8.860073   \n",
       "\n",
       "          zareldo  zoneoftech  \n",
       "Topic0   0.578498    0.628296  \n",
       "Topic1  10.018176   17.936774  \n",
       "\n",
       "[2 rows x 207 columns]"
      ]
     },
     "execution_count": 153,
     "metadata": {},
     "output_type": "execute_result"
    }
   ],
   "source": [
    "# Topic-Keyword Matrix\n",
    "df_topic_keywords_samsung = pd.DataFrame(best_lda_model.components_)\n",
    "\n",
    "# Assign Column and Index\n",
    "df_topic_keywords_samsung.columns = cv.get_feature_names()\n",
    "df_topic_keywords_samsung.index = topicnames\n",
    "\n",
    "# View\n",
    "df_topic_keywords_samsung.head()"
   ]
  },
  {
   "cell_type": "code",
   "execution_count": 154,
   "metadata": {},
   "outputs": [
    {
     "data": {
      "text/html": [
       "<div>\n",
       "<style scoped>\n",
       "    .dataframe tbody tr th:only-of-type {\n",
       "        vertical-align: middle;\n",
       "    }\n",
       "\n",
       "    .dataframe tbody tr th {\n",
       "        vertical-align: top;\n",
       "    }\n",
       "\n",
       "    .dataframe thead th {\n",
       "        text-align: right;\n",
       "    }\n",
       "</style>\n",
       "<table border=\"1\" class=\"dataframe\">\n",
       "  <thead>\n",
       "    <tr style=\"text-align: right;\">\n",
       "      <th></th>\n",
       "      <th>Word 0</th>\n",
       "      <th>Word 1</th>\n",
       "      <th>Word 2</th>\n",
       "      <th>Word 3</th>\n",
       "      <th>Word 4</th>\n",
       "      <th>Word 5</th>\n",
       "      <th>Word 6</th>\n",
       "      <th>Word 7</th>\n",
       "      <th>Word 8</th>\n",
       "      <th>Word 9</th>\n",
       "      <th>Word 10</th>\n",
       "      <th>Word 11</th>\n",
       "      <th>Word 12</th>\n",
       "      <th>Word 13</th>\n",
       "      <th>Word 14</th>\n",
       "      <th>Topics</th>\n",
       "    </tr>\n",
       "  </thead>\n",
       "  <tbody>\n",
       "    <tr>\n",
       "      <th>Topic 0</th>\n",
       "      <td>galaxy</td>\n",
       "      <td>iphone</td>\n",
       "      <td>android</td>\n",
       "      <td>plus</td>\n",
       "      <td>oneplus</td>\n",
       "      <td>year</td>\n",
       "      <td>app</td>\n",
       "      <td>work</td>\n",
       "      <td>new</td>\n",
       "      <td>help</td>\n",
       "      <td>series</td>\n",
       "      <td>smart</td>\n",
       "      <td>last</td>\n",
       "      <td>red</td>\n",
       "      <td>idea</td>\n",
       "      <td>Samsung phone</td>\n",
       "    </tr>\n",
       "    <tr>\n",
       "      <th>Topic 1</th>\n",
       "      <td>phone</td>\n",
       "      <td>note</td>\n",
       "      <td>samsungmobileus</td>\n",
       "      <td>bad</td>\n",
       "      <td>buy</td>\n",
       "      <td>user</td>\n",
       "      <td>shot</td>\n",
       "      <td>camera</td>\n",
       "      <td>channel</td>\n",
       "      <td>samsunguk</td>\n",
       "      <td>pro</td>\n",
       "      <td>iphone</td>\n",
       "      <td>price</td>\n",
       "      <td>screen</td>\n",
       "      <td>best</td>\n",
       "      <td>phone issues</td>\n",
       "    </tr>\n",
       "  </tbody>\n",
       "</table>\n",
       "</div>"
      ],
      "text/plain": [
       "         Word 0  Word 1           Word 2 Word 3   Word 4 Word 5 Word 6  \\\n",
       "Topic 0  galaxy  iphone          android   plus  oneplus   year    app   \n",
       "Topic 1   phone    note  samsungmobileus    bad      buy   user   shot   \n",
       "\n",
       "         Word 7   Word 8     Word 9 Word 10 Word 11 Word 12 Word 13 Word 14  \\\n",
       "Topic 0    work      new       help  series   smart    last     red    idea   \n",
       "Topic 1  camera  channel  samsunguk     pro  iphone   price  screen    best   \n",
       "\n",
       "                Topics  \n",
       "Topic 0  Samsung phone  \n",
       "Topic 1   phone issues  "
      ]
     },
     "execution_count": 154,
     "metadata": {},
     "output_type": "execute_result"
    }
   ],
   "source": [
    "#Show top keywords\n",
    "topic_keywords_samsung = show_topics(vectorizer=cv, lda_model=best_lda_model, n_words=15)\n",
    "\n",
    "# Topic - Keywords Dataframe\n",
    "df_topic_keywords_samsung = pd.DataFrame(topic_keywords_samsung)\n",
    "df_topic_keywords_samsung.columns = ['Word '+str(i) for i in range(df_topic_keywords_samsung.shape[1])]\n",
    "df_topic_keywords_samsung.index = ['Topic '+str(i) for i in range(df_topic_keywords_samsung.shape[0])]\n",
    "\n",
    "# Manually assign topics\n",
    "df_topic_keywords_samsung['Topics']=['Samsung phone', 'phone issues']\n",
    "df_topic_keywords_samsung"
   ]
  },
  {
   "cell_type": "code",
   "execution_count": 155,
   "metadata": {},
   "outputs": [
    {
     "name": "stderr",
     "output_type": "stream",
     "text": [
      "2020-04-21 13:49:03,015 : ERROR : exception calling callback for <Future at 0x2628d269128 state=finished raised BrokenProcessPool>\n",
      "joblib.externals.loky.process_executor._RemoteTraceback: \n",
      "'''\n",
      "Traceback (most recent call last):\n",
      "  File \"C:\\Users\\frl\\Anaconda3\\lib\\site-packages\\joblib\\externals\\loky\\process_executor.py\", line 391, in _process_worker\n",
      "    call_item = call_queue.get(block=True, timeout=timeout)\n",
      "  File \"C:\\Users\\frl\\Anaconda3\\lib\\multiprocessing\\queues.py\", line 113, in get\n",
      "    return _ForkingPickler.loads(res)\n",
      "ModuleNotFoundError: No module named 'pandas.core.internals.managers'; 'pandas.core.internals' is not a package\n",
      "'''\n",
      "\n",
      "The above exception was the direct cause of the following exception:\n",
      "\n",
      "Traceback (most recent call last):\n",
      "  File \"C:\\Users\\frl\\Anaconda3\\lib\\site-packages\\joblib\\externals\\loky\\_base.py\", line 625, in _invoke_callbacks\n",
      "    callback(self)\n",
      "  File \"C:\\Users\\frl\\Anaconda3\\lib\\site-packages\\joblib\\parallel.py\", line 340, in __call__\n",
      "    self.parallel.dispatch_next()\n",
      "  File \"C:\\Users\\frl\\Anaconda3\\lib\\site-packages\\joblib\\parallel.py\", line 769, in dispatch_next\n",
      "    if not self.dispatch_one_batch(self._original_iterator):\n",
      "  File \"C:\\Users\\frl\\Anaconda3\\lib\\site-packages\\joblib\\parallel.py\", line 835, in dispatch_one_batch\n",
      "    self._dispatch(tasks)\n",
      "  File \"C:\\Users\\frl\\Anaconda3\\lib\\site-packages\\joblib\\parallel.py\", line 754, in _dispatch\n",
      "    job = self._backend.apply_async(batch, callback=cb)\n",
      "  File \"C:\\Users\\frl\\Anaconda3\\lib\\site-packages\\joblib\\_parallel_backends.py\", line 551, in apply_async\n",
      "    future = self._workers.submit(SafeFunction(func))\n",
      "  File \"C:\\Users\\frl\\Anaconda3\\lib\\site-packages\\joblib\\externals\\loky\\reusable_executor.py\", line 160, in submit\n",
      "    fn, *args, **kwargs)\n",
      "  File \"C:\\Users\\frl\\Anaconda3\\lib\\site-packages\\joblib\\externals\\loky\\process_executor.py\", line 1027, in submit\n",
      "    raise self._flags.broken\n",
      "joblib.externals.loky.process_executor.BrokenProcessPool: A task has failed to un-serialize. Please ensure that the arguments of the function are all picklable.\n"
     ]
    },
    {
     "ename": "BrokenProcessPool",
     "evalue": "A task has failed to un-serialize. Please ensure that the arguments of the function are all picklable.",
     "output_type": "error",
     "traceback": [
      "\u001b[1;31m---------------------------------------------------------------------------\u001b[0m",
      "\u001b[1;31m_RemoteTraceback\u001b[0m                          Traceback (most recent call last)",
      "\u001b[1;31m_RemoteTraceback\u001b[0m: \n'''\nTraceback (most recent call last):\n  File \"C:\\Users\\frl\\Anaconda3\\lib\\site-packages\\joblib\\externals\\loky\\process_executor.py\", line 391, in _process_worker\n    call_item = call_queue.get(block=True, timeout=timeout)\n  File \"C:\\Users\\frl\\Anaconda3\\lib\\multiprocessing\\queues.py\", line 113, in get\n    return _ForkingPickler.loads(res)\nModuleNotFoundError: No module named 'pandas.core.internals.managers'; 'pandas.core.internals' is not a package\n'''",
      "\nThe above exception was the direct cause of the following exception:\n",
      "\u001b[1;31mBrokenProcessPool\u001b[0m                         Traceback (most recent call last)",
      "\u001b[1;32m<ipython-input-155-4aed8277bc65>\u001b[0m in \u001b[0;36m<module>\u001b[1;34m\u001b[0m\n\u001b[1;32m----> 1\u001b[1;33m \u001b[0mpyLDAvis\u001b[0m\u001b[1;33m.\u001b[0m\u001b[0msklearn\u001b[0m\u001b[1;33m.\u001b[0m\u001b[0mprepare\u001b[0m\u001b[1;33m(\u001b[0m\u001b[0mbest_lda_model\u001b[0m\u001b[1;33m,\u001b[0m \u001b[0msamsung_cv\u001b[0m\u001b[1;33m,\u001b[0m \u001b[0mcv\u001b[0m\u001b[1;33m)\u001b[0m\u001b[1;33m\u001b[0m\u001b[1;33m\u001b[0m\u001b[0m\n\u001b[0m",
      "\u001b[1;32m~\\Anaconda3\\lib\\site-packages\\pyLDAvis\\sklearn.py\u001b[0m in \u001b[0;36mprepare\u001b[1;34m(lda_model, dtm, vectorizer, **kwargs)\u001b[0m\n\u001b[0;32m     93\u001b[0m     \"\"\"\n\u001b[0;32m     94\u001b[0m     \u001b[0mopts\u001b[0m \u001b[1;33m=\u001b[0m \u001b[0mfp\u001b[0m\u001b[1;33m.\u001b[0m\u001b[0mmerge\u001b[0m\u001b[1;33m(\u001b[0m\u001b[0m_extract_data\u001b[0m\u001b[1;33m(\u001b[0m\u001b[0mlda_model\u001b[0m\u001b[1;33m,\u001b[0m \u001b[0mdtm\u001b[0m\u001b[1;33m,\u001b[0m \u001b[0mvectorizer\u001b[0m\u001b[1;33m)\u001b[0m\u001b[1;33m,\u001b[0m \u001b[0mkwargs\u001b[0m\u001b[1;33m)\u001b[0m\u001b[1;33m\u001b[0m\u001b[1;33m\u001b[0m\u001b[0m\n\u001b[1;32m---> 95\u001b[1;33m     \u001b[1;32mreturn\u001b[0m \u001b[0mpyLDAvis\u001b[0m\u001b[1;33m.\u001b[0m\u001b[0mprepare\u001b[0m\u001b[1;33m(\u001b[0m\u001b[1;33m**\u001b[0m\u001b[0mopts\u001b[0m\u001b[1;33m)\u001b[0m\u001b[1;33m\u001b[0m\u001b[1;33m\u001b[0m\u001b[0m\n\u001b[0m",
      "\u001b[1;32m~\\Anaconda3\\lib\\site-packages\\pyLDAvis\\_prepare.py\u001b[0m in \u001b[0;36mprepare\u001b[1;34m(topic_term_dists, doc_topic_dists, doc_lengths, vocab, term_frequency, R, lambda_step, mds, n_jobs, plot_opts, sort_topics)\u001b[0m\n\u001b[0;32m    396\u001b[0m    \u001b[0mterm_frequency\u001b[0m \u001b[1;33m=\u001b[0m \u001b[0mnp\u001b[0m\u001b[1;33m.\u001b[0m\u001b[0msum\u001b[0m\u001b[1;33m(\u001b[0m\u001b[0mterm_topic_freq\u001b[0m\u001b[1;33m,\u001b[0m \u001b[0maxis\u001b[0m\u001b[1;33m=\u001b[0m\u001b[1;36m0\u001b[0m\u001b[1;33m)\u001b[0m\u001b[1;33m\u001b[0m\u001b[1;33m\u001b[0m\u001b[0m\n\u001b[0;32m    397\u001b[0m \u001b[1;33m\u001b[0m\u001b[0m\n\u001b[1;32m--> 398\u001b[1;33m    \u001b[0mtopic_info\u001b[0m         \u001b[1;33m=\u001b[0m \u001b[0m_topic_info\u001b[0m\u001b[1;33m(\u001b[0m\u001b[0mtopic_term_dists\u001b[0m\u001b[1;33m,\u001b[0m \u001b[0mtopic_proportion\u001b[0m\u001b[1;33m,\u001b[0m \u001b[0mterm_frequency\u001b[0m\u001b[1;33m,\u001b[0m \u001b[0mterm_topic_freq\u001b[0m\u001b[1;33m,\u001b[0m \u001b[0mvocab\u001b[0m\u001b[1;33m,\u001b[0m \u001b[0mlambda_step\u001b[0m\u001b[1;33m,\u001b[0m \u001b[0mR\u001b[0m\u001b[1;33m,\u001b[0m \u001b[0mn_jobs\u001b[0m\u001b[1;33m)\u001b[0m\u001b[1;33m\u001b[0m\u001b[1;33m\u001b[0m\u001b[0m\n\u001b[0m\u001b[0;32m    399\u001b[0m    \u001b[0mtoken_table\u001b[0m        \u001b[1;33m=\u001b[0m \u001b[0m_token_table\u001b[0m\u001b[1;33m(\u001b[0m\u001b[0mtopic_info\u001b[0m\u001b[1;33m,\u001b[0m \u001b[0mterm_topic_freq\u001b[0m\u001b[1;33m,\u001b[0m \u001b[0mvocab\u001b[0m\u001b[1;33m,\u001b[0m \u001b[0mterm_frequency\u001b[0m\u001b[1;33m)\u001b[0m\u001b[1;33m\u001b[0m\u001b[1;33m\u001b[0m\u001b[0m\n\u001b[0;32m    400\u001b[0m    \u001b[0mtopic_coordinates\u001b[0m \u001b[1;33m=\u001b[0m \u001b[0m_topic_coordinates\u001b[0m\u001b[1;33m(\u001b[0m\u001b[0mmds\u001b[0m\u001b[1;33m,\u001b[0m \u001b[0mtopic_term_dists\u001b[0m\u001b[1;33m,\u001b[0m \u001b[0mtopic_proportion\u001b[0m\u001b[1;33m)\u001b[0m\u001b[1;33m\u001b[0m\u001b[1;33m\u001b[0m\u001b[0m\n",
      "\u001b[1;32m~\\Anaconda3\\lib\\site-packages\\pyLDAvis\\_prepare.py\u001b[0m in \u001b[0;36m_topic_info\u001b[1;34m(topic_term_dists, topic_proportion, term_frequency, term_topic_freq, vocab, lambda_step, R, n_jobs)\u001b[0m\n\u001b[0;32m    253\u001b[0m \u001b[1;33m\u001b[0m\u001b[0m\n\u001b[0;32m    254\u001b[0m    top_terms = pd.concat(Parallel(n_jobs=n_jobs)(delayed(_find_relevance_chunks)(log_ttd, log_lift, R, ls) \\\n\u001b[1;32m--> 255\u001b[1;33m                                                  for ls in _job_chunks(lambda_seq, n_jobs)))\n\u001b[0m\u001b[0;32m    256\u001b[0m    \u001b[0mtopic_dfs\u001b[0m \u001b[1;33m=\u001b[0m \u001b[0mmap\u001b[0m\u001b[1;33m(\u001b[0m\u001b[0mtopic_top_term_df\u001b[0m\u001b[1;33m,\u001b[0m \u001b[0menumerate\u001b[0m\u001b[1;33m(\u001b[0m\u001b[0mtop_terms\u001b[0m\u001b[1;33m.\u001b[0m\u001b[0mT\u001b[0m\u001b[1;33m.\u001b[0m\u001b[0miterrows\u001b[0m\u001b[1;33m(\u001b[0m\u001b[1;33m)\u001b[0m\u001b[1;33m,\u001b[0m \u001b[1;36m1\u001b[0m\u001b[1;33m)\u001b[0m\u001b[1;33m)\u001b[0m\u001b[1;33m\u001b[0m\u001b[1;33m\u001b[0m\u001b[0m\n\u001b[0;32m    257\u001b[0m    \u001b[1;32mreturn\u001b[0m \u001b[0mpd\u001b[0m\u001b[1;33m.\u001b[0m\u001b[0mconcat\u001b[0m\u001b[1;33m(\u001b[0m\u001b[1;33m[\u001b[0m\u001b[0mdefault_term_info\u001b[0m\u001b[1;33m]\u001b[0m \u001b[1;33m+\u001b[0m \u001b[0mlist\u001b[0m\u001b[1;33m(\u001b[0m\u001b[0mtopic_dfs\u001b[0m\u001b[1;33m)\u001b[0m\u001b[1;33m)\u001b[0m\u001b[1;33m\u001b[0m\u001b[1;33m\u001b[0m\u001b[0m\n",
      "\u001b[1;32m~\\Anaconda3\\lib\\site-packages\\joblib\\parallel.py\u001b[0m in \u001b[0;36m__call__\u001b[1;34m(self, iterable)\u001b[0m\n\u001b[0;32m   1015\u001b[0m \u001b[1;33m\u001b[0m\u001b[0m\n\u001b[0;32m   1016\u001b[0m             \u001b[1;32mwith\u001b[0m \u001b[0mself\u001b[0m\u001b[1;33m.\u001b[0m\u001b[0m_backend\u001b[0m\u001b[1;33m.\u001b[0m\u001b[0mretrieval_context\u001b[0m\u001b[1;33m(\u001b[0m\u001b[1;33m)\u001b[0m\u001b[1;33m:\u001b[0m\u001b[1;33m\u001b[0m\u001b[1;33m\u001b[0m\u001b[0m\n\u001b[1;32m-> 1017\u001b[1;33m                 \u001b[0mself\u001b[0m\u001b[1;33m.\u001b[0m\u001b[0mretrieve\u001b[0m\u001b[1;33m(\u001b[0m\u001b[1;33m)\u001b[0m\u001b[1;33m\u001b[0m\u001b[1;33m\u001b[0m\u001b[0m\n\u001b[0m\u001b[0;32m   1018\u001b[0m             \u001b[1;31m# Make sure that we get a last message telling us we are done\u001b[0m\u001b[1;33m\u001b[0m\u001b[1;33m\u001b[0m\u001b[1;33m\u001b[0m\u001b[0m\n\u001b[0;32m   1019\u001b[0m             \u001b[0melapsed_time\u001b[0m \u001b[1;33m=\u001b[0m \u001b[0mtime\u001b[0m\u001b[1;33m.\u001b[0m\u001b[0mtime\u001b[0m\u001b[1;33m(\u001b[0m\u001b[1;33m)\u001b[0m \u001b[1;33m-\u001b[0m \u001b[0mself\u001b[0m\u001b[1;33m.\u001b[0m\u001b[0m_start_time\u001b[0m\u001b[1;33m\u001b[0m\u001b[1;33m\u001b[0m\u001b[0m\n",
      "\u001b[1;32m~\\Anaconda3\\lib\\site-packages\\joblib\\parallel.py\u001b[0m in \u001b[0;36mretrieve\u001b[1;34m(self)\u001b[0m\n\u001b[0;32m    907\u001b[0m             \u001b[1;32mtry\u001b[0m\u001b[1;33m:\u001b[0m\u001b[1;33m\u001b[0m\u001b[1;33m\u001b[0m\u001b[0m\n\u001b[0;32m    908\u001b[0m                 \u001b[1;32mif\u001b[0m \u001b[0mgetattr\u001b[0m\u001b[1;33m(\u001b[0m\u001b[0mself\u001b[0m\u001b[1;33m.\u001b[0m\u001b[0m_backend\u001b[0m\u001b[1;33m,\u001b[0m \u001b[1;34m'supports_timeout'\u001b[0m\u001b[1;33m,\u001b[0m \u001b[1;32mFalse\u001b[0m\u001b[1;33m)\u001b[0m\u001b[1;33m:\u001b[0m\u001b[1;33m\u001b[0m\u001b[1;33m\u001b[0m\u001b[0m\n\u001b[1;32m--> 909\u001b[1;33m                     \u001b[0mself\u001b[0m\u001b[1;33m.\u001b[0m\u001b[0m_output\u001b[0m\u001b[1;33m.\u001b[0m\u001b[0mextend\u001b[0m\u001b[1;33m(\u001b[0m\u001b[0mjob\u001b[0m\u001b[1;33m.\u001b[0m\u001b[0mget\u001b[0m\u001b[1;33m(\u001b[0m\u001b[0mtimeout\u001b[0m\u001b[1;33m=\u001b[0m\u001b[0mself\u001b[0m\u001b[1;33m.\u001b[0m\u001b[0mtimeout\u001b[0m\u001b[1;33m)\u001b[0m\u001b[1;33m)\u001b[0m\u001b[1;33m\u001b[0m\u001b[1;33m\u001b[0m\u001b[0m\n\u001b[0m\u001b[0;32m    910\u001b[0m                 \u001b[1;32melse\u001b[0m\u001b[1;33m:\u001b[0m\u001b[1;33m\u001b[0m\u001b[1;33m\u001b[0m\u001b[0m\n\u001b[0;32m    911\u001b[0m                     \u001b[0mself\u001b[0m\u001b[1;33m.\u001b[0m\u001b[0m_output\u001b[0m\u001b[1;33m.\u001b[0m\u001b[0mextend\u001b[0m\u001b[1;33m(\u001b[0m\u001b[0mjob\u001b[0m\u001b[1;33m.\u001b[0m\u001b[0mget\u001b[0m\u001b[1;33m(\u001b[0m\u001b[1;33m)\u001b[0m\u001b[1;33m)\u001b[0m\u001b[1;33m\u001b[0m\u001b[1;33m\u001b[0m\u001b[0m\n",
      "\u001b[1;32m~\\Anaconda3\\lib\\site-packages\\joblib\\_parallel_backends.py\u001b[0m in \u001b[0;36mwrap_future_result\u001b[1;34m(future, timeout)\u001b[0m\n\u001b[0;32m    560\u001b[0m         AsyncResults.get from multiprocessing.\"\"\"\n\u001b[0;32m    561\u001b[0m         \u001b[1;32mtry\u001b[0m\u001b[1;33m:\u001b[0m\u001b[1;33m\u001b[0m\u001b[1;33m\u001b[0m\u001b[0m\n\u001b[1;32m--> 562\u001b[1;33m             \u001b[1;32mreturn\u001b[0m \u001b[0mfuture\u001b[0m\u001b[1;33m.\u001b[0m\u001b[0mresult\u001b[0m\u001b[1;33m(\u001b[0m\u001b[0mtimeout\u001b[0m\u001b[1;33m=\u001b[0m\u001b[0mtimeout\u001b[0m\u001b[1;33m)\u001b[0m\u001b[1;33m\u001b[0m\u001b[1;33m\u001b[0m\u001b[0m\n\u001b[0m\u001b[0;32m    563\u001b[0m         \u001b[1;32mexcept\u001b[0m \u001b[0mLokyTimeoutError\u001b[0m\u001b[1;33m:\u001b[0m\u001b[1;33m\u001b[0m\u001b[1;33m\u001b[0m\u001b[0m\n\u001b[0;32m    564\u001b[0m             \u001b[1;32mraise\u001b[0m \u001b[0mTimeoutError\u001b[0m\u001b[1;33m(\u001b[0m\u001b[1;33m)\u001b[0m\u001b[1;33m\u001b[0m\u001b[1;33m\u001b[0m\u001b[0m\n",
      "\u001b[1;32m~\\Anaconda3\\lib\\concurrent\\futures\\_base.py\u001b[0m in \u001b[0;36mresult\u001b[1;34m(self, timeout)\u001b[0m\n\u001b[0;32m    430\u001b[0m                 \u001b[1;32mraise\u001b[0m \u001b[0mCancelledError\u001b[0m\u001b[1;33m(\u001b[0m\u001b[1;33m)\u001b[0m\u001b[1;33m\u001b[0m\u001b[1;33m\u001b[0m\u001b[0m\n\u001b[0;32m    431\u001b[0m             \u001b[1;32melif\u001b[0m \u001b[0mself\u001b[0m\u001b[1;33m.\u001b[0m\u001b[0m_state\u001b[0m \u001b[1;33m==\u001b[0m \u001b[0mFINISHED\u001b[0m\u001b[1;33m:\u001b[0m\u001b[1;33m\u001b[0m\u001b[1;33m\u001b[0m\u001b[0m\n\u001b[1;32m--> 432\u001b[1;33m                 \u001b[1;32mreturn\u001b[0m \u001b[0mself\u001b[0m\u001b[1;33m.\u001b[0m\u001b[0m__get_result\u001b[0m\u001b[1;33m(\u001b[0m\u001b[1;33m)\u001b[0m\u001b[1;33m\u001b[0m\u001b[1;33m\u001b[0m\u001b[0m\n\u001b[0m\u001b[0;32m    433\u001b[0m             \u001b[1;32melse\u001b[0m\u001b[1;33m:\u001b[0m\u001b[1;33m\u001b[0m\u001b[1;33m\u001b[0m\u001b[0m\n\u001b[0;32m    434\u001b[0m                 \u001b[1;32mraise\u001b[0m \u001b[0mTimeoutError\u001b[0m\u001b[1;33m(\u001b[0m\u001b[1;33m)\u001b[0m\u001b[1;33m\u001b[0m\u001b[1;33m\u001b[0m\u001b[0m\n",
      "\u001b[1;32m~\\Anaconda3\\lib\\concurrent\\futures\\_base.py\u001b[0m in \u001b[0;36m__get_result\u001b[1;34m(self)\u001b[0m\n\u001b[0;32m    382\u001b[0m     \u001b[1;32mdef\u001b[0m \u001b[0m__get_result\u001b[0m\u001b[1;33m(\u001b[0m\u001b[0mself\u001b[0m\u001b[1;33m)\u001b[0m\u001b[1;33m:\u001b[0m\u001b[1;33m\u001b[0m\u001b[1;33m\u001b[0m\u001b[0m\n\u001b[0;32m    383\u001b[0m         \u001b[1;32mif\u001b[0m \u001b[0mself\u001b[0m\u001b[1;33m.\u001b[0m\u001b[0m_exception\u001b[0m\u001b[1;33m:\u001b[0m\u001b[1;33m\u001b[0m\u001b[1;33m\u001b[0m\u001b[0m\n\u001b[1;32m--> 384\u001b[1;33m             \u001b[1;32mraise\u001b[0m \u001b[0mself\u001b[0m\u001b[1;33m.\u001b[0m\u001b[0m_exception\u001b[0m\u001b[1;33m\u001b[0m\u001b[1;33m\u001b[0m\u001b[0m\n\u001b[0m\u001b[0;32m    385\u001b[0m         \u001b[1;32melse\u001b[0m\u001b[1;33m:\u001b[0m\u001b[1;33m\u001b[0m\u001b[1;33m\u001b[0m\u001b[0m\n\u001b[0;32m    386\u001b[0m             \u001b[1;32mreturn\u001b[0m \u001b[0mself\u001b[0m\u001b[1;33m.\u001b[0m\u001b[0m_result\u001b[0m\u001b[1;33m\u001b[0m\u001b[1;33m\u001b[0m\u001b[0m\n",
      "\u001b[1;32m~\\Anaconda3\\lib\\site-packages\\joblib\\externals\\loky\\_base.py\u001b[0m in \u001b[0;36m_invoke_callbacks\u001b[1;34m(self)\u001b[0m\n\u001b[0;32m    623\u001b[0m         \u001b[1;32mfor\u001b[0m \u001b[0mcallback\u001b[0m \u001b[1;32min\u001b[0m \u001b[0mself\u001b[0m\u001b[1;33m.\u001b[0m\u001b[0m_done_callbacks\u001b[0m\u001b[1;33m:\u001b[0m\u001b[1;33m\u001b[0m\u001b[1;33m\u001b[0m\u001b[0m\n\u001b[0;32m    624\u001b[0m             \u001b[1;32mtry\u001b[0m\u001b[1;33m:\u001b[0m\u001b[1;33m\u001b[0m\u001b[1;33m\u001b[0m\u001b[0m\n\u001b[1;32m--> 625\u001b[1;33m                 \u001b[0mcallback\u001b[0m\u001b[1;33m(\u001b[0m\u001b[0mself\u001b[0m\u001b[1;33m)\u001b[0m\u001b[1;33m\u001b[0m\u001b[1;33m\u001b[0m\u001b[0m\n\u001b[0m\u001b[0;32m    626\u001b[0m             \u001b[1;32mexcept\u001b[0m \u001b[0mBaseException\u001b[0m\u001b[1;33m:\u001b[0m\u001b[1;33m\u001b[0m\u001b[1;33m\u001b[0m\u001b[0m\n\u001b[0;32m    627\u001b[0m                 \u001b[0mLOGGER\u001b[0m\u001b[1;33m.\u001b[0m\u001b[0mexception\u001b[0m\u001b[1;33m(\u001b[0m\u001b[1;34m'exception calling callback for %r'\u001b[0m\u001b[1;33m,\u001b[0m \u001b[0mself\u001b[0m\u001b[1;33m)\u001b[0m\u001b[1;33m\u001b[0m\u001b[1;33m\u001b[0m\u001b[0m\n",
      "\u001b[1;32m~\\Anaconda3\\lib\\site-packages\\joblib\\parallel.py\u001b[0m in \u001b[0;36m__call__\u001b[1;34m(self, out)\u001b[0m\n\u001b[0;32m    338\u001b[0m         \u001b[1;32mwith\u001b[0m \u001b[0mself\u001b[0m\u001b[1;33m.\u001b[0m\u001b[0mparallel\u001b[0m\u001b[1;33m.\u001b[0m\u001b[0m_lock\u001b[0m\u001b[1;33m:\u001b[0m\u001b[1;33m\u001b[0m\u001b[1;33m\u001b[0m\u001b[0m\n\u001b[0;32m    339\u001b[0m             \u001b[1;32mif\u001b[0m \u001b[0mself\u001b[0m\u001b[1;33m.\u001b[0m\u001b[0mparallel\u001b[0m\u001b[1;33m.\u001b[0m\u001b[0m_original_iterator\u001b[0m \u001b[1;32mis\u001b[0m \u001b[1;32mnot\u001b[0m \u001b[1;32mNone\u001b[0m\u001b[1;33m:\u001b[0m\u001b[1;33m\u001b[0m\u001b[1;33m\u001b[0m\u001b[0m\n\u001b[1;32m--> 340\u001b[1;33m                 \u001b[0mself\u001b[0m\u001b[1;33m.\u001b[0m\u001b[0mparallel\u001b[0m\u001b[1;33m.\u001b[0m\u001b[0mdispatch_next\u001b[0m\u001b[1;33m(\u001b[0m\u001b[1;33m)\u001b[0m\u001b[1;33m\u001b[0m\u001b[1;33m\u001b[0m\u001b[0m\n\u001b[0m\u001b[0;32m    341\u001b[0m \u001b[1;33m\u001b[0m\u001b[0m\n\u001b[0;32m    342\u001b[0m \u001b[1;33m\u001b[0m\u001b[0m\n",
      "\u001b[1;32m~\\Anaconda3\\lib\\site-packages\\joblib\\parallel.py\u001b[0m in \u001b[0;36mdispatch_next\u001b[1;34m(self)\u001b[0m\n\u001b[0;32m    767\u001b[0m \u001b[1;33m\u001b[0m\u001b[0m\n\u001b[0;32m    768\u001b[0m         \"\"\"\n\u001b[1;32m--> 769\u001b[1;33m         \u001b[1;32mif\u001b[0m \u001b[1;32mnot\u001b[0m \u001b[0mself\u001b[0m\u001b[1;33m.\u001b[0m\u001b[0mdispatch_one_batch\u001b[0m\u001b[1;33m(\u001b[0m\u001b[0mself\u001b[0m\u001b[1;33m.\u001b[0m\u001b[0m_original_iterator\u001b[0m\u001b[1;33m)\u001b[0m\u001b[1;33m:\u001b[0m\u001b[1;33m\u001b[0m\u001b[1;33m\u001b[0m\u001b[0m\n\u001b[0m\u001b[0;32m    770\u001b[0m             \u001b[0mself\u001b[0m\u001b[1;33m.\u001b[0m\u001b[0m_iterating\u001b[0m \u001b[1;33m=\u001b[0m \u001b[1;32mFalse\u001b[0m\u001b[1;33m\u001b[0m\u001b[1;33m\u001b[0m\u001b[0m\n\u001b[0;32m    771\u001b[0m             \u001b[0mself\u001b[0m\u001b[1;33m.\u001b[0m\u001b[0m_original_iterator\u001b[0m \u001b[1;33m=\u001b[0m \u001b[1;32mNone\u001b[0m\u001b[1;33m\u001b[0m\u001b[1;33m\u001b[0m\u001b[0m\n",
      "\u001b[1;32m~\\Anaconda3\\lib\\site-packages\\joblib\\parallel.py\u001b[0m in \u001b[0;36mdispatch_one_batch\u001b[1;34m(self, iterator)\u001b[0m\n\u001b[0;32m    833\u001b[0m                 \u001b[1;32mreturn\u001b[0m \u001b[1;32mFalse\u001b[0m\u001b[1;33m\u001b[0m\u001b[1;33m\u001b[0m\u001b[0m\n\u001b[0;32m    834\u001b[0m             \u001b[1;32melse\u001b[0m\u001b[1;33m:\u001b[0m\u001b[1;33m\u001b[0m\u001b[1;33m\u001b[0m\u001b[0m\n\u001b[1;32m--> 835\u001b[1;33m                 \u001b[0mself\u001b[0m\u001b[1;33m.\u001b[0m\u001b[0m_dispatch\u001b[0m\u001b[1;33m(\u001b[0m\u001b[0mtasks\u001b[0m\u001b[1;33m)\u001b[0m\u001b[1;33m\u001b[0m\u001b[1;33m\u001b[0m\u001b[0m\n\u001b[0m\u001b[0;32m    836\u001b[0m                 \u001b[1;32mreturn\u001b[0m \u001b[1;32mTrue\u001b[0m\u001b[1;33m\u001b[0m\u001b[1;33m\u001b[0m\u001b[0m\n\u001b[0;32m    837\u001b[0m \u001b[1;33m\u001b[0m\u001b[0m\n",
      "\u001b[1;32m~\\Anaconda3\\lib\\site-packages\\joblib\\parallel.py\u001b[0m in \u001b[0;36m_dispatch\u001b[1;34m(self, batch)\u001b[0m\n\u001b[0;32m    752\u001b[0m         \u001b[1;32mwith\u001b[0m \u001b[0mself\u001b[0m\u001b[1;33m.\u001b[0m\u001b[0m_lock\u001b[0m\u001b[1;33m:\u001b[0m\u001b[1;33m\u001b[0m\u001b[1;33m\u001b[0m\u001b[0m\n\u001b[0;32m    753\u001b[0m             \u001b[0mjob_idx\u001b[0m \u001b[1;33m=\u001b[0m \u001b[0mlen\u001b[0m\u001b[1;33m(\u001b[0m\u001b[0mself\u001b[0m\u001b[1;33m.\u001b[0m\u001b[0m_jobs\u001b[0m\u001b[1;33m)\u001b[0m\u001b[1;33m\u001b[0m\u001b[1;33m\u001b[0m\u001b[0m\n\u001b[1;32m--> 754\u001b[1;33m             \u001b[0mjob\u001b[0m \u001b[1;33m=\u001b[0m \u001b[0mself\u001b[0m\u001b[1;33m.\u001b[0m\u001b[0m_backend\u001b[0m\u001b[1;33m.\u001b[0m\u001b[0mapply_async\u001b[0m\u001b[1;33m(\u001b[0m\u001b[0mbatch\u001b[0m\u001b[1;33m,\u001b[0m \u001b[0mcallback\u001b[0m\u001b[1;33m=\u001b[0m\u001b[0mcb\u001b[0m\u001b[1;33m)\u001b[0m\u001b[1;33m\u001b[0m\u001b[1;33m\u001b[0m\u001b[0m\n\u001b[0m\u001b[0;32m    755\u001b[0m             \u001b[1;31m# A job can complete so quickly than its callback is\u001b[0m\u001b[1;33m\u001b[0m\u001b[1;33m\u001b[0m\u001b[1;33m\u001b[0m\u001b[0m\n\u001b[0;32m    756\u001b[0m             \u001b[1;31m# called before we get here, causing self._jobs to\u001b[0m\u001b[1;33m\u001b[0m\u001b[1;33m\u001b[0m\u001b[1;33m\u001b[0m\u001b[0m\n",
      "\u001b[1;32m~\\Anaconda3\\lib\\site-packages\\joblib\\_parallel_backends.py\u001b[0m in \u001b[0;36mapply_async\u001b[1;34m(self, func, callback)\u001b[0m\n\u001b[0;32m    549\u001b[0m     \u001b[1;32mdef\u001b[0m \u001b[0mapply_async\u001b[0m\u001b[1;33m(\u001b[0m\u001b[0mself\u001b[0m\u001b[1;33m,\u001b[0m \u001b[0mfunc\u001b[0m\u001b[1;33m,\u001b[0m \u001b[0mcallback\u001b[0m\u001b[1;33m=\u001b[0m\u001b[1;32mNone\u001b[0m\u001b[1;33m)\u001b[0m\u001b[1;33m:\u001b[0m\u001b[1;33m\u001b[0m\u001b[1;33m\u001b[0m\u001b[0m\n\u001b[0;32m    550\u001b[0m         \u001b[1;34m\"\"\"Schedule a func to be run\"\"\"\u001b[0m\u001b[1;33m\u001b[0m\u001b[1;33m\u001b[0m\u001b[0m\n\u001b[1;32m--> 551\u001b[1;33m         \u001b[0mfuture\u001b[0m \u001b[1;33m=\u001b[0m \u001b[0mself\u001b[0m\u001b[1;33m.\u001b[0m\u001b[0m_workers\u001b[0m\u001b[1;33m.\u001b[0m\u001b[0msubmit\u001b[0m\u001b[1;33m(\u001b[0m\u001b[0mSafeFunction\u001b[0m\u001b[1;33m(\u001b[0m\u001b[0mfunc\u001b[0m\u001b[1;33m)\u001b[0m\u001b[1;33m)\u001b[0m\u001b[1;33m\u001b[0m\u001b[1;33m\u001b[0m\u001b[0m\n\u001b[0m\u001b[0;32m    552\u001b[0m         \u001b[0mfuture\u001b[0m\u001b[1;33m.\u001b[0m\u001b[0mget\u001b[0m \u001b[1;33m=\u001b[0m \u001b[0mfunctools\u001b[0m\u001b[1;33m.\u001b[0m\u001b[0mpartial\u001b[0m\u001b[1;33m(\u001b[0m\u001b[0mself\u001b[0m\u001b[1;33m.\u001b[0m\u001b[0mwrap_future_result\u001b[0m\u001b[1;33m,\u001b[0m \u001b[0mfuture\u001b[0m\u001b[1;33m)\u001b[0m\u001b[1;33m\u001b[0m\u001b[1;33m\u001b[0m\u001b[0m\n\u001b[0;32m    553\u001b[0m         \u001b[1;32mif\u001b[0m \u001b[0mcallback\u001b[0m \u001b[1;32mis\u001b[0m \u001b[1;32mnot\u001b[0m \u001b[1;32mNone\u001b[0m\u001b[1;33m:\u001b[0m\u001b[1;33m\u001b[0m\u001b[1;33m\u001b[0m\u001b[0m\n",
      "\u001b[1;32m~\\Anaconda3\\lib\\site-packages\\joblib\\externals\\loky\\reusable_executor.py\u001b[0m in \u001b[0;36msubmit\u001b[1;34m(self, fn, *args, **kwargs)\u001b[0m\n\u001b[0;32m    158\u001b[0m         \u001b[1;32mwith\u001b[0m \u001b[0mself\u001b[0m\u001b[1;33m.\u001b[0m\u001b[0m_submit_resize_lock\u001b[0m\u001b[1;33m:\u001b[0m\u001b[1;33m\u001b[0m\u001b[1;33m\u001b[0m\u001b[0m\n\u001b[0;32m    159\u001b[0m             return super(_ReusablePoolExecutor, self).submit(\n\u001b[1;32m--> 160\u001b[1;33m                 fn, *args, **kwargs)\n\u001b[0m\u001b[0;32m    161\u001b[0m \u001b[1;33m\u001b[0m\u001b[0m\n\u001b[0;32m    162\u001b[0m     \u001b[1;32mdef\u001b[0m \u001b[0m_resize\u001b[0m\u001b[1;33m(\u001b[0m\u001b[0mself\u001b[0m\u001b[1;33m,\u001b[0m \u001b[0mmax_workers\u001b[0m\u001b[1;33m)\u001b[0m\u001b[1;33m:\u001b[0m\u001b[1;33m\u001b[0m\u001b[1;33m\u001b[0m\u001b[0m\n",
      "\u001b[1;32m~\\Anaconda3\\lib\\site-packages\\joblib\\externals\\loky\\process_executor.py\u001b[0m in \u001b[0;36msubmit\u001b[1;34m(self, fn, *args, **kwargs)\u001b[0m\n\u001b[0;32m   1025\u001b[0m         \u001b[1;32mwith\u001b[0m \u001b[0mself\u001b[0m\u001b[1;33m.\u001b[0m\u001b[0m_flags\u001b[0m\u001b[1;33m.\u001b[0m\u001b[0mshutdown_lock\u001b[0m\u001b[1;33m:\u001b[0m\u001b[1;33m\u001b[0m\u001b[1;33m\u001b[0m\u001b[0m\n\u001b[0;32m   1026\u001b[0m             \u001b[1;32mif\u001b[0m \u001b[0mself\u001b[0m\u001b[1;33m.\u001b[0m\u001b[0m_flags\u001b[0m\u001b[1;33m.\u001b[0m\u001b[0mbroken\u001b[0m \u001b[1;32mis\u001b[0m \u001b[1;32mnot\u001b[0m \u001b[1;32mNone\u001b[0m\u001b[1;33m:\u001b[0m\u001b[1;33m\u001b[0m\u001b[1;33m\u001b[0m\u001b[0m\n\u001b[1;32m-> 1027\u001b[1;33m                 \u001b[1;32mraise\u001b[0m \u001b[0mself\u001b[0m\u001b[1;33m.\u001b[0m\u001b[0m_flags\u001b[0m\u001b[1;33m.\u001b[0m\u001b[0mbroken\u001b[0m\u001b[1;33m\u001b[0m\u001b[1;33m\u001b[0m\u001b[0m\n\u001b[0m\u001b[0;32m   1028\u001b[0m             \u001b[1;32mif\u001b[0m \u001b[0mself\u001b[0m\u001b[1;33m.\u001b[0m\u001b[0m_flags\u001b[0m\u001b[1;33m.\u001b[0m\u001b[0mshutdown\u001b[0m\u001b[1;33m:\u001b[0m\u001b[1;33m\u001b[0m\u001b[1;33m\u001b[0m\u001b[0m\n\u001b[0;32m   1029\u001b[0m                 raise ShutdownExecutorError(\n",
      "\u001b[1;31mBrokenProcessPool\u001b[0m: A task has failed to un-serialize. Please ensure that the arguments of the function are all picklable."
     ]
    }
   ],
   "source": [
    "pyLDAvis.sklearn.prepare(best_lda_model, samsung_cv, cv)"
   ]
  },
  {
   "cell_type": "markdown",
   "metadata": {},
   "source": [
    "## Apple topic modeling"
   ]
  },
  {
   "cell_type": "code",
   "execution_count": 156,
   "metadata": {},
   "outputs": [],
   "source": [
    "tweet_apple_clean=tweet_combined_clean[tweet_combined_clean['brand']==1]\n",
    "tweet_apple_words=tweet_apple_clean['text'].apply(text_processer)\n",
    "apple_vectorized=cv.fit_transform(tweet_apple_words)"
   ]
  },
  {
   "cell_type": "code",
   "execution_count": 157,
   "metadata": {},
   "outputs": [
    {
     "name": "stdout",
     "output_type": "stream",
     "text": [
      "Mean number of words per tweet   :  50.0\n",
      "Median number of words per tweet :  48.0\n"
     ]
    },
    {
     "data": {
      "image/png": "[encoded data removed]",
      "text/plain": [
       "<Figure size 576x288 with 1 Axes>"
      ]
     },
     "metadata": {
      "needs_background": "light"
     },
     "output_type": "display_data"
    }
   ],
   "source": [
    "apple_text_length=[len(d) for d in tweet_apple_words];\n",
    "# Plot\n",
    "plt.figure(figsize=(8,4))\n",
    "plt.hist(apple_text_length, bins = 100, color='navy')\n",
    "print(\"Mean number of words per tweet   : \", (round(np.mean(apple_text_length))))\n",
    "print(\"Median number of words per tweet : \", (round(np.median(apple_text_length))))\n",
    "\n",
    "plt.gca().set(ylabel='Number of Tweets', xlabel='Tweet Word Count')\n",
    "plt.title('Distribution of Tweet Word Counts')\n",
    "plt.show()"
   ]
  },
  {
   "cell_type": "code",
   "execution_count": 158,
   "metadata": {},
   "outputs": [
    {
     "data": {
      "text/plain": [
       "GridSearchCV(cv=None, error_score=nan,\n",
       "             estimator=LatentDirichletAllocation(batch_size=128,\n",
       "                                                 doc_topic_prior=None,\n",
       "                                                 evaluate_every=-1,\n",
       "                                                 learning_decay=0.7,\n",
       "                                                 learning_method='online',\n",
       "                                                 learning_offset=50.0,\n",
       "                                                 max_doc_update_iter=100,\n",
       "                                                 max_iter=5,\n",
       "                                                 mean_change_tol=0.001,\n",
       "                                                 n_components=10, n_jobs=None,\n",
       "                                                 perp_tol=0.1, random_state=42,\n",
       "                                                 topic_word_prior=None,\n",
       "                                                 total_samples=1000000.0,\n",
       "                                                 verbose=0),\n",
       "             iid='deprecated', n_jobs=None,\n",
       "             param_grid={'learning_decay': [0.5, 0.7, 0.9],\n",
       "                         'n_components': [2, 4, 6, 8, 10]},\n",
       "             pre_dispatch='2*n_jobs', refit=True, return_train_score=False,\n",
       "             scoring=None, verbose=0)"
      ]
     },
     "execution_count": 158,
     "metadata": {},
     "output_type": "execute_result"
    }
   ],
   "source": [
    "# Define Search Param\n",
    "search_params = {'n_components': [2, 4, 6, 8, 10], 'learning_decay': [.5, .7, .9]}\n",
    "\n",
    "# Init the Model\n",
    "lda = LatentDirichletAllocation(max_iter=5, learning_method='online', learning_offset=50.,random_state=42)\n",
    "\n",
    "# Init Grid Search Class\n",
    "model = GridSearchCV(lda, param_grid=search_params)\n",
    "\n",
    "# Do the Grid Search\n",
    "model.fit(apple_vectorized)"
   ]
  },
  {
   "cell_type": "code",
   "execution_count": 159,
   "metadata": {},
   "outputs": [
    {
     "name": "stdout",
     "output_type": "stream",
     "text": [
      "Best Model's Params:  {'learning_decay': 0.9, 'n_components': 2}\n",
      "Best Log Likelihood Score:  -3249.659401628509\n",
      "Model Perplexity:  157.0304369748838\n"
     ]
    }
   ],
   "source": [
    "# Best Model\n",
    "best_lda_model = model.best_estimator_\n",
    "\n",
    "# Model Parameters\n",
    "print(\"Best Model's Params: \", model.best_params_)\n",
    "\n",
    "# Log Likelihood Score\n",
    "print(\"Best Log Likelihood Score: \", model.best_score_)\n",
    "\n",
    "# Perplexity\n",
    "print(\"Model Perplexity: \", best_lda_model.perplexity(apple_vectorized))"
   ]
  },
  {
   "cell_type": "code",
   "execution_count": 160,
   "metadata": {},
   "outputs": [
    {
     "data": {
      "text/plain": [
       "0    1475\n",
       "1     736\n",
       "Name: dominant_topic, dtype: int64"
      ]
     },
     "execution_count": 160,
     "metadata": {},
     "output_type": "execute_result"
    }
   ],
   "source": [
    "# Create Document — Topic Matrix\n",
    "lda_output = best_lda_model.transform(apple_vectorized)\n",
    "\n",
    "# column names\n",
    "topicnames = ['Topic' + str(i) for i in range(best_lda_model.n_components)]\n",
    "\n",
    "# index names\n",
    "docnames = ['Doc' + str(i) for i in range(len(tweet_apple_clean['text']))]\n",
    "\n",
    "# Make the pandas dataframe\n",
    "df_document_topic = pd.DataFrame(np.round(lda_output, 2), columns=topicnames, index=docnames)\n",
    "\n",
    "# Get dominant topic for each document\n",
    "dominant_topic = np.argmax(df_document_topic.values, axis=1)\n",
    "df_document_topic['dominant_topic'] = dominant_topic\n",
    "df_document_topic['dominant_topic'].value_counts()"
   ]
  },
  {
   "cell_type": "code",
   "execution_count": 161,
   "metadata": {},
   "outputs": [
    {
     "data": {
      "text/html": [
       "<div>\n",
       "<style scoped>\n",
       "    .dataframe tbody tr th:only-of-type {\n",
       "        vertical-align: middle;\n",
       "    }\n",
       "\n",
       "    .dataframe tbody tr th {\n",
       "        vertical-align: top;\n",
       "    }\n",
       "\n",
       "    .dataframe thead th {\n",
       "        text-align: right;\n",
       "    }\n",
       "</style>\n",
       "<table border=\"1\" class=\"dataframe\">\n",
       "  <thead>\n",
       "    <tr style=\"text-align: right;\">\n",
       "      <th></th>\n",
       "      <th>able</th>\n",
       "      <th>account</th>\n",
       "      <th>adair</th>\n",
       "      <th>adam</th>\n",
       "      <th>album</th>\n",
       "      <th>amazon</th>\n",
       "      <th>amazonin</th>\n",
       "      <th>android</th>\n",
       "      <th>anything</th>\n",
       "      <th>app</th>\n",
       "      <th>...</th>\n",
       "      <th>wish</th>\n",
       "      <th>without</th>\n",
       "      <th>word</th>\n",
       "      <th>work</th>\n",
       "      <th>working</th>\n",
       "      <th>world</th>\n",
       "      <th>worth</th>\n",
       "      <th>xikooba</th>\n",
       "      <th>year</th>\n",
       "      <th>yet</th>\n",
       "    </tr>\n",
       "  </thead>\n",
       "  <tbody>\n",
       "    <tr>\n",
       "      <th>Topic0</th>\n",
       "      <td>5.126466</td>\n",
       "      <td>10.911530</td>\n",
       "      <td>0.871033</td>\n",
       "      <td>13.041078</td>\n",
       "      <td>4.273181</td>\n",
       "      <td>12.577188</td>\n",
       "      <td>0.827504</td>\n",
       "      <td>3.740868</td>\n",
       "      <td>6.918459</td>\n",
       "      <td>23.930214</td>\n",
       "      <td>...</td>\n",
       "      <td>16.964904</td>\n",
       "      <td>0.779624</td>\n",
       "      <td>9.470680</td>\n",
       "      <td>15.439089</td>\n",
       "      <td>0.900361</td>\n",
       "      <td>0.707972</td>\n",
       "      <td>9.386897</td>\n",
       "      <td>0.713963</td>\n",
       "      <td>2.675112</td>\n",
       "      <td>1.715506</td>\n",
       "    </tr>\n",
       "    <tr>\n",
       "      <th>Topic1</th>\n",
       "      <td>5.004846</td>\n",
       "      <td>1.491892</td>\n",
       "      <td>8.417374</td>\n",
       "      <td>1.140623</td>\n",
       "      <td>8.468265</td>\n",
       "      <td>0.798800</td>\n",
       "      <td>8.126772</td>\n",
       "      <td>17.116816</td>\n",
       "      <td>3.521358</td>\n",
       "      <td>18.267968</td>\n",
       "      <td>...</td>\n",
       "      <td>1.063364</td>\n",
       "      <td>7.941328</td>\n",
       "      <td>0.873712</td>\n",
       "      <td>2.258228</td>\n",
       "      <td>8.004314</td>\n",
       "      <td>8.098447</td>\n",
       "      <td>1.051256</td>\n",
       "      <td>10.270528</td>\n",
       "      <td>12.437271</td>\n",
       "      <td>7.181702</td>\n",
       "    </tr>\n",
       "  </tbody>\n",
       "</table>\n",
       "<p>2 rows × 164 columns</p>\n",
       "</div>"
      ],
      "text/plain": [
       "            able    account     adair       adam     album     amazon  \\\n",
       "Topic0  5.126466  10.911530  0.871033  13.041078  4.273181  12.577188   \n",
       "Topic1  5.004846   1.491892  8.417374   1.140623  8.468265   0.798800   \n",
       "\n",
       "        amazonin    android  anything        app  ...       wish   without  \\\n",
       "Topic0  0.827504   3.740868  6.918459  23.930214  ...  16.964904  0.779624   \n",
       "Topic1  8.126772  17.116816  3.521358  18.267968  ...   1.063364  7.941328   \n",
       "\n",
       "            word       work   working     world     worth    xikooba  \\\n",
       "Topic0  9.470680  15.439089  0.900361  0.707972  9.386897   0.713963   \n",
       "Topic1  0.873712   2.258228  8.004314  8.098447  1.051256  10.270528   \n",
       "\n",
       "             year       yet  \n",
       "Topic0   2.675112  1.715506  \n",
       "Topic1  12.437271  7.181702  \n",
       "\n",
       "[2 rows x 164 columns]"
      ]
     },
     "execution_count": 161,
     "metadata": {},
     "output_type": "execute_result"
    }
   ],
   "source": [
    "# Topic-Keyword Matrix\n",
    "df_topic_keywords_apple = pd.DataFrame(best_lda_model.components_)\n",
    "\n",
    "# Assign Column and Index\n",
    "df_topic_keywords_apple.columns = cv.get_feature_names()\n",
    "df_topic_keywords_apple.index = topicnames\n",
    "\n",
    "# View\n",
    "df_topic_keywords_apple.head()"
   ]
  },
  {
   "cell_type": "code",
   "execution_count": 162,
   "metadata": {},
   "outputs": [
    {
     "data": {
      "text/html": [
       "<div>\n",
       "<style scoped>\n",
       "    .dataframe tbody tr th:only-of-type {\n",
       "        vertical-align: middle;\n",
       "    }\n",
       "\n",
       "    .dataframe tbody tr th {\n",
       "        vertical-align: top;\n",
       "    }\n",
       "\n",
       "    .dataframe thead th {\n",
       "        text-align: right;\n",
       "    }\n",
       "</style>\n",
       "<table border=\"1\" class=\"dataframe\">\n",
       "  <thead>\n",
       "    <tr style=\"text-align: right;\">\n",
       "      <th></th>\n",
       "      <th>Word 0</th>\n",
       "      <th>Word 1</th>\n",
       "      <th>Word 2</th>\n",
       "      <th>Word 3</th>\n",
       "      <th>Word 4</th>\n",
       "      <th>Word 5</th>\n",
       "      <th>Word 6</th>\n",
       "      <th>Word 7</th>\n",
       "      <th>Word 8</th>\n",
       "      <th>Word 9</th>\n",
       "      <th>Word 10</th>\n",
       "      <th>Word 11</th>\n",
       "      <th>Word 12</th>\n",
       "      <th>Word 13</th>\n",
       "      <th>Word 14</th>\n",
       "      <th>Topics</th>\n",
       "    </tr>\n",
       "  </thead>\n",
       "  <tbody>\n",
       "    <tr>\n",
       "      <th>Topic 0</th>\n",
       "      <td>music</td>\n",
       "      <td>spotify</td>\n",
       "      <td>store</td>\n",
       "      <td>google</td>\n",
       "      <td>app</td>\n",
       "      <td>song</td>\n",
       "      <td>podcast</td>\n",
       "      <td>microsoft</td>\n",
       "      <td>available</td>\n",
       "      <td>eye</td>\n",
       "      <td>back</td>\n",
       "      <td>wish</td>\n",
       "      <td>link</td>\n",
       "      <td>pro</td>\n",
       "      <td>tidal</td>\n",
       "      <td>phone app</td>\n",
       "    </tr>\n",
       "    <tr>\n",
       "      <th>Topic 1</th>\n",
       "      <td>iphone</td>\n",
       "      <td>phone</td>\n",
       "      <td>new</td>\n",
       "      <td>people</td>\n",
       "      <td>product</td>\n",
       "      <td>big</td>\n",
       "      <td>best</td>\n",
       "      <td>song</td>\n",
       "      <td>app</td>\n",
       "      <td>android</td>\n",
       "      <td>help</td>\n",
       "      <td>buy</td>\n",
       "      <td>stream</td>\n",
       "      <td>realdonaldtrump</td>\n",
       "      <td>guy</td>\n",
       "      <td>music streaming</td>\n",
       "    </tr>\n",
       "  </tbody>\n",
       "</table>\n",
       "</div>"
      ],
      "text/plain": [
       "         Word 0   Word 1 Word 2  Word 3   Word 4 Word 5   Word 6     Word 7  \\\n",
       "Topic 0   music  spotify  store  google      app   song  podcast  microsoft   \n",
       "Topic 1  iphone    phone    new  people  product    big     best       song   \n",
       "\n",
       "            Word 8   Word 9 Word 10 Word 11 Word 12          Word 13 Word 14  \\\n",
       "Topic 0  available      eye    back    wish    link              pro   tidal   \n",
       "Topic 1        app  android    help     buy  stream  realdonaldtrump     guy   \n",
       "\n",
       "                  Topics  \n",
       "Topic 0        phone app  \n",
       "Topic 1  music streaming  "
      ]
     },
     "execution_count": 162,
     "metadata": {},
     "output_type": "execute_result"
    }
   ],
   "source": [
    "#Show top keywords\n",
    "topic_keywords_apple = show_topics(vectorizer=cv, lda_model=best_lda_model, n_words=15)\n",
    "\n",
    "# Topic - Keywords Dataframe\n",
    "df_topic_keywords_apple = pd.DataFrame(topic_keywords_apple)\n",
    "df_topic_keywords_apple.columns = ['Word '+str(i) for i in range(df_topic_keywords_apple.shape[1])]\n",
    "df_topic_keywords_apple.index = ['Topic '+str(i) for i in range(df_topic_keywords_apple.shape[0])]\n",
    "\n",
    "# Manually assign topics\n",
    "df_topic_keywords_apple['Topics']=['phone app', 'music streaming']\n",
    "df_topic_keywords_apple"
   ]
  },
  {
   "cell_type": "code",
   "execution_count": null,
   "metadata": {},
   "outputs": [],
   "source": []
  },
  {
   "cell_type": "markdown",
   "metadata": {},
   "source": [
    "## Huawei topic modeling"
   ]
  },
  {
   "cell_type": "code",
   "execution_count": 163,
   "metadata": {},
   "outputs": [],
   "source": [
    "tweet_huawei_clean=tweet_combined_clean[tweet_combined_clean['brand']==2]\n",
    "tweet_huawei_words=tweet_huawei_clean['text'].apply(text_processer)\n",
    "huawei_vectorized=cv.fit_transform(tweet_huawei_words)"
   ]
  },
  {
   "cell_type": "code",
   "execution_count": 164,
   "metadata": {},
   "outputs": [
    {
     "name": "stdout",
     "output_type": "stream",
     "text": [
      "Mean number of words per tweet   :  57.0\n",
      "Median number of words per tweet :  62.0\n"
     ]
    },
    {
     "data": {
      "image/png": "[encoded data removed]",
      "text/plain": [
       "<Figure size 576x288 with 1 Axes>"
      ]
     },
     "metadata": {
      "needs_background": "light"
     },
     "output_type": "display_data"
    }
   ],
   "source": [
    "huawei_text_length=[len(d) for d in tweet_huawei_words];\n",
    "# Plot\n",
    "plt.figure(figsize=(8,4))\n",
    "plt.hist(huawei_text_length, bins = 100, color='navy')\n",
    "print(\"Mean number of words per tweet   : \", (round(np.mean(huawei_text_length))))\n",
    "print(\"Median number of words per tweet : \", (round(np.median(huawei_text_length))))\n",
    "\n",
    "plt.gca().set(ylabel='Number of Tweets', xlabel='Tweet Word Count')\n",
    "plt.title('Distribution of Tweet Word Counts')\n",
    "plt.show()"
   ]
  },
  {
   "cell_type": "code",
   "execution_count": 165,
   "metadata": {},
   "outputs": [
    {
     "data": {
      "text/plain": [
       "GridSearchCV(cv=None, error_score=nan,\n",
       "             estimator=LatentDirichletAllocation(batch_size=128,\n",
       "                                                 doc_topic_prior=None,\n",
       "                                                 evaluate_every=-1,\n",
       "                                                 learning_decay=0.7,\n",
       "                                                 learning_method='online',\n",
       "                                                 learning_offset=50.0,\n",
       "                                                 max_doc_update_iter=100,\n",
       "                                                 max_iter=5,\n",
       "                                                 mean_change_tol=0.001,\n",
       "                                                 n_components=10, n_jobs=None,\n",
       "                                                 perp_tol=0.1, random_state=42,\n",
       "                                                 topic_word_prior=None,\n",
       "                                                 total_samples=1000000.0,\n",
       "                                                 verbose=0),\n",
       "             iid='deprecated', n_jobs=None,\n",
       "             param_grid={'learning_decay': [0.5, 0.7, 0.9],\n",
       "                         'n_components': [2, 4, 6, 8, 10]},\n",
       "             pre_dispatch='2*n_jobs', refit=True, return_train_score=False,\n",
       "             scoring=None, verbose=0)"
      ]
     },
     "execution_count": 165,
     "metadata": {},
     "output_type": "execute_result"
    }
   ],
   "source": [
    "# Define Search Param\n",
    "search_params = {'n_components': [2, 4, 6, 8, 10], 'learning_decay': [.5, .7, .9]}\n",
    "\n",
    "# Init the Model\n",
    "lda = LatentDirichletAllocation(max_iter=5, learning_method='online', learning_offset=50.,random_state=42)\n",
    "\n",
    "# Init Grid Search Class\n",
    "model = GridSearchCV(lda, param_grid=search_params)\n",
    "\n",
    "# Do the Grid Search\n",
    "model.fit(huawei_vectorized)"
   ]
  },
  {
   "cell_type": "code",
   "execution_count": 166,
   "metadata": {},
   "outputs": [
    {
     "name": "stdout",
     "output_type": "stream",
     "text": [
      "Best Model's Params:  {'learning_decay': 0.9, 'n_components': 2}\n",
      "Best Log Likelihood Score:  -7305.12499617734\n",
      "Model Perplexity:  236.6742562354973\n"
     ]
    }
   ],
   "source": [
    "# Best Model\n",
    "best_lda_model = model.best_estimator_\n",
    "\n",
    "# Model Parameters\n",
    "print(\"Best Model's Params: \", model.best_params_)\n",
    "\n",
    "# Log Likelihood Score\n",
    "print(\"Best Log Likelihood Score: \", model.best_score_)\n",
    "\n",
    "# Perplexity\n",
    "print(\"Model Perplexity: \", best_lda_model.perplexity(huawei_vectorized))"
   ]
  },
  {
   "cell_type": "code",
   "execution_count": 167,
   "metadata": {},
   "outputs": [
    {
     "data": {
      "text/plain": [
       "0    1533\n",
       "1     871\n",
       "Name: dominant_topic, dtype: int64"
      ]
     },
     "execution_count": 167,
     "metadata": {},
     "output_type": "execute_result"
    }
   ],
   "source": [
    "# Create Document — Topic Matrix\n",
    "lda_output = best_lda_model.transform(huawei_vectorized)\n",
    "\n",
    "# column names\n",
    "topicnames = ['Topic' + str(i) for i in range(best_lda_model.n_components)]\n",
    "\n",
    "# index names\n",
    "docnames = ['Doc' + str(i) for i in range(len(tweet_huawei_clean['text']))]\n",
    "\n",
    "# Make the pandas dataframe\n",
    "df_document_topic = pd.DataFrame(np.round(lda_output, 2), columns=topicnames, index=docnames)\n",
    "\n",
    "# Get dominant topic for each document\n",
    "dominant_topic = np.argmax(df_document_topic.values, axis=1)\n",
    "df_document_topic['dominant_topic'] = dominant_topic\n",
    "df_document_topic['dominant_topic'].value_counts()"
   ]
  },
  {
   "cell_type": "code",
   "execution_count": 168,
   "metadata": {},
   "outputs": [
    {
     "data": {
      "text/html": [
       "<div>\n",
       "<style scoped>\n",
       "    .dataframe tbody tr th:only-of-type {\n",
       "        vertical-align: middle;\n",
       "    }\n",
       "\n",
       "    .dataframe tbody tr th {\n",
       "        vertical-align: top;\n",
       "    }\n",
       "\n",
       "    .dataframe thead th {\n",
       "        text-align: right;\n",
       "    }\n",
       "</style>\n",
       "<table border=\"1\" class=\"dataframe\">\n",
       "  <thead>\n",
       "    <tr style=\"text-align: right;\">\n",
       "      <th></th>\n",
       "      <th>accept</th>\n",
       "      <th>alghammer</th>\n",
       "      <th>amazing</th>\n",
       "      <th>america</th>\n",
       "      <th>american</th>\n",
       "      <th>amicuscelebrant</th>\n",
       "      <th>android</th>\n",
       "      <th>another</th>\n",
       "      <th>anyone</th>\n",
       "      <th>anything</th>\n",
       "      <th>...</th>\n",
       "      <th>western</th>\n",
       "      <th>wireless</th>\n",
       "      <th>work</th>\n",
       "      <th>working</th>\n",
       "      <th>world</th>\n",
       "      <th>wrong</th>\n",
       "      <th>xiaomi</th>\n",
       "      <th>year</th>\n",
       "      <th>yet</th>\n",
       "      <th>zoom</th>\n",
       "    </tr>\n",
       "  </thead>\n",
       "  <tbody>\n",
       "    <tr>\n",
       "      <th>Topic0</th>\n",
       "      <td>9.359332</td>\n",
       "      <td>9.420200</td>\n",
       "      <td>7.208881</td>\n",
       "      <td>1.765534</td>\n",
       "      <td>4.617732</td>\n",
       "      <td>7.442782</td>\n",
       "      <td>0.877143</td>\n",
       "      <td>3.169382</td>\n",
       "      <td>18.043295</td>\n",
       "      <td>11.389814</td>\n",
       "      <td>...</td>\n",
       "      <td>3.855665</td>\n",
       "      <td>12.402901</td>\n",
       "      <td>21.243198</td>\n",
       "      <td>13.558050</td>\n",
       "      <td>44.311255</td>\n",
       "      <td>1.616216</td>\n",
       "      <td>12.834980</td>\n",
       "      <td>3.669200</td>\n",
       "      <td>1.185031</td>\n",
       "      <td>1.107089</td>\n",
       "    </tr>\n",
       "    <tr>\n",
       "      <th>Topic1</th>\n",
       "      <td>0.663772</td>\n",
       "      <td>0.838613</td>\n",
       "      <td>1.989785</td>\n",
       "      <td>20.156992</td>\n",
       "      <td>6.295317</td>\n",
       "      <td>2.494507</td>\n",
       "      <td>10.039514</td>\n",
       "      <td>6.743065</td>\n",
       "      <td>1.194088</td>\n",
       "      <td>10.524644</td>\n",
       "      <td>...</td>\n",
       "      <td>5.717159</td>\n",
       "      <td>1.606833</td>\n",
       "      <td>0.879990</td>\n",
       "      <td>0.766586</td>\n",
       "      <td>9.175159</td>\n",
       "      <td>12.176302</td>\n",
       "      <td>1.161667</td>\n",
       "      <td>26.032695</td>\n",
       "      <td>11.792961</td>\n",
       "      <td>17.852798</td>\n",
       "    </tr>\n",
       "  </tbody>\n",
       "</table>\n",
       "<p>2 rows × 274 columns</p>\n",
       "</div>"
      ],
      "text/plain": [
       "          accept  alghammer   amazing    america  american  amicuscelebrant  \\\n",
       "Topic0  9.359332   9.420200  7.208881   1.765534  4.617732         7.442782   \n",
       "Topic1  0.663772   0.838613  1.989785  20.156992  6.295317         2.494507   \n",
       "\n",
       "          android   another     anyone   anything  ...   western   wireless  \\\n",
       "Topic0   0.877143  3.169382  18.043295  11.389814  ...  3.855665  12.402901   \n",
       "Topic1  10.039514  6.743065   1.194088  10.524644  ...  5.717159   1.606833   \n",
       "\n",
       "             work    working      world      wrong     xiaomi       year  \\\n",
       "Topic0  21.243198  13.558050  44.311255   1.616216  12.834980   3.669200   \n",
       "Topic1   0.879990   0.766586   9.175159  12.176302   1.161667  26.032695   \n",
       "\n",
       "              yet       zoom  \n",
       "Topic0   1.185031   1.107089  \n",
       "Topic1  11.792961  17.852798  \n",
       "\n",
       "[2 rows x 274 columns]"
      ]
     },
     "execution_count": 168,
     "metadata": {},
     "output_type": "execute_result"
    }
   ],
   "source": [
    "# Topic-Keyword Matrix\n",
    "df_topic_keywords_huawei = pd.DataFrame(best_lda_model.components_)\n",
    "\n",
    "# Assign Column and Index\n",
    "df_topic_keywords_huawei.columns = cv.get_feature_names()\n",
    "df_topic_keywords_huawei.index = topicnames\n",
    "\n",
    "# View\n",
    "df_topic_keywords_huawei.head()"
   ]
  },
  {
   "cell_type": "code",
   "execution_count": 169,
   "metadata": {},
   "outputs": [
    {
     "data": {
      "text/html": [
       "<div>\n",
       "<style scoped>\n",
       "    .dataframe tbody tr th:only-of-type {\n",
       "        vertical-align: middle;\n",
       "    }\n",
       "\n",
       "    .dataframe tbody tr th {\n",
       "        vertical-align: top;\n",
       "    }\n",
       "\n",
       "    .dataframe thead th {\n",
       "        text-align: right;\n",
       "    }\n",
       "</style>\n",
       "<table border=\"1\" class=\"dataframe\">\n",
       "  <thead>\n",
       "    <tr style=\"text-align: right;\">\n",
       "      <th></th>\n",
       "      <th>Word 0</th>\n",
       "      <th>Word 1</th>\n",
       "      <th>Word 2</th>\n",
       "      <th>Word 3</th>\n",
       "      <th>Word 4</th>\n",
       "      <th>Word 5</th>\n",
       "      <th>Word 6</th>\n",
       "      <th>Word 7</th>\n",
       "      <th>Word 8</th>\n",
       "      <th>Word 9</th>\n",
       "      <th>Word 10</th>\n",
       "      <th>Word 11</th>\n",
       "      <th>Word 12</th>\n",
       "      <th>Word 13</th>\n",
       "      <th>Word 14</th>\n",
       "      <th>Topics</th>\n",
       "    </tr>\n",
       "  </thead>\n",
       "  <tbody>\n",
       "    <tr>\n",
       "      <th>Topic 0</th>\n",
       "      <td>china</td>\n",
       "      <td>chinese</td>\n",
       "      <td>canada</td>\n",
       "      <td>mask</td>\n",
       "      <td>company</td>\n",
       "      <td>globalnews</td>\n",
       "      <td>europe</td>\n",
       "      <td>pro</td>\n",
       "      <td>leeszla</td>\n",
       "      <td>world</td>\n",
       "      <td>communist</td>\n",
       "      <td>mike</td>\n",
       "      <td>government</td>\n",
       "      <td>sunlorrie</td>\n",
       "      <td>buy</td>\n",
       "      <td>China communist party</td>\n",
       "    </tr>\n",
       "    <tr>\n",
       "      <th>Topic 1</th>\n",
       "      <td>china</td>\n",
       "      <td>ccp</td>\n",
       "      <td>phone</td>\n",
       "      <td>people</td>\n",
       "      <td>country</td>\n",
       "      <td>virus</td>\n",
       "      <td>realdonaldtrump</td>\n",
       "      <td>technology</td>\n",
       "      <td>year</td>\n",
       "      <td>ttsampaio</td>\n",
       "      <td>device</td>\n",
       "      <td>america</td>\n",
       "      <td>tech</td>\n",
       "      <td>red</td>\n",
       "      <td>first</td>\n",
       "      <td>China-US</td>\n",
       "    </tr>\n",
       "  </tbody>\n",
       "</table>\n",
       "</div>"
      ],
      "text/plain": [
       "        Word 0   Word 1  Word 2  Word 3   Word 4      Word 5           Word 6  \\\n",
       "Topic 0  china  chinese  canada    mask  company  globalnews           europe   \n",
       "Topic 1  china      ccp   phone  people  country       virus  realdonaldtrump   \n",
       "\n",
       "             Word 7   Word 8     Word 9    Word 10  Word 11     Word 12  \\\n",
       "Topic 0         pro  leeszla      world  communist     mike  government   \n",
       "Topic 1  technology     year  ttsampaio     device  america        tech   \n",
       "\n",
       "           Word 13 Word 14                 Topics  \n",
       "Topic 0  sunlorrie     buy  China communist party  \n",
       "Topic 1        red   first               China-US  "
      ]
     },
     "execution_count": 169,
     "metadata": {},
     "output_type": "execute_result"
    }
   ],
   "source": [
    "#Show top keywords\n",
    "topic_keywords_huawei = show_topics(vectorizer=cv, lda_model=best_lda_model, n_words=15)\n",
    "\n",
    "# Topic - Keywords Dataframe\n",
    "df_topic_keywords_huawei = pd.DataFrame(topic_keywords_huawei)\n",
    "df_topic_keywords_huawei.columns = ['Word '+str(i) for i in range(df_topic_keywords_huawei.shape[1])]\n",
    "df_topic_keywords_huawei.index = ['Topic '+str(i) for i in range(df_topic_keywords_huawei.shape[0])]\n",
    "\n",
    "# Manually assign topics\n",
    "df_topic_keywords_huawei['Topics']=['China communist party', 'China-US']\n",
    "df_topic_keywords_huawei"
   ]
  },
  {
   "cell_type": "markdown",
   "metadata": {},
   "source": [
    "Despite its great results on medium or large sized texts (>50 words), typically mails and news articles are about this size range, LDA poorly performs on short texts like Tweets. The assumption that a text is a mixture of topics is not true anymore. We will now assume that a short text is made from only one topic."
   ]
  },
  {
   "cell_type": "markdown",
   "metadata": {},
   "source": [
    "## Topic modeling on negative samsung tweets"
   ]
  },
  {
   "cell_type": "code",
   "execution_count": 120,
   "metadata": {},
   "outputs": [],
   "source": [
    "samsung_tweet_neg_words=samsung_tweet_neg['text'].apply(text_processer)\n",
    "samsung_tweet_neg_vectorized=cv.fit_transform(samsung_tweet_neg_words)"
   ]
  },
  {
   "cell_type": "code",
   "execution_count": 128,
   "metadata": {},
   "outputs": [
    {
     "data": {
      "text/plain": [
       "394"
      ]
     },
     "execution_count": 128,
     "metadata": {},
     "output_type": "execute_result"
    }
   ],
   "source": [
    "len(samsung_tweet_neg_words)"
   ]
  },
  {
   "cell_type": "code",
   "execution_count": 121,
   "metadata": {},
   "outputs": [
    {
     "data": {
      "text/plain": [
       "GridSearchCV(cv=None, error_score=nan,\n",
       "             estimator=LatentDirichletAllocation(batch_size=128,\n",
       "                                                 doc_topic_prior=None,\n",
       "                                                 evaluate_every=-1,\n",
       "                                                 learning_decay=0.7,\n",
       "                                                 learning_method='online',\n",
       "                                                 learning_offset=50.0,\n",
       "                                                 max_doc_update_iter=100,\n",
       "                                                 max_iter=5,\n",
       "                                                 mean_change_tol=0.001,\n",
       "                                                 n_components=10, n_jobs=None,\n",
       "                                                 perp_tol=0.1, random_state=42,\n",
       "                                                 topic_word_prior=None,\n",
       "                                                 total_samples=1000000.0,\n",
       "                                                 verbose=0),\n",
       "             iid='deprecated', n_jobs=None,\n",
       "             param_grid={'learning_decay': [0.5, 0.7, 0.9],\n",
       "                         'n_components': [2, 4, 6, 8, 10]},\n",
       "             pre_dispatch='2*n_jobs', refit=True, return_train_score=False,\n",
       "             scoring=None, verbose=0)"
      ]
     },
     "execution_count": 121,
     "metadata": {},
     "output_type": "execute_result"
    }
   ],
   "source": [
    "# Define Search Param\n",
    "search_params = {'n_components': [2, 4, 6, 8, 10], 'learning_decay': [.5, .7, .9]}\n",
    "\n",
    "# Init the Model\n",
    "lda = LatentDirichletAllocation(max_iter=5, learning_method='online', learning_offset=50.,random_state=42)\n",
    "\n",
    "# Init Grid Search Class\n",
    "model = GridSearchCV(lda, param_grid=search_params)\n",
    "\n",
    "# Do the Grid Search\n",
    "model.fit(samsung_tweet_neg_vectorized)"
   ]
  },
  {
   "cell_type": "code",
   "execution_count": 122,
   "metadata": {},
   "outputs": [
    {
     "name": "stdout",
     "output_type": "stream",
     "text": [
      "Best Model's Params:  {'learning_decay': 0.9, 'n_components': 2}\n",
      "Best Log Likelihood Score:  -124.26195401445341\n",
      "Model Perplexity:  13.159379317174055\n"
     ]
    }
   ],
   "source": [
    "# Best Model\n",
    "best_lda_model = model.best_estimator_\n",
    "\n",
    "# Model Parameters\n",
    "print(\"Best Model's Params: \", model.best_params_)\n",
    "\n",
    "# Log Likelihood Score\n",
    "print(\"Best Log Likelihood Score: \", model.best_score_)\n",
    "\n",
    "# Perplexity\n",
    "print(\"Model Perplexity: \", best_lda_model.perplexity(samsung_tweet_neg_vectorized))"
   ]
  },
  {
   "cell_type": "code",
   "execution_count": 124,
   "metadata": {},
   "outputs": [
    {
     "data": {
      "text/plain": [
       "0    344\n",
       "1     50\n",
       "Name: dominant_topic, dtype: int64"
      ]
     },
     "execution_count": 124,
     "metadata": {},
     "output_type": "execute_result"
    }
   ],
   "source": [
    "# Create Document — Topic Matrix\n",
    "lda_output = best_lda_model.transform(samsung_tweet_neg_vectorized)\n",
    "\n",
    "# column names\n",
    "topicnames = ['Topic' + str(i) for i in range(best_lda_model.n_components)]\n",
    "\n",
    "# index names\n",
    "docnames = ['Doc' + str(i) for i in range(len(samsung_tweet_neg['text']))]\n",
    "\n",
    "# Make the pandas dataframe\n",
    "df_document_topic = pd.DataFrame(np.round(lda_output, 2), columns=topicnames, index=docnames)\n",
    "\n",
    "# Get dominant topic for each document\n",
    "dominant_topic = np.argmax(df_document_topic.values, axis=1)\n",
    "df_document_topic['dominant_topic'] = dominant_topic\n",
    "df_document_topic['dominant_topic'].value_counts()"
   ]
  },
  {
   "cell_type": "code",
   "execution_count": 126,
   "metadata": {},
   "outputs": [
    {
     "data": {
      "text/html": [
       "<div>\n",
       "<style scoped>\n",
       "    .dataframe tbody tr th:only-of-type {\n",
       "        vertical-align: middle;\n",
       "    }\n",
       "\n",
       "    .dataframe tbody tr th {\n",
       "        vertical-align: top;\n",
       "    }\n",
       "\n",
       "    .dataframe thead th {\n",
       "        text-align: right;\n",
       "    }\n",
       "</style>\n",
       "<table border=\"1\" class=\"dataframe\">\n",
       "  <thead>\n",
       "    <tr style=\"text-align: right;\">\n",
       "      <th></th>\n",
       "      <th>android</th>\n",
       "      <th>bad</th>\n",
       "      <th>buy</th>\n",
       "      <th>company</th>\n",
       "      <th>galaxy</th>\n",
       "      <th>iphone</th>\n",
       "      <th>oneplus</th>\n",
       "      <th>phone</th>\n",
       "      <th>problem</th>\n",
       "      <th>product</th>\n",
       "      <th>series</th>\n",
       "    </tr>\n",
       "  </thead>\n",
       "  <tbody>\n",
       "    <tr>\n",
       "      <th>Topic0</th>\n",
       "      <td>5.041988</td>\n",
       "      <td>1.207178</td>\n",
       "      <td>1.328709</td>\n",
       "      <td>1.259437</td>\n",
       "      <td>13.367322</td>\n",
       "      <td>7.490961</td>\n",
       "      <td>1.287767</td>\n",
       "      <td>11.484292</td>\n",
       "      <td>6.566559</td>\n",
       "      <td>0.761515</td>\n",
       "      <td>1.430104</td>\n",
       "    </tr>\n",
       "    <tr>\n",
       "      <th>Topic1</th>\n",
       "      <td>1.491714</td>\n",
       "      <td>9.641013</td>\n",
       "      <td>3.602012</td>\n",
       "      <td>4.272512</td>\n",
       "      <td>1.477771</td>\n",
       "      <td>3.584046</td>\n",
       "      <td>10.677234</td>\n",
       "      <td>2.647884</td>\n",
       "      <td>1.076500</td>\n",
       "      <td>3.840684</td>\n",
       "      <td>3.402030</td>\n",
       "    </tr>\n",
       "  </tbody>\n",
       "</table>\n",
       "</div>"
      ],
      "text/plain": [
       "         android       bad       buy   company     galaxy    iphone  \\\n",
       "Topic0  5.041988  1.207178  1.328709  1.259437  13.367322  7.490961   \n",
       "Topic1  1.491714  9.641013  3.602012  4.272512   1.477771  3.584046   \n",
       "\n",
       "          oneplus      phone   problem   product    series  \n",
       "Topic0   1.287767  11.484292  6.566559  0.761515  1.430104  \n",
       "Topic1  10.677234   2.647884  1.076500  3.840684  3.402030  "
      ]
     },
     "execution_count": 126,
     "metadata": {},
     "output_type": "execute_result"
    }
   ],
   "source": [
    "# Topic-Keyword Matrix\n",
    "df_topic_keywords_samsung_neg = pd.DataFrame(best_lda_model.components_)\n",
    "\n",
    "# Assign Column and Index\n",
    "df_topic_keywords_samsung_neg.columns = cv.get_feature_names()\n",
    "df_topic_keywords_samsung_neg.index = topicnames\n",
    "\n",
    "# View\n",
    "df_topic_keywords_samsung_neg.head()"
   ]
  },
  {
   "cell_type": "code",
   "execution_count": 127,
   "metadata": {},
   "outputs": [
    {
     "data": {
      "text/html": [
       "<div>\n",
       "<style scoped>\n",
       "    .dataframe tbody tr th:only-of-type {\n",
       "        vertical-align: middle;\n",
       "    }\n",
       "\n",
       "    .dataframe tbody tr th {\n",
       "        vertical-align: top;\n",
       "    }\n",
       "\n",
       "    .dataframe thead th {\n",
       "        text-align: right;\n",
       "    }\n",
       "</style>\n",
       "<table border=\"1\" class=\"dataframe\">\n",
       "  <thead>\n",
       "    <tr style=\"text-align: right;\">\n",
       "      <th></th>\n",
       "      <th>Word 0</th>\n",
       "      <th>Word 1</th>\n",
       "      <th>Word 2</th>\n",
       "      <th>Word 3</th>\n",
       "      <th>Word 4</th>\n",
       "      <th>Word 5</th>\n",
       "      <th>Word 6</th>\n",
       "      <th>Word 7</th>\n",
       "      <th>Word 8</th>\n",
       "      <th>Word 9</th>\n",
       "      <th>Word 10</th>\n",
       "    </tr>\n",
       "  </thead>\n",
       "  <tbody>\n",
       "    <tr>\n",
       "      <th>Topic 0</th>\n",
       "      <td>galaxy</td>\n",
       "      <td>phone</td>\n",
       "      <td>iphone</td>\n",
       "      <td>problem</td>\n",
       "      <td>android</td>\n",
       "      <td>series</td>\n",
       "      <td>buy</td>\n",
       "      <td>oneplus</td>\n",
       "      <td>company</td>\n",
       "      <td>bad</td>\n",
       "      <td>product</td>\n",
       "    </tr>\n",
       "    <tr>\n",
       "      <th>Topic 1</th>\n",
       "      <td>oneplus</td>\n",
       "      <td>bad</td>\n",
       "      <td>company</td>\n",
       "      <td>product</td>\n",
       "      <td>buy</td>\n",
       "      <td>iphone</td>\n",
       "      <td>series</td>\n",
       "      <td>phone</td>\n",
       "      <td>android</td>\n",
       "      <td>galaxy</td>\n",
       "      <td>problem</td>\n",
       "    </tr>\n",
       "  </tbody>\n",
       "</table>\n",
       "</div>"
      ],
      "text/plain": [
       "          Word 0 Word 1   Word 2   Word 3   Word 4  Word 5  Word 6   Word 7  \\\n",
       "Topic 0   galaxy  phone   iphone  problem  android  series     buy  oneplus   \n",
       "Topic 1  oneplus    bad  company  product      buy  iphone  series    phone   \n",
       "\n",
       "          Word 8  Word 9  Word 10  \n",
       "Topic 0  company     bad  product  \n",
       "Topic 1  android  galaxy  problem  "
      ]
     },
     "execution_count": 127,
     "metadata": {},
     "output_type": "execute_result"
    }
   ],
   "source": [
    "#Show top keywords\n",
    "topic_keywords_samsung_neg = show_topics(vectorizer=cv, lda_model=best_lda_model, n_words=15)\n",
    "\n",
    "# Topic - Keywords Dataframe\n",
    "df_topic_keywords_samsung_neg = pd.DataFrame(topic_keywords_samsung_neg)\n",
    "df_topic_keywords_samsung_neg.columns = ['Word '+str(i) for i in range(df_topic_keywords_samsung_neg.shape[1])]\n",
    "df_topic_keywords_samsung_neg.index = ['Topic '+str(i) for i in range(df_topic_keywords_samsung_neg.shape[0])]\n",
    "\n",
    "# Manually assign topics\n",
    "#df_topic_keywords_samsung_neg['Topics']=['China communist party', 'China-US']\n",
    "df_topic_keywords_samsung_neg"
   ]
  },
  {
   "cell_type": "markdown",
   "metadata": {},
   "source": [
    "## Topic modeling on positive samsung tweets"
   ]
  },
  {
   "cell_type": "code",
   "execution_count": 129,
   "metadata": {},
   "outputs": [],
   "source": [
    "samsung_tweet_pos_words=samsung_tweet_pos['text'].apply(text_processer)\n",
    "samsung_tweet_pos_vectorized=cv.fit_transform(samsung_tweet_pos_words)"
   ]
  },
  {
   "cell_type": "code",
   "execution_count": 130,
   "metadata": {},
   "outputs": [
    {
     "data": {
      "text/plain": [
       "965"
      ]
     },
     "execution_count": 130,
     "metadata": {},
     "output_type": "execute_result"
    }
   ],
   "source": [
    "len(samsung_tweet_pos_words)"
   ]
  },
  {
   "cell_type": "code",
   "execution_count": 131,
   "metadata": {},
   "outputs": [
    {
     "name": "stdout",
     "output_type": "stream",
     "text": [
      "Best Model's Params:  {'learning_decay': 0.9, 'n_components': 2}\n",
      "Best Log Likelihood Score:  -1099.888524623874\n",
      "Model Perplexity:  58.92629617422572\n"
     ]
    }
   ],
   "source": [
    "# Define Search Param\n",
    "search_params = {'n_components': [2, 4, 6, 8, 10], 'learning_decay': [.5, .7, .9]}\n",
    "\n",
    "# Init the Model\n",
    "lda = LatentDirichletAllocation(max_iter=5, learning_method='online', learning_offset=50.,random_state=42)\n",
    "\n",
    "# Init Grid Search Class\n",
    "model = GridSearchCV(lda, param_grid=search_params)\n",
    "\n",
    "# Do the Grid Search\n",
    "model.fit(samsung_tweet_pos_vectorized)\n",
    "\n",
    "# Best Model\n",
    "best_lda_model = model.best_estimator_\n",
    "\n",
    "# Model Parameters\n",
    "print(\"Best Model's Params: \", model.best_params_)\n",
    "\n",
    "# Log Likelihood Score\n",
    "print(\"Best Log Likelihood Score: \", model.best_score_)\n",
    "\n",
    "# Perplexity\n",
    "print(\"Model Perplexity: \", best_lda_model.perplexity(samsung_tweet_pos_vectorized))"
   ]
  },
  {
   "cell_type": "code",
   "execution_count": 136,
   "metadata": {},
   "outputs": [
    {
     "data": {
      "text/plain": [
       "0    682\n",
       "1    283\n",
       "Name: dominant_topic, dtype: int64"
      ]
     },
     "execution_count": 136,
     "metadata": {},
     "output_type": "execute_result"
    }
   ],
   "source": [
    "# Create Document — Topic Matrix\n",
    "lda_output = best_lda_model.transform(samsung_tweet_pos_vectorized)\n",
    "\n",
    "# column names\n",
    "topicnames = ['Topic' + str(i) for i in range(best_lda_model.n_components)]\n",
    "\n",
    "# index names\n",
    "docnames = ['Doc' + str(i) for i in range(len(samsung_tweet_pos['text']))]\n",
    "\n",
    "# Make the pandas dataframe\n",
    "df_document_topic = pd.DataFrame(np.round(lda_output, 2), columns=topicnames, index=docnames)\n",
    "\n",
    "# Get dominant topic for each document\n",
    "dominant_topic = np.argmax(df_document_topic.values, axis=1)\n",
    "df_document_topic['dominant_topic'] = dominant_topic\n",
    "df_document_topic['dominant_topic'].value_counts()"
   ]
  },
  {
   "cell_type": "code",
   "execution_count": 137,
   "metadata": {},
   "outputs": [
    {
     "data": {
      "text/html": [
       "<div>\n",
       "<style scoped>\n",
       "    .dataframe tbody tr th:only-of-type {\n",
       "        vertical-align: middle;\n",
       "    }\n",
       "\n",
       "    .dataframe tbody tr th {\n",
       "        vertical-align: top;\n",
       "    }\n",
       "\n",
       "    .dataframe thead th {\n",
       "        text-align: right;\n",
       "    }\n",
       "</style>\n",
       "<table border=\"1\" class=\"dataframe\">\n",
       "  <thead>\n",
       "    <tr style=\"text-align: right;\">\n",
       "      <th></th>\n",
       "      <th>android</th>\n",
       "      <th>app</th>\n",
       "      <th>best</th>\n",
       "      <th>bought</th>\n",
       "      <th>buy</th>\n",
       "      <th>camera</th>\n",
       "      <th>channel</th>\n",
       "      <th>device</th>\n",
       "      <th>fan</th>\n",
       "      <th>free</th>\n",
       "      <th>...</th>\n",
       "      <th>super</th>\n",
       "      <th>support</th>\n",
       "      <th>tablet</th>\n",
       "      <th>teejaye</th>\n",
       "      <th>tell</th>\n",
       "      <th>though</th>\n",
       "      <th>ultra</th>\n",
       "      <th>user</th>\n",
       "      <th>work</th>\n",
       "      <th>year</th>\n",
       "    </tr>\n",
       "  </thead>\n",
       "  <tbody>\n",
       "    <tr>\n",
       "      <th>Topic0</th>\n",
       "      <td>17.733616</td>\n",
       "      <td>11.690529</td>\n",
       "      <td>8.926025</td>\n",
       "      <td>5.857205</td>\n",
       "      <td>11.175972</td>\n",
       "      <td>13.071953</td>\n",
       "      <td>0.900768</td>\n",
       "      <td>7.535584</td>\n",
       "      <td>7.223285</td>\n",
       "      <td>0.951122</td>\n",
       "      <td>...</td>\n",
       "      <td>2.207602</td>\n",
       "      <td>6.017030</td>\n",
       "      <td>6.538425</td>\n",
       "      <td>5.644857</td>\n",
       "      <td>5.620523</td>\n",
       "      <td>2.288227</td>\n",
       "      <td>1.438224</td>\n",
       "      <td>12.094725</td>\n",
       "      <td>11.373392</td>\n",
       "      <td>12.074274</td>\n",
       "    </tr>\n",
       "    <tr>\n",
       "      <th>Topic1</th>\n",
       "      <td>1.700982</td>\n",
       "      <td>7.400408</td>\n",
       "      <td>6.247578</td>\n",
       "      <td>1.616798</td>\n",
       "      <td>1.963529</td>\n",
       "      <td>1.710648</td>\n",
       "      <td>17.631742</td>\n",
       "      <td>1.479736</td>\n",
       "      <td>2.326615</td>\n",
       "      <td>9.698232</td>\n",
       "      <td>...</td>\n",
       "      <td>5.254587</td>\n",
       "      <td>1.374279</td>\n",
       "      <td>2.038070</td>\n",
       "      <td>1.290769</td>\n",
       "      <td>2.356971</td>\n",
       "      <td>5.263529</td>\n",
       "      <td>7.832247</td>\n",
       "      <td>1.412894</td>\n",
       "      <td>1.503271</td>\n",
       "      <td>2.621958</td>\n",
       "    </tr>\n",
       "  </tbody>\n",
       "</table>\n",
       "<p>2 rows × 59 columns</p>\n",
       "</div>"
      ],
      "text/plain": [
       "          android        app      best    bought        buy     camera  \\\n",
       "Topic0  17.733616  11.690529  8.926025  5.857205  11.175972  13.071953   \n",
       "Topic1   1.700982   7.400408  6.247578  1.616798   1.963529   1.710648   \n",
       "\n",
       "          channel    device       fan      free  ...     super   support  \\\n",
       "Topic0   0.900768  7.535584  7.223285  0.951122  ...  2.207602  6.017030   \n",
       "Topic1  17.631742  1.479736  2.326615  9.698232  ...  5.254587  1.374279   \n",
       "\n",
       "          tablet   teejaye      tell    though     ultra       user  \\\n",
       "Topic0  6.538425  5.644857  5.620523  2.288227  1.438224  12.094725   \n",
       "Topic1  2.038070  1.290769  2.356971  5.263529  7.832247   1.412894   \n",
       "\n",
       "             work       year  \n",
       "Topic0  11.373392  12.074274  \n",
       "Topic1   1.503271   2.621958  \n",
       "\n",
       "[2 rows x 59 columns]"
      ]
     },
     "execution_count": 137,
     "metadata": {},
     "output_type": "execute_result"
    }
   ],
   "source": [
    "# Topic-Keyword Matrix\n",
    "df_topic_keywords_samsung_pos = pd.DataFrame(best_lda_model.components_)\n",
    "\n",
    "# Assign Column and Index\n",
    "df_topic_keywords_samsung_pos.columns = cv.get_feature_names()\n",
    "df_topic_keywords_samsung_pos.index = topicnames\n",
    "\n",
    "# View\n",
    "df_topic_keywords_samsung_pos.head()"
   ]
  },
  {
   "cell_type": "code",
   "execution_count": 139,
   "metadata": {},
   "outputs": [
    {
     "data": {
      "text/html": [
       "<div>\n",
       "<style scoped>\n",
       "    .dataframe tbody tr th:only-of-type {\n",
       "        vertical-align: middle;\n",
       "    }\n",
       "\n",
       "    .dataframe tbody tr th {\n",
       "        vertical-align: top;\n",
       "    }\n",
       "\n",
       "    .dataframe thead th {\n",
       "        text-align: right;\n",
       "    }\n",
       "</style>\n",
       "<table border=\"1\" class=\"dataframe\">\n",
       "  <thead>\n",
       "    <tr style=\"text-align: right;\">\n",
       "      <th></th>\n",
       "      <th>Word 0</th>\n",
       "      <th>Word 1</th>\n",
       "      <th>Word 2</th>\n",
       "      <th>Word 3</th>\n",
       "      <th>Word 4</th>\n",
       "      <th>Word 5</th>\n",
       "      <th>Word 6</th>\n",
       "      <th>Word 7</th>\n",
       "      <th>Word 8</th>\n",
       "      <th>Word 9</th>\n",
       "      <th>Word 10</th>\n",
       "      <th>Word 11</th>\n",
       "      <th>Word 12</th>\n",
       "      <th>Word 13</th>\n",
       "      <th>Word 14</th>\n",
       "    </tr>\n",
       "  </thead>\n",
       "  <tbody>\n",
       "    <tr>\n",
       "      <th>Topic 0</th>\n",
       "      <td>phone</td>\n",
       "      <td>iphone</td>\n",
       "      <td>note</td>\n",
       "      <td>android</td>\n",
       "      <td>oneplus</td>\n",
       "      <td>pretty</td>\n",
       "      <td>camera</td>\n",
       "      <td>screen</td>\n",
       "      <td>user</td>\n",
       "      <td>year</td>\n",
       "      <td>app</td>\n",
       "      <td>work</td>\n",
       "      <td>samsungmobileus</td>\n",
       "      <td>buy</td>\n",
       "      <td>price</td>\n",
       "    </tr>\n",
       "    <tr>\n",
       "      <th>Topic 1</th>\n",
       "      <td>galaxy</td>\n",
       "      <td>smart</td>\n",
       "      <td>play</td>\n",
       "      <td>channel</td>\n",
       "      <td>new</td>\n",
       "      <td>pakistani</td>\n",
       "      <td>help</td>\n",
       "      <td>free</td>\n",
       "      <td>lite</td>\n",
       "      <td>ultra</td>\n",
       "      <td>going</td>\n",
       "      <td>plz</td>\n",
       "      <td>pakistan</td>\n",
       "      <td>guy</td>\n",
       "      <td>app</td>\n",
       "    </tr>\n",
       "  </tbody>\n",
       "</table>\n",
       "</div>"
      ],
      "text/plain": [
       "         Word 0  Word 1 Word 2   Word 3   Word 4     Word 5  Word 6  Word 7  \\\n",
       "Topic 0   phone  iphone   note  android  oneplus     pretty  camera  screen   \n",
       "Topic 1  galaxy   smart   play  channel      new  pakistani    help    free   \n",
       "\n",
       "        Word 8 Word 9 Word 10 Word 11          Word 12 Word 13 Word 14  \n",
       "Topic 0   user   year     app    work  samsungmobileus     buy   price  \n",
       "Topic 1   lite  ultra   going     plz         pakistan     guy     app  "
      ]
     },
     "execution_count": 139,
     "metadata": {},
     "output_type": "execute_result"
    }
   ],
   "source": [
    "#Show top keywords\n",
    "topic_keywords_samsung_pos = show_topics(vectorizer=cv, lda_model=best_lda_model, n_words=15)\n",
    "\n",
    "# Topic - Keywords Dataframe\n",
    "df_topic_keywords_samsung_pos = pd.DataFrame(topic_keywords_samsung_pos)\n",
    "df_topic_keywords_samsung_pos.columns = ['Word '+str(i) for i in range(df_topic_keywords_samsung_pos.shape[1])]\n",
    "df_topic_keywords_samsung_pos.index = ['Topic '+str(i) for i in range(df_topic_keywords_samsung_pos.shape[0])]\n",
    "\n",
    "# Manually assign topics\n",
    "#df_topic_keywords_samsung_neg['Topics']=['China communist party', 'China-US']\n",
    "df_topic_keywords_samsung_pos"
   ]
  },
  {
   "cell_type": "code",
   "execution_count": null,
   "metadata": {},
   "outputs": [],
   "source": []
  },
  {
   "cell_type": "code",
   "execution_count": null,
   "metadata": {},
   "outputs": [],
   "source": []
  }
 ],
 "metadata": {
  "kernelspec": {
   "display_name": "Python 3",
   "language": "python",
   "name": "python3"
  },
  "language_info": {
   "codemirror_mode": {
    "name": "ipython",
    "version": 3
   },
   "file_extension": ".py",
   "mimetype": "text/x-python",
   "name": "python",
   "nbconvert_exporter": "python",
   "pygments_lexer": "ipython3",
   "version": "3.7.3"
  }
 },
 "nbformat": 4,
 "nbformat_minor": 4
}
