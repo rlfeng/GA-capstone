{
 "cells": [
  {
   "cell_type": "markdown",
   "metadata": {},
   "source": [
    "# Capstone Project: Social media sentiment analysis \n",
    "## [Case study: Samsung] \n",
    "## Part 1: Data collection"
   ]
  },
  {
   "attachments": {},
   "cell_type": "markdown",
   "metadata": {},
   "source": [
    "# Problem Statement\n",
    "The project aims to gather and analyze consumers’ feedback on the company’s brand, products and advertisement to improve the marketing strategy.\n",
    "\n",
    "Traditional metrics focus on quantity (number of views, clicks, comments, shares, etc. While companies may achieve solid metrics, it may not always means that the product is well received.\n",
    "\n",
    "Sentiment analysis goes beyond quantitative data to the quality of the interactions between the public and brands: \n",
    "\n",
    "1) Sentiment analysis provides invaluable marketing intel \n",
    "\n",
    "2) A crucial part of market research \n",
    "\n",
    "3) A revolution in customer support\n"
   ]
  },
  {
   "cell_type": "code",
   "execution_count": 2,
   "metadata": {},
   "outputs": [],
   "source": [
    "# Import libraries\n",
    "import requests\n",
    "import json\n",
    "import pandas as pd\n",
    "import numpy as np\n",
    "import time\n",
    "import random\n",
    "import re\n",
    "import csv\n"
   ]
  },
  {
   "cell_type": "markdown",
   "metadata": {},
   "source": [
    "# API Keys"
   ]
  },
  {
   "cell_type": "code",
   "execution_count": 24,
   "metadata": {},
   "outputs": [],
   "source": [
    "# Twitter API key\n",
    "consumer_key = 'oVpj4M6GQckJDTZa87oPY0Mdg'\n",
    "consumer_secret = 'obpbbazaSN95Lp7Ky09mwkzj3fSPOS3HPeBAAhkHtt9OWsMs6j'\n",
    "access_token = '1239364349958881280-z46PW4AcYu8NlzCekaRpfHCli1t5tQ'\n",
    "access_secret ='W0Vigpzib7zTa7q5L83ciX10i57BItDaXNGaMMS8TAXhZ'\n",
    "\n",
    "import tweepy \n",
    "from tweepy import OAuthHandler\n",
    "\n",
    "auth = OAuthHandler(consumer_key, consumer_secret)\n",
    "auth.set_access_token(access_token, access_secret)\n",
    "\n",
    "api = tweepy.API(auth)"
   ]
  },
  {
   "cell_type": "markdown",
   "metadata": {},
   "source": [
    "# Gather twitter comments on Samsung, Apple and Huawei"
   ]
  },
  {
   "cell_type": "code",
   "execution_count": 46,
   "metadata": {},
   "outputs": [
    {
     "name": "stdout",
     "output_type": "stream",
     "text": [
      "2500\n"
     ]
    }
   ],
   "source": [
    "# Collect the latest 2500 tweets with the word 'Samsung'\n",
    "tw_samsung = []\n",
    "\n",
    "for tweet in tweepy.Cursor(api.search, q=\"Samsung -filter:retweets AND - filter:replies\", lang=\"en\", result_type=\"recent\", include_entities=True).items(2500): \n",
    "    tw_samsung.append(tweet) \n",
    "    \n",
    "print (len(tw_samsung)) "
   ]
  },
  {
   "cell_type": "code",
   "execution_count": 22,
   "metadata": {},
   "outputs": [
    {
     "name": "stdout",
     "output_type": "stream",
     "text": [
      "2500\n"
     ]
    }
   ],
   "source": [
    "# Collect the latest 2500 tweets with the word 'Apple'\n",
    "tw_apple = []\n",
    "\n",
    "for tweet in tweepy.Cursor(api.search, q=\"Apple -filter:retweets AND - filter:replies\", lang=\"en\", result_type=\"recent\", include_entities=True).items(2500): \n",
    "    tw_apple.append(tweet) \n",
    "    \n",
    "print (len(tw_apple)) "
   ]
  },
  {
   "cell_type": "code",
   "execution_count": 18,
   "metadata": {},
   "outputs": [
    {
     "name": "stdout",
     "output_type": "stream",
     "text": [
      "2500\n"
     ]
    }
   ],
   "source": [
    "# Collect the latest 2500 tweets with the word 'Huawei'\n",
    "tw_huawei = []\n",
    "\n",
    "for tweet in tweepy.Cursor(api.search, q=\"Huawei -filter:retweets AND - filter:replies\", lang=\"en\", result_type=\"recent\", include_entities=True).items(2500): \n",
    "    tw_huawei.append(tweet) \n",
    "    \n",
    "print (len(tw_huawei)) "
   ]
  },
  {
   "cell_type": "code",
   "execution_count": 25,
   "metadata": {},
   "outputs": [],
   "source": [
    "# Create function to capture features in dataframe\n",
    "def process_results(results):\n",
    "    id_list = [tweet.id for tweet in results]\n",
    "    data_set = pd.DataFrame(id_list, columns = [\"id\"])\n",
    "    \n",
    "    # Collecting Tweet Data\n",
    "    data_set[\"text\"] = [tweet.text for tweet in results]\n",
    "    data_set[\"created_at\"] = [tweet.created_at for tweet in results]\n",
    "    data_set[\"retweet_count\"] = [tweet.retweet_count for tweet in results]\n",
    "    data_set[\"favorite_count\"] = [tweet.favorite_count for tweet in results]\n",
    "    data_set[\"source\"] = [tweet.source for tweet in results]\n",
    "\n",
    "    # Collecting User Data \n",
    "    data_set[\"user_id\"] = [tweet.author.id for tweet in results]\n",
    "    data_set[\"user_screen_name\"] = [tweet.author.screen_name for tweet in results]\n",
    "    data_set[\"user_name\"] = [tweet.author.name for tweet in results]\n",
    "    data_set[\"user_created_at\"] = [tweet.author.created_at for tweet in results]\n",
    "    data_set[\"user_description\"] = [tweet.author.description for tweet in results]\n",
    "    data_set[\"user_followers_count\"] = [tweet.author.followers_count for tweet in results]\n",
    "    data_set[\"user_friends_count\"] = [tweet.author.friends_count for tweet in results]\n",
    "    data_set[\"user_location\"] = [tweet.author.location for tweet in results]\n",
    "    \n",
    "    return data_set  "
   ]
  },
  {
   "cell_type": "code",
   "execution_count": 47,
   "metadata": {},
   "outputs": [],
   "source": [
    "# Create Samsung, Apple and Huawei Dataframes\n",
    "tweet_samsung=process_results(tw_samsung)\n",
    "tweet_apple=process_results(tw_apple)\n",
    "tweet_huawei=process_results(tw_huawei)"
   ]
  },
  {
   "cell_type": "code",
   "execution_count": 48,
   "metadata": {},
   "outputs": [
    {
     "data": {
      "text/html": [
       "<div>\n",
       "<style scoped>\n",
       "    .dataframe tbody tr th:only-of-type {\n",
       "        vertical-align: middle;\n",
       "    }\n",
       "\n",
       "    .dataframe tbody tr th {\n",
       "        vertical-align: top;\n",
       "    }\n",
       "\n",
       "    .dataframe thead th {\n",
       "        text-align: right;\n",
       "    }\n",
       "</style>\n",
       "<table border=\"1\" class=\"dataframe\">\n",
       "  <thead>\n",
       "    <tr style=\"text-align: right;\">\n",
       "      <th></th>\n",
       "      <th>id</th>\n",
       "      <th>text</th>\n",
       "      <th>created_at</th>\n",
       "      <th>retweet_count</th>\n",
       "      <th>favorite_count</th>\n",
       "      <th>source</th>\n",
       "      <th>user_id</th>\n",
       "      <th>user_screen_name</th>\n",
       "      <th>user_name</th>\n",
       "      <th>user_created_at</th>\n",
       "      <th>user_description</th>\n",
       "      <th>user_followers_count</th>\n",
       "      <th>user_friends_count</th>\n",
       "      <th>user_location</th>\n",
       "    </tr>\n",
       "  </thead>\n",
       "  <tbody>\n",
       "    <tr>\n",
       "      <th>0</th>\n",
       "      <td>1248090709548244992</td>\n",
       "      <td>@champagnefinest @realnickwilson @therealjuicy...</td>\n",
       "      <td>2020-04-09 03:29:48</td>\n",
       "      <td>0</td>\n",
       "      <td>0</td>\n",
       "      <td>Twitter for Android</td>\n",
       "      <td>795344175747268612</td>\n",
       "      <td>ArriMarie37263</td>\n",
       "      <td>Ol' Dirty ENBY🏳️‍🌈🇵🇷</td>\n",
       "      <td>2016-11-06 19:16:43</td>\n",
       "      <td>I am an Afro-Puerto Rican Non-binary, Bi-sexua...</td>\n",
       "      <td>535</td>\n",
       "      <td>1039</td>\n",
       "      <td>Neon Valley Street, Sector 9</td>\n",
       "    </tr>\n",
       "    <tr>\n",
       "      <th>1</th>\n",
       "      <td>1248090377862733826</td>\n",
       "      <td>@therealjuicyj That's not the real challenge. ...</td>\n",
       "      <td>2020-04-09 03:28:29</td>\n",
       "      <td>0</td>\n",
       "      <td>0</td>\n",
       "      <td>Twitter for Android</td>\n",
       "      <td>248209515</td>\n",
       "      <td>CEOofGreatness</td>\n",
       "      <td>THE G.O.A.T.™ 🐐</td>\n",
       "      <td>2011-02-06 14:05:44</td>\n",
       "      <td>KC Born &amp; Raised, Life, Bone and the Pursuit o...</td>\n",
       "      <td>964</td>\n",
       "      <td>2041</td>\n",
       "      <td>Kansas City, MO</td>\n",
       "    </tr>\n",
       "    <tr>\n",
       "      <th>2</th>\n",
       "      <td>1248090299219341312</td>\n",
       "      <td>@ZiniTevi Amazing app you guys have just want ...</td>\n",
       "      <td>2020-04-09 03:28:10</td>\n",
       "      <td>0</td>\n",
       "      <td>0</td>\n",
       "      <td>Twitter Web App</td>\n",
       "      <td>1213238109548077057</td>\n",
       "      <td>CesarLoya_</td>\n",
       "      <td>Cesar Loya</td>\n",
       "      <td>2020-01-03 23:18:10</td>\n",
       "      <td>Mind your own business</td>\n",
       "      <td>9</td>\n",
       "      <td>126</td>\n",
       "      <td></td>\n",
       "    </tr>\n",
       "    <tr>\n",
       "      <th>3</th>\n",
       "      <td>1248089863091564547</td>\n",
       "      <td>@__Daviann Check apple or Samsung when them op...</td>\n",
       "      <td>2020-04-09 03:26:26</td>\n",
       "      <td>0</td>\n",
       "      <td>0</td>\n",
       "      <td>Twitter for iPhone</td>\n",
       "      <td>61365781</td>\n",
       "      <td>romane1</td>\n",
       "      <td>Keemzz MISC</td>\n",
       "      <td>2009-07-30 02:28:32</td>\n",
       "      <td>Live simple(Y)</td>\n",
       "      <td>197</td>\n",
       "      <td>433</td>\n",
       "      <td>ÜT: 17.9663244,-76.7572738</td>\n",
       "    </tr>\n",
       "    <tr>\n",
       "      <th>4</th>\n",
       "      <td>1248089789426839558</td>\n",
       "      <td>@kcalvinalvinn @danhwang88 @LGUS @Ergotron @Ap...</td>\n",
       "      <td>2020-04-09 03:26:08</td>\n",
       "      <td>0</td>\n",
       "      <td>0</td>\n",
       "      <td>Twitter Web App</td>\n",
       "      <td>16089438</td>\n",
       "      <td>pascalpixel</td>\n",
       "      <td>Pascal Pixel</td>\n",
       "      <td>2008-09-01 23:15:27</td>\n",
       "      <td>Scientists say half my brain is a fabulous des...</td>\n",
       "      <td>5151</td>\n",
       "      <td>452</td>\n",
       "      <td>Seoul, Korea</td>\n",
       "    </tr>\n",
       "  </tbody>\n",
       "</table>\n",
       "</div>"
      ],
      "text/plain": [
       "                    id                                               text  \\\n",
       "0  1248090709548244992  @champagnefinest @realnickwilson @therealjuicy...   \n",
       "1  1248090377862733826  @therealjuicyj That's not the real challenge. ...   \n",
       "2  1248090299219341312  @ZiniTevi Amazing app you guys have just want ...   \n",
       "3  1248089863091564547  @__Daviann Check apple or Samsung when them op...   \n",
       "4  1248089789426839558  @kcalvinalvinn @danhwang88 @LGUS @Ergotron @Ap...   \n",
       "\n",
       "           created_at  retweet_count  favorite_count               source  \\\n",
       "0 2020-04-09 03:29:48              0               0  Twitter for Android   \n",
       "1 2020-04-09 03:28:29              0               0  Twitter for Android   \n",
       "2 2020-04-09 03:28:10              0               0      Twitter Web App   \n",
       "3 2020-04-09 03:26:26              0               0   Twitter for iPhone   \n",
       "4 2020-04-09 03:26:08              0               0      Twitter Web App   \n",
       "\n",
       "               user_id user_screen_name             user_name  \\\n",
       "0   795344175747268612   ArriMarie37263  Ol' Dirty ENBY🏳️‍🌈🇵🇷   \n",
       "1            248209515   CEOofGreatness       THE G.O.A.T.™ 🐐   \n",
       "2  1213238109548077057       CesarLoya_            Cesar Loya   \n",
       "3             61365781          romane1           Keemzz MISC   \n",
       "4             16089438      pascalpixel          Pascal Pixel   \n",
       "\n",
       "      user_created_at                                   user_description  \\\n",
       "0 2016-11-06 19:16:43  I am an Afro-Puerto Rican Non-binary, Bi-sexua...   \n",
       "1 2011-02-06 14:05:44  KC Born & Raised, Life, Bone and the Pursuit o...   \n",
       "2 2020-01-03 23:18:10                             Mind your own business   \n",
       "3 2009-07-30 02:28:32                                     Live simple(Y)   \n",
       "4 2008-09-01 23:15:27  Scientists say half my brain is a fabulous des...   \n",
       "\n",
       "   user_followers_count  user_friends_count                 user_location  \n",
       "0                   535                1039  Neon Valley Street, Sector 9  \n",
       "1                   964                2041              Kansas City, MO   \n",
       "2                     9                 126                                \n",
       "3                   197                 433    ÜT: 17.9663244,-76.7572738  \n",
       "4                  5151                 452                  Seoul, Korea  "
      ]
     },
     "execution_count": 48,
     "metadata": {},
     "output_type": "execute_result"
    }
   ],
   "source": [
    "tweet_samsung.head()"
   ]
  },
  {
   "cell_type": "code",
   "execution_count": 55,
   "metadata": {},
   "outputs": [],
   "source": [
    "# create a new column 'brand'\n",
    "tweet_samsung['brand']=0\n",
    "tweet_apple['brand']=1\n",
    "tweet_huawei['brand']=2"
   ]
  },
  {
   "cell_type": "code",
   "execution_count": 56,
   "metadata": {},
   "outputs": [],
   "source": [
    "# Combine all three twitter brands into one for ease of data cleaing\n",
    "tweet_combined=tweet_samsung.append([tweet_apple,tweet_huawei], ignore_index=True, sort=True)"
   ]
  },
  {
   "cell_type": "code",
   "execution_count": 53,
   "metadata": {},
   "outputs": [],
   "source": [
    "# Drop duplicated twitter texts \n",
    "tweet_combined.drop_duplicates(subset='text', inplace=True)"
   ]
  },
  {
   "cell_type": "code",
   "execution_count": 60,
   "metadata": {},
   "outputs": [
    {
     "data": {
      "text/plain": [
       "(7462, 15)"
      ]
     },
     "execution_count": 60,
     "metadata": {},
     "output_type": "execute_result"
    }
   ],
   "source": [
    "tweet_combined.shape"
   ]
  },
  {
   "cell_type": "code",
   "execution_count": 59,
   "metadata": {},
   "outputs": [],
   "source": [
    "# Save data as csv\n",
    "tweet_combined.to_csv('./dataset/tweet_combined.csv', index = False)"
   ]
  },
  {
   "cell_type": "markdown",
   "metadata": {},
   "source": [
    "## Data Cleaning"
   ]
  },
  {
   "cell_type": "code",
   "execution_count": 3,
   "metadata": {},
   "outputs": [],
   "source": [
    "# Call twitter data from Part 1\n",
    "tweet_combined=pd.read_csv('./dataset/tweet_combined.csv')"
   ]
  },
  {
   "cell_type": "code",
   "execution_count": 4,
   "metadata": {},
   "outputs": [],
   "source": [
    "# Remove twitter posts posted by Samsung official account as tweets made by company's official accounts can skrew the analysis.\n",
    "tweet_combined=tweet_combined[~tweet_combined.user_screen_name.str.contains(\"Samsung\")]"
   ]
  },
  {
   "cell_type": "code",
   "execution_count": 5,
   "metadata": {},
   "outputs": [],
   "source": [
    "# Tweets collected under the keyword 'apple' contained other definitions. \n",
    "# Following are a list of words irrelevant to Apple that are dropped from the tweets.\n",
    "tweet_combined=tweet_combined[~tweet_combined.text.str.contains(\"fruit\")]\n",
    "tweet_combined=tweet_combined[~tweet_combined.user_screen_name.str.contains(\"Tesco\")]\n",
    "tweet_combined=tweet_combined[~tweet_combined.text.str.contains(\"vinegar\")]\n",
    "tweet_combined=tweet_combined[~tweet_combined.text.str.contains(\"pie\")]\n",
    "tweet_combined=tweet_combined[~tweet_combined.text.str.contains(\"cider\")]\n",
    "tweet_combined=tweet_combined[~tweet_combined.text.str.contains(\"tree\")]\n",
    "tweet_combined=tweet_combined[~tweet_combined.text.str.contains(\"juice\")]\n",
    "tweet_combined=tweet_combined[~tweet_combined.text.str.contains(\"green\")]\n",
    "tweet_combined=tweet_combined[~tweet_combined.text.str.contains(\"healing\")]\n",
    "tweet_combined=tweet_combined[~tweet_combined.text.str.contains(\"baby\")]"
   ]
  },
  {
   "cell_type": "code",
   "execution_count": 6,
   "metadata": {},
   "outputs": [],
   "source": [
    "# Remove twitter posts posted by Huawei official account\n",
    "tweet_combined=tweet_combined[~tweet_combined.user_screen_name.str.contains(\"Huawei\")]"
   ]
  },
  {
   "cell_type": "code",
   "execution_count": 7,
   "metadata": {},
   "outputs": [
    {
     "data": {
      "text/plain": [
       "(7053, 15)"
      ]
     },
     "execution_count": 7,
     "metadata": {},
     "output_type": "execute_result"
    }
   ],
   "source": [
    "# 409 official and irrelevant tweets were removed\n",
    "tweet_combined.shape"
   ]
  },
  {
   "cell_type": "code",
   "execution_count": 8,
   "metadata": {},
   "outputs": [
    {
     "data": {
      "text/plain": [
       "0    2438\n",
       "2    2404\n",
       "1    2211\n",
       "Name: brand, dtype: int64"
      ]
     },
     "execution_count": 8,
     "metadata": {},
     "output_type": "execute_result"
    }
   ],
   "source": [
    "# 0 is Samsung. 1 is Apple and 2 is Huawei.\n",
    "tweet_combined['brand'].value_counts()"
   ]
  },
  {
   "cell_type": "code",
   "execution_count": 9,
   "metadata": {},
   "outputs": [
    {
     "data": {
      "text/plain": [
       "brand                      0\n",
       "created_at                 0\n",
       "favorite_count             0\n",
       "id                         0\n",
       "retweet_count              0\n",
       "source                     0\n",
       "text                       0\n",
       "user_created_at            0\n",
       "user_description        1171\n",
       "user_followers_count       0\n",
       "user_friends_count         0\n",
       "user_id                    0\n",
       "user_location           2307\n",
       "user_name                  0\n",
       "user_screen_name           0\n",
       "dtype: int64"
      ]
     },
     "execution_count": 9,
     "metadata": {},
     "output_type": "execute_result"
    }
   ],
   "source": [
    "tweet_combined.isnull().sum()"
   ]
  },
  {
   "cell_type": "code",
   "execution_count": 10,
   "metadata": {},
   "outputs": [
    {
     "data": {
      "text/plain": [
       "Index(['Canada', 'United States', 'Pakistan', 'England, United Kingdom',\n",
       "       'India', 'California, USA', 'London, England', 'London',\n",
       "       'Los Angeles, CA', 'Nigeria', 'United Kingdom', 'Toronto, Ontario',\n",
       "       'Lagos, Nigeria', 'Ontario, Canada', 'San Francisco, CA', 'Florida',\n",
       "       'Lyon, France', 'South Africa', 'UK', 'Karachi, Pakistan', 'USA',\n",
       "       'Hong Kong', 'Abuja, Nigeria', 'Lahore, Pakistan',\n",
       "       'Islamabad, Pakistan', 'Australia', 'Florida, USA', 'New York, USA',\n",
       "       'Chicago, IL', 'Punjab, Pakistan', 'Earth', 'Seattle, WA',\n",
       "       'Kampala, Uganda', 'Johannesburg, South Africa', 'Hyderabad, India',\n",
       "       'Indonesia', 'Texas, USA', 'Ottawa, Ontario', 'Toronto',\n",
       "       'Washington, DC', 'Atlanta, GA', 'New York/New Jersey', 'Dallas, TX',\n",
       "       'South East, England', 'England', 'Manchester, England', 'Germany',\n",
       "       'Alberta, Canada', 'Scotland, United Kingdom', 'Deutschland'],\n",
       "      dtype='object')"
      ]
     },
     "execution_count": 10,
     "metadata": {},
     "output_type": "execute_result"
    }
   ],
   "source": [
    "# User location has 2719 unique input and 2307 missing input. \n",
    "tweet_combined['user_location'].value_counts().sort_values(ascending=False).index[:50]"
   ]
  },
  {
   "cell_type": "markdown",
   "metadata": {},
   "source": [
    "User location indicates that majority of the tweets came from US and Europe, and few came from China. This may be due to Twitter's ban in China. Therefore, the comments and sentiments collected may be more US/Europe-centric. Given the large amount of missing data, the location column is excluded."
   ]
  },
  {
   "cell_type": "code",
   "execution_count": 11,
   "metadata": {},
   "outputs": [],
   "source": [
    "# Dropped user description and user location due to difficulty in imputing meaningful values.\n",
    "tweet_combined.drop(columns=['user_description','user_location'],inplace=True)"
   ]
  },
  {
   "cell_type": "code",
   "execution_count": 12,
   "metadata": {},
   "outputs": [
    {
     "data": {
      "text/plain": [
       "(7053, 13)"
      ]
     },
     "execution_count": 12,
     "metadata": {},
     "output_type": "execute_result"
    }
   ],
   "source": [
    "tweet_combined.shape"
   ]
  },
  {
   "cell_type": "code",
   "execution_count": 13,
   "metadata": {},
   "outputs": [],
   "source": [
    "# Cleaned version 1\n",
    "tweet_combined.to_csv('./dataset/tweet_combined_clean_v1.csv', index = False)"
   ]
  },
  {
   "cell_type": "code",
   "execution_count": null,
   "metadata": {},
   "outputs": [],
   "source": []
  }
 ],
 "metadata": {
  "kernelspec": {
   "display_name": "Python 3",
   "language": "python",
   "name": "python3"
  },
  "language_info": {
   "codemirror_mode": {
    "name": "ipython",
    "version": 3
   },
   "file_extension": ".py",
   "mimetype": "text/x-python",
   "name": "python",
   "nbconvert_exporter": "python",
   "pygments_lexer": "ipython3",
   "version": "3.7.3"
  }
 },
 "nbformat": 4,
 "nbformat_minor": 4
}
